{
 "cells": [
  {
   "cell_type": "code",
   "execution_count": 2,
   "metadata": {},
   "outputs": [],
   "source": [
    "import pandas as pd\n",
    "from pandas_datareader.data import DataReader\n",
    "import matplotlib.pyplot as plt\n",
    "import numpy as np\n",
    "from datetime import date\n",
    "%matplotlib inline \n",
    "pd.set_option(\"precision\", 3)"
   ]
  },
  {
   "cell_type": "code",
   "execution_count": 3,
   "metadata": {},
   "outputs": [
    {
     "output_type": "stream",
     "name": "stdout",
     "text": [
      "100.33000000000058\n"
     ]
    }
   ],
   "source": [
    "#CARGAR ACTIVOS Y FECHAS\n",
    "\n",
    "start = date(2020, 1, 1) #poner fecha inicial\n",
    "end = date(2021, 1, 1) #poner fecha final\n",
    "\n",
    "bench1 = \"AGG\"\n",
    "bench2 = \"ACWI\"\n",
    "\n",
    "bench = [bench1, bench2]\n",
    "\n",
    "ticker1 = \"VCSH\"\n",
    "ticker2 = \"HYG\"\n",
    "ticker3 = \"LQD\"\n",
    "ticker4 = \"AGG\"\n",
    "ticker5 = \"VCIT\"\n",
    "ticker6 = \"ANGL\"\n",
    "ticker7 = \"ACWI\"\n",
    "ticker8 = \"MOAT\"\n",
    "ticker9 = \"EFA\"\n",
    "ticker10 = \"SPY\"\n",
    "ticker11 = \"SPHQ\"\n",
    "ticker12 = \"EEM\"\n",
    "ticker13 = \"XLF\"\n",
    "ticker14 = \"EMQQ\"\n",
    "ticker15 = \"VB\"\n",
    "ticker16 = \"CEF\"\n",
    "\n",
    "\n",
    "tickers = [ticker1, ticker2, ticker3, ticker4, ticker5, ticker6, ticker7, ticker8, ticker9, \n",
    "           ticker10, ticker11, ticker12, ticker13, ticker14, ticker15, ticker16]\n",
    "\n",
    "weight1 = 0.266\n",
    "weight2 = 0.0573\n",
    "weight3 = 0.0562\n",
    "weight4 = 0.0431\n",
    "weight5 = 0.0413\n",
    "weight6 = 0.0411\n",
    "weight7 = 0.1041\n",
    "weight8 = 0.0978\n",
    "weight9 = 0.07\n",
    "weight10 = 0.0609\n",
    "weight11 = 0.0453\n",
    "weight12 = 0.0379\n",
    "weight13 = 0.0156\n",
    "weight14 = 0.0123\n",
    "weight15 = 0.0103\n",
    "weight16 = 0.0408\n",
    "\n",
    "weights = [weight1, weight2, weight3, weight4, weight5, weight6, weight7, weight8, weight9, weight10,\n",
    "          weight11, weight12, weight13, weight13, weight15, weight16]\n",
    "\n",
    "weight_RF = 0.5\n",
    "weight_RV = 0.5\n",
    "\n",
    "bench_weights = [weight_RF, weight_RV]\n",
    "\n",
    "print(sum(weights*100))"
   ]
  },
  {
   "cell_type": "code",
   "execution_count": 4,
   "metadata": {},
   "outputs": [
    {
     "output_type": "execute_result",
     "data": {
      "text/plain": [
       "Symbols       VCSH     HYG      LQD      AGG    VCIT    ANGL    ACWI    MOAT  \\\n",
       "Date                                                                           \n",
       "2020-01-02  78.750  82.754  123.755  109.578  88.218  28.018  78.787  54.482   \n",
       "2020-01-03  78.857  82.670  124.180  109.899  88.469  28.074  78.108  54.166   \n",
       "2020-01-06  78.915  82.586  123.765  109.812  88.411  27.999  78.286  54.344   \n",
       "2020-01-07  78.827  82.511  123.446  109.695  88.344  28.056  78.089  54.363   \n",
       "2020-01-08  78.779  82.586  123.273  109.569  88.286  28.056  78.473  54.472   \n",
       "...            ...     ...      ...      ...     ...     ...     ...     ...   \n",
       "2020-12-24  82.662  85.843  136.685  117.248  96.178  31.556  89.590  61.500   \n",
       "2020-12-28  82.692  85.951  136.774  117.268  96.198  31.606  90.180  61.570   \n",
       "2020-12-29  82.742  85.843  136.834  117.287  96.267  31.583  90.360  61.580   \n",
       "2020-12-30  82.791  86.020  137.012  117.357  96.416  31.642  90.660  61.750   \n",
       "2020-12-31  82.791  86.089  137.042  117.446  96.436  31.652  90.720  62.000   \n",
       "\n",
       "Symbols        EFA      SPY    SPHQ     EEM     XLF    EMQQ       VB    CEF  \n",
       "Date                                                                         \n",
       "2020-01-02  68.493  317.873  36.219  45.050  30.160  36.802  163.175  14.76  \n",
       "2020-01-03  67.644  315.466  35.925  44.214  29.839  36.253  162.585  14.88  \n",
       "2020-01-06  67.907  316.670  35.994  44.105  29.820  36.322  162.802  15.08  \n",
       "2020-01-07  67.722  315.779  35.866  44.076  29.626  36.792  162.438  15.17  \n",
       "2020-01-08  67.917  317.462  36.062  44.332  29.820  36.881  162.959  15.02  \n",
       "...            ...      ...     ...     ...     ...     ...      ...    ...  \n",
       "2020-12-24  72.360  367.795  41.343  50.130  28.822  61.286  195.357  19.01  \n",
       "2020-12-28  72.950  370.955  41.552  50.270  28.962  60.010  194.390  19.13  \n",
       "2020-12-29  73.420  370.247  41.592  51.020  28.862  61.900  192.265  19.10  \n",
       "2020-12-30  73.520  370.776  41.722  51.700  28.992  64.160  194.280  19.28  \n",
       "2020-12-31  72.960  372.659  41.971  51.670  29.350  63.580  194.150  19.35  \n",
       "\n",
       "[253 rows x 16 columns]"
      ],
      "text/html": "<div>\n<style scoped>\n    .dataframe tbody tr th:only-of-type {\n        vertical-align: middle;\n    }\n\n    .dataframe tbody tr th {\n        vertical-align: top;\n    }\n\n    .dataframe thead th {\n        text-align: right;\n    }\n</style>\n<table border=\"1\" class=\"dataframe\">\n  <thead>\n    <tr style=\"text-align: right;\">\n      <th>Symbols</th>\n      <th>VCSH</th>\n      <th>HYG</th>\n      <th>LQD</th>\n      <th>AGG</th>\n      <th>VCIT</th>\n      <th>ANGL</th>\n      <th>ACWI</th>\n      <th>MOAT</th>\n      <th>EFA</th>\n      <th>SPY</th>\n      <th>SPHQ</th>\n      <th>EEM</th>\n      <th>XLF</th>\n      <th>EMQQ</th>\n      <th>VB</th>\n      <th>CEF</th>\n    </tr>\n    <tr>\n      <th>Date</th>\n      <th></th>\n      <th></th>\n      <th></th>\n      <th></th>\n      <th></th>\n      <th></th>\n      <th></th>\n      <th></th>\n      <th></th>\n      <th></th>\n      <th></th>\n      <th></th>\n      <th></th>\n      <th></th>\n      <th></th>\n      <th></th>\n    </tr>\n  </thead>\n  <tbody>\n    <tr>\n      <th>2020-01-02</th>\n      <td>78.750</td>\n      <td>82.754</td>\n      <td>123.755</td>\n      <td>109.578</td>\n      <td>88.218</td>\n      <td>28.018</td>\n      <td>78.787</td>\n      <td>54.482</td>\n      <td>68.493</td>\n      <td>317.873</td>\n      <td>36.219</td>\n      <td>45.050</td>\n      <td>30.160</td>\n      <td>36.802</td>\n      <td>163.175</td>\n      <td>14.76</td>\n    </tr>\n    <tr>\n      <th>2020-01-03</th>\n      <td>78.857</td>\n      <td>82.670</td>\n      <td>124.180</td>\n      <td>109.899</td>\n      <td>88.469</td>\n      <td>28.074</td>\n      <td>78.108</td>\n      <td>54.166</td>\n      <td>67.644</td>\n      <td>315.466</td>\n      <td>35.925</td>\n      <td>44.214</td>\n      <td>29.839</td>\n      <td>36.253</td>\n      <td>162.585</td>\n      <td>14.88</td>\n    </tr>\n    <tr>\n      <th>2020-01-06</th>\n      <td>78.915</td>\n      <td>82.586</td>\n      <td>123.765</td>\n      <td>109.812</td>\n      <td>88.411</td>\n      <td>27.999</td>\n      <td>78.286</td>\n      <td>54.344</td>\n      <td>67.907</td>\n      <td>316.670</td>\n      <td>35.994</td>\n      <td>44.105</td>\n      <td>29.820</td>\n      <td>36.322</td>\n      <td>162.802</td>\n      <td>15.08</td>\n    </tr>\n    <tr>\n      <th>2020-01-07</th>\n      <td>78.827</td>\n      <td>82.511</td>\n      <td>123.446</td>\n      <td>109.695</td>\n      <td>88.344</td>\n      <td>28.056</td>\n      <td>78.089</td>\n      <td>54.363</td>\n      <td>67.722</td>\n      <td>315.779</td>\n      <td>35.866</td>\n      <td>44.076</td>\n      <td>29.626</td>\n      <td>36.792</td>\n      <td>162.438</td>\n      <td>15.17</td>\n    </tr>\n    <tr>\n      <th>2020-01-08</th>\n      <td>78.779</td>\n      <td>82.586</td>\n      <td>123.273</td>\n      <td>109.569</td>\n      <td>88.286</td>\n      <td>28.056</td>\n      <td>78.473</td>\n      <td>54.472</td>\n      <td>67.917</td>\n      <td>317.462</td>\n      <td>36.062</td>\n      <td>44.332</td>\n      <td>29.820</td>\n      <td>36.881</td>\n      <td>162.959</td>\n      <td>15.02</td>\n    </tr>\n    <tr>\n      <th>...</th>\n      <td>...</td>\n      <td>...</td>\n      <td>...</td>\n      <td>...</td>\n      <td>...</td>\n      <td>...</td>\n      <td>...</td>\n      <td>...</td>\n      <td>...</td>\n      <td>...</td>\n      <td>...</td>\n      <td>...</td>\n      <td>...</td>\n      <td>...</td>\n      <td>...</td>\n      <td>...</td>\n    </tr>\n    <tr>\n      <th>2020-12-24</th>\n      <td>82.662</td>\n      <td>85.843</td>\n      <td>136.685</td>\n      <td>117.248</td>\n      <td>96.178</td>\n      <td>31.556</td>\n      <td>89.590</td>\n      <td>61.500</td>\n      <td>72.360</td>\n      <td>367.795</td>\n      <td>41.343</td>\n      <td>50.130</td>\n      <td>28.822</td>\n      <td>61.286</td>\n      <td>195.357</td>\n      <td>19.01</td>\n    </tr>\n    <tr>\n      <th>2020-12-28</th>\n      <td>82.692</td>\n      <td>85.951</td>\n      <td>136.774</td>\n      <td>117.268</td>\n      <td>96.198</td>\n      <td>31.606</td>\n      <td>90.180</td>\n      <td>61.570</td>\n      <td>72.950</td>\n      <td>370.955</td>\n      <td>41.552</td>\n      <td>50.270</td>\n      <td>28.962</td>\n      <td>60.010</td>\n      <td>194.390</td>\n      <td>19.13</td>\n    </tr>\n    <tr>\n      <th>2020-12-29</th>\n      <td>82.742</td>\n      <td>85.843</td>\n      <td>136.834</td>\n      <td>117.287</td>\n      <td>96.267</td>\n      <td>31.583</td>\n      <td>90.360</td>\n      <td>61.580</td>\n      <td>73.420</td>\n      <td>370.247</td>\n      <td>41.592</td>\n      <td>51.020</td>\n      <td>28.862</td>\n      <td>61.900</td>\n      <td>192.265</td>\n      <td>19.10</td>\n    </tr>\n    <tr>\n      <th>2020-12-30</th>\n      <td>82.791</td>\n      <td>86.020</td>\n      <td>137.012</td>\n      <td>117.357</td>\n      <td>96.416</td>\n      <td>31.642</td>\n      <td>90.660</td>\n      <td>61.750</td>\n      <td>73.520</td>\n      <td>370.776</td>\n      <td>41.722</td>\n      <td>51.700</td>\n      <td>28.992</td>\n      <td>64.160</td>\n      <td>194.280</td>\n      <td>19.28</td>\n    </tr>\n    <tr>\n      <th>2020-12-31</th>\n      <td>82.791</td>\n      <td>86.089</td>\n      <td>137.042</td>\n      <td>117.446</td>\n      <td>96.436</td>\n      <td>31.652</td>\n      <td>90.720</td>\n      <td>62.000</td>\n      <td>72.960</td>\n      <td>372.659</td>\n      <td>41.971</td>\n      <td>51.670</td>\n      <td>29.350</td>\n      <td>63.580</td>\n      <td>194.150</td>\n      <td>19.35</td>\n    </tr>\n  </tbody>\n</table>\n<p>253 rows × 16 columns</p>\n</div>"
     },
     "metadata": {},
     "execution_count": 4
    }
   ],
   "source": [
    "\n",
    "datos = DataReader(tickers, \"yahoo\", start, end)\n",
    "datos_bench = DataReader(bench, \"yahoo\", start, end)\n",
    "datos = datos[\"Adj Close\"]\n",
    "datos_bench = datos_bench[\"Adj Close\"]\n",
    "data = pd.DataFrame()\n",
    "#datos_bench.head()\n",
    "datos"
   ]
  },
  {
   "cell_type": "code",
   "execution_count": 5,
   "metadata": {},
   "outputs": [
    {
     "output_type": "execute_result",
     "data": {
      "text/plain": [
       "Symbols           AGG   ACWI\n",
       "Date                        \n",
       "2020-01-03  2.929e-03 -0.009\n",
       "2020-01-06 -7.966e-04  0.002\n",
       "2020-01-07 -1.063e-03 -0.003\n",
       "2020-01-08 -1.153e-03  0.005\n",
       "2020-01-09  1.065e-03  0.006"
      ],
      "text/html": "<div>\n<style scoped>\n    .dataframe tbody tr th:only-of-type {\n        vertical-align: middle;\n    }\n\n    .dataframe tbody tr th {\n        vertical-align: top;\n    }\n\n    .dataframe thead th {\n        text-align: right;\n    }\n</style>\n<table border=\"1\" class=\"dataframe\">\n  <thead>\n    <tr style=\"text-align: right;\">\n      <th>Symbols</th>\n      <th>AGG</th>\n      <th>ACWI</th>\n    </tr>\n    <tr>\n      <th>Date</th>\n      <th></th>\n      <th></th>\n    </tr>\n  </thead>\n  <tbody>\n    <tr>\n      <th>2020-01-03</th>\n      <td>2.929e-03</td>\n      <td>-0.009</td>\n    </tr>\n    <tr>\n      <th>2020-01-06</th>\n      <td>-7.966e-04</td>\n      <td>0.002</td>\n    </tr>\n    <tr>\n      <th>2020-01-07</th>\n      <td>-1.063e-03</td>\n      <td>-0.003</td>\n    </tr>\n    <tr>\n      <th>2020-01-08</th>\n      <td>-1.153e-03</td>\n      <td>0.005</td>\n    </tr>\n    <tr>\n      <th>2020-01-09</th>\n      <td>1.065e-03</td>\n      <td>0.006</td>\n    </tr>\n  </tbody>\n</table>\n</div>"
     },
     "metadata": {},
     "execution_count": 5
    }
   ],
   "source": [
    "\n",
    "frecuencia = \"B\"\n",
    "\n",
    "df_port = pd.date_range(start=start, end=end, freq = frecuencia)\n",
    "mask1 = datos.index.isin(df_port)\n",
    "datos_mens_port = datos.loc[mask1]\n",
    "retornos_port = datos_mens_port.pct_change().dropna()\n",
    "\n",
    "df_bench = pd.date_range(start=start, end=end, freq = frecuencia)\n",
    "mask2 = datos_bench.index.isin(df_bench)\n",
    "datos_mens_bench = datos_bench.loc[mask2]\n",
    "retornos_bench = datos_mens_bench.pct_change().dropna()\n",
    "\n",
    "retornos_bench.head()"
   ]
  },
  {
   "cell_type": "code",
   "execution_count": 6,
   "metadata": {},
   "outputs": [],
   "source": [
    "weighted_returns = (weights * retornos_port)\n",
    "bench_weighted_returns = (bench_weights * retornos_bench)"
   ]
  },
  {
   "cell_type": "code",
   "execution_count": 7,
   "metadata": {},
   "outputs": [
    {
     "output_type": "execute_result",
     "data": {
      "text/plain": [
       "            Portafolio  Benchmark\n",
       "Date                             \n",
       "2020-01-03  -3.147e-03 -2.844e-03\n",
       "2020-01-06   1.417e-03  7.355e-04\n",
       "2020-01-07  -9.405e-04 -1.788e-03\n",
       "2020-01-08   1.203e-03  1.881e-03\n",
       "2020-01-09   3.167e-03  3.354e-03"
      ],
      "text/html": "<div>\n<style scoped>\n    .dataframe tbody tr th:only-of-type {\n        vertical-align: middle;\n    }\n\n    .dataframe tbody tr th {\n        vertical-align: top;\n    }\n\n    .dataframe thead th {\n        text-align: right;\n    }\n</style>\n<table border=\"1\" class=\"dataframe\">\n  <thead>\n    <tr style=\"text-align: right;\">\n      <th></th>\n      <th>Portafolio</th>\n      <th>Benchmark</th>\n    </tr>\n    <tr>\n      <th>Date</th>\n      <th></th>\n      <th></th>\n    </tr>\n  </thead>\n  <tbody>\n    <tr>\n      <th>2020-01-03</th>\n      <td>-3.147e-03</td>\n      <td>-2.844e-03</td>\n    </tr>\n    <tr>\n      <th>2020-01-06</th>\n      <td>1.417e-03</td>\n      <td>7.355e-04</td>\n    </tr>\n    <tr>\n      <th>2020-01-07</th>\n      <td>-9.405e-04</td>\n      <td>-1.788e-03</td>\n    </tr>\n    <tr>\n      <th>2020-01-08</th>\n      <td>1.203e-03</td>\n      <td>1.881e-03</td>\n    </tr>\n    <tr>\n      <th>2020-01-09</th>\n      <td>3.167e-03</td>\n      <td>3.354e-03</td>\n    </tr>\n  </tbody>\n</table>\n</div>"
     },
     "metadata": {},
     "execution_count": 7
    }
   ],
   "source": [
    "port_ret = weighted_returns.sum(axis=1) #axis = 1 es para sumar\n",
    "bench_ret = bench_weighted_returns.sum(axis=1)\n",
    "port_ret\n",
    "bench_ret\n",
    "df_variaciones = pd.concat([port_ret, bench_ret], axis=1)\n",
    "df_variaciones.columns = [\"Portafolio\", \"Benchmark\"]\n",
    "df_variaciones.head()"
   ]
  },
  {
   "cell_type": "code",
   "execution_count": 8,
   "metadata": {},
   "outputs": [
    {
     "output_type": "execute_result",
     "data": {
      "text/plain": [
       "Portafolio    0.123\n",
       "Benchmark     0.118\n",
       "dtype: float64"
      ]
     },
     "metadata": {},
     "execution_count": 8
    }
   ],
   "source": [
    "crec_port = (1 + port_ret).cumprod()*100\n",
    "crec_bench = (1+bench_ret).cumprod()*100\n",
    "\n",
    "crecimientos = pd.concat([crec_port, crec_bench], axis=1)\n",
    "crecimientos.columns = [\"Portafolio\", \"Benchmark\"]\n",
    "\n",
    "ultimo = crecimientos.iloc[-1]\n",
    "primero = crecimientos.iloc[0]\n",
    "returns = ((ultimo - primero) - 1)\n",
    "\n",
    "ann_returns = (1 + returns/100).pow(252/len(crecimientos))-1\n",
    "\n",
    "volatility = df_variaciones.std()*np.sqrt(252)\n",
    "\n",
    "risk_free = 0.02\n",
    "\n",
    "sharpe = (ann_returns - risk_free) / volatility\n",
    "ann_returns"
   ]
  },
  {
   "cell_type": "code",
   "execution_count": 9,
   "metadata": {},
   "outputs": [
    {
     "output_type": "execute_result",
     "data": {
      "text/plain": [
       "Portafolio    13.12\n",
       "Benchmark     12.33\n",
       "dtype: float64"
      ]
     },
     "metadata": {},
     "execution_count": 9
    }
   ],
   "source": [
    "target_return = 0\n",
    "df_negativos = df_variaciones[df_variaciones < target_return] # me arma dataframe solo con variaciones negativas\n",
    "df_negativos = df_negativos.fillna(0) # me cambia los NaN por 0\n",
    "downside_risk = df_negativos.std() * np.sqrt(252) *100\n",
    "downside_risk"
   ]
  },
  {
   "cell_type": "code",
   "execution_count": 10,
   "metadata": {},
   "outputs": [
    {
     "output_type": "execute_result",
     "data": {
      "text/plain": [
       "Portafolio   -19.244\n",
       "Benchmark    -16.846\n",
       "dtype: float64"
      ]
     },
     "metadata": {},
     "execution_count": 10
    }
   ],
   "source": [
    "\n",
    "\n",
    "rolling_max = crecimientos.rolling(min_periods = 1, window = 12).max() #me agarra el maximo\n",
    "rolling_max.head(5)\n",
    "monthly_drawdown = crecimientos / rolling_max - 1\n",
    "#monthly_drawdown\n",
    "monthly_drawdown*100\n",
    "drawdowns = monthly_drawdown.min() * 100\n",
    "drawdowns"
   ]
  },
  {
   "cell_type": "code",
   "execution_count": 11,
   "metadata": {},
   "outputs": [
    {
     "output_type": "execute_result",
     "data": {
      "text/plain": [
       "            Return  Volatility  Sharpe  Downside Risk  Maximum Drawdown\n",
       "Portafolio   12.27       18.44    0.56          13.12            -19.24\n",
       "Benchmark    11.82       17.22    0.57          12.33            -16.85"
      ],
      "text/html": "<div>\n<style scoped>\n    .dataframe tbody tr th:only-of-type {\n        vertical-align: middle;\n    }\n\n    .dataframe tbody tr th {\n        vertical-align: top;\n    }\n\n    .dataframe thead th {\n        text-align: right;\n    }\n</style>\n<table border=\"1\" class=\"dataframe\">\n  <thead>\n    <tr style=\"text-align: right;\">\n      <th></th>\n      <th>Return</th>\n      <th>Volatility</th>\n      <th>Sharpe</th>\n      <th>Downside Risk</th>\n      <th>Maximum Drawdown</th>\n    </tr>\n  </thead>\n  <tbody>\n    <tr>\n      <th>Portafolio</th>\n      <td>12.27</td>\n      <td>18.44</td>\n      <td>0.56</td>\n      <td>13.12</td>\n      <td>-19.24</td>\n    </tr>\n    <tr>\n      <th>Benchmark</th>\n      <td>11.82</td>\n      <td>17.22</td>\n      <td>0.57</td>\n      <td>12.33</td>\n      <td>-16.85</td>\n    </tr>\n  </tbody>\n</table>\n</div>"
     },
     "metadata": {},
     "execution_count": 11
    }
   ],
   "source": [
    "df_results = crecimientos.iloc[0:0] #me creo un dataframe vacío, solo con los títulos\n",
    "output = [ann_returns*100, volatility*100, sharpe, downside_risk, drawdowns] # me armo una lista de los datos calculados\n",
    "df_results = df_results.append(output, ignore_index=True)\n",
    "df_results.rename(index = {0:\"Return\", 1:\"Volatility\", 2:\"Sharpe\", 3:\"Downside Risk\", 4:\"Maximum Drawdown\"}, inplace=True)\n",
    "df_results = df_results.transpose()\n",
    "df_results.round(2)"
   ]
  },
  {
   "cell_type": "code",
   "execution_count": 12,
   "metadata": {},
   "outputs": [
    {
     "output_type": "error",
     "ename": "AttributeError",
     "evalue": "'numpy.datetime64' object has no attribute 'toordinal'",
     "traceback": [
      "\u001b[0;31m---------------------------------------------------------------------------\u001b[0m",
      "\u001b[0;31mAttributeError\u001b[0m                            Traceback (most recent call last)",
      "\u001b[0;32m<ipython-input-12-f54c0332c723>\u001b[0m in \u001b[0;36m<module>\u001b[0;34m\u001b[0m\n\u001b[1;32m      1\u001b[0m \u001b[0mplt\u001b[0m\u001b[0;34m.\u001b[0m\u001b[0mstyle\u001b[0m\u001b[0;34m.\u001b[0m\u001b[0muse\u001b[0m\u001b[0;34m(\u001b[0m\u001b[0;34m\"fivethirtyeight\"\u001b[0m\u001b[0;34m)\u001b[0m\u001b[0;34m\u001b[0m\u001b[0;34m\u001b[0m\u001b[0m\n\u001b[0;32m----> 2\u001b[0;31m \u001b[0mcrecimientos\u001b[0m\u001b[0;34m.\u001b[0m\u001b[0mplot\u001b[0m\u001b[0;34m(\u001b[0m\u001b[0;34m)\u001b[0m\u001b[0;34m\u001b[0m\u001b[0;34m\u001b[0m\u001b[0m\n\u001b[0m\u001b[1;32m      3\u001b[0m \u001b[0mrolling_returns\u001b[0m \u001b[0;34m=\u001b[0m \u001b[0mdf_variaciones\u001b[0m\u001b[0;34m.\u001b[0m\u001b[0mrolling\u001b[0m\u001b[0;34m(\u001b[0m\u001b[0mwindow\u001b[0m\u001b[0;34m=\u001b[0m\u001b[0;36m12\u001b[0m\u001b[0;34m)\u001b[0m\u001b[0;34m.\u001b[0m\u001b[0mmean\u001b[0m\u001b[0;34m(\u001b[0m\u001b[0;34m)\u001b[0m\u001b[0;34m\u001b[0m\u001b[0;34m\u001b[0m\u001b[0m\n\u001b[1;32m      4\u001b[0m \u001b[0mrolling_returns\u001b[0m\u001b[0;34m.\u001b[0m\u001b[0mplot\u001b[0m\u001b[0;34m(\u001b[0m\u001b[0;34m)\u001b[0m\u001b[0;34m\u001b[0m\u001b[0;34m\u001b[0m\u001b[0m\n\u001b[1;32m      5\u001b[0m \u001b[0mmonthly_drawdown\u001b[0m\u001b[0;34m.\u001b[0m\u001b[0mplot\u001b[0m\u001b[0;34m(\u001b[0m\u001b[0;34m)\u001b[0m\u001b[0;34m\u001b[0m\u001b[0;34m\u001b[0m\u001b[0m\n",
      "\u001b[0;32m/usr/local/lib/python3.6/dist-packages/pandas/plotting/_core.py\u001b[0m in \u001b[0;36m__call__\u001b[0;34m(self, *args, **kwargs)\u001b[0m\n\u001b[1;32m    947\u001b[0m                     \u001b[0mdata\u001b[0m\u001b[0;34m.\u001b[0m\u001b[0mcolumns\u001b[0m \u001b[0;34m=\u001b[0m \u001b[0mlabel_name\u001b[0m\u001b[0;34m\u001b[0m\u001b[0;34m\u001b[0m\u001b[0m\n\u001b[1;32m    948\u001b[0m \u001b[0;34m\u001b[0m\u001b[0m\n\u001b[0;32m--> 949\u001b[0;31m         \u001b[0;32mreturn\u001b[0m \u001b[0mplot_backend\u001b[0m\u001b[0;34m.\u001b[0m\u001b[0mplot\u001b[0m\u001b[0;34m(\u001b[0m\u001b[0mdata\u001b[0m\u001b[0;34m,\u001b[0m \u001b[0mkind\u001b[0m\u001b[0;34m=\u001b[0m\u001b[0mkind\u001b[0m\u001b[0;34m,\u001b[0m \u001b[0;34m**\u001b[0m\u001b[0mkwargs\u001b[0m\u001b[0;34m)\u001b[0m\u001b[0;34m\u001b[0m\u001b[0;34m\u001b[0m\u001b[0m\n\u001b[0m\u001b[1;32m    950\u001b[0m \u001b[0;34m\u001b[0m\u001b[0m\n\u001b[1;32m    951\u001b[0m     \u001b[0m__call__\u001b[0m\u001b[0;34m.\u001b[0m\u001b[0m__doc__\u001b[0m \u001b[0;34m=\u001b[0m \u001b[0m__doc__\u001b[0m\u001b[0;34m\u001b[0m\u001b[0;34m\u001b[0m\u001b[0m\n",
      "\u001b[0;32m/usr/local/lib/python3.6/dist-packages/pandas/plotting/_matplotlib/__init__.py\u001b[0m in \u001b[0;36mplot\u001b[0;34m(data, kind, **kwargs)\u001b[0m\n\u001b[1;32m     59\u001b[0m             \u001b[0mkwargs\u001b[0m\u001b[0;34m[\u001b[0m\u001b[0;34m\"ax\"\u001b[0m\u001b[0;34m]\u001b[0m \u001b[0;34m=\u001b[0m \u001b[0mgetattr\u001b[0m\u001b[0;34m(\u001b[0m\u001b[0max\u001b[0m\u001b[0;34m,\u001b[0m \u001b[0;34m\"left_ax\"\u001b[0m\u001b[0;34m,\u001b[0m \u001b[0max\u001b[0m\u001b[0;34m)\u001b[0m\u001b[0;34m\u001b[0m\u001b[0;34m\u001b[0m\u001b[0m\n\u001b[1;32m     60\u001b[0m     \u001b[0mplot_obj\u001b[0m \u001b[0;34m=\u001b[0m \u001b[0mPLOT_CLASSES\u001b[0m\u001b[0;34m[\u001b[0m\u001b[0mkind\u001b[0m\u001b[0;34m]\u001b[0m\u001b[0;34m(\u001b[0m\u001b[0mdata\u001b[0m\u001b[0;34m,\u001b[0m \u001b[0;34m**\u001b[0m\u001b[0mkwargs\u001b[0m\u001b[0;34m)\u001b[0m\u001b[0;34m\u001b[0m\u001b[0;34m\u001b[0m\u001b[0m\n\u001b[0;32m---> 61\u001b[0;31m     \u001b[0mplot_obj\u001b[0m\u001b[0;34m.\u001b[0m\u001b[0mgenerate\u001b[0m\u001b[0;34m(\u001b[0m\u001b[0;34m)\u001b[0m\u001b[0;34m\u001b[0m\u001b[0;34m\u001b[0m\u001b[0m\n\u001b[0m\u001b[1;32m     62\u001b[0m     \u001b[0mplot_obj\u001b[0m\u001b[0;34m.\u001b[0m\u001b[0mdraw\u001b[0m\u001b[0;34m(\u001b[0m\u001b[0;34m)\u001b[0m\u001b[0;34m\u001b[0m\u001b[0;34m\u001b[0m\u001b[0m\n\u001b[1;32m     63\u001b[0m     \u001b[0;32mreturn\u001b[0m \u001b[0mplot_obj\u001b[0m\u001b[0;34m.\u001b[0m\u001b[0mresult\u001b[0m\u001b[0;34m\u001b[0m\u001b[0;34m\u001b[0m\u001b[0m\n",
      "\u001b[0;32m/usr/local/lib/python3.6/dist-packages/pandas/plotting/_matplotlib/core.py\u001b[0m in \u001b[0;36mgenerate\u001b[0;34m(self)\u001b[0m\n\u001b[1;32m    269\u001b[0m         \u001b[0mself\u001b[0m\u001b[0;34m.\u001b[0m\u001b[0m_compute_plot_data\u001b[0m\u001b[0;34m(\u001b[0m\u001b[0;34m)\u001b[0m\u001b[0;34m\u001b[0m\u001b[0;34m\u001b[0m\u001b[0m\n\u001b[1;32m    270\u001b[0m         \u001b[0mself\u001b[0m\u001b[0;34m.\u001b[0m\u001b[0m_setup_subplots\u001b[0m\u001b[0;34m(\u001b[0m\u001b[0;34m)\u001b[0m\u001b[0;34m\u001b[0m\u001b[0;34m\u001b[0m\u001b[0m\n\u001b[0;32m--> 271\u001b[0;31m         \u001b[0mself\u001b[0m\u001b[0;34m.\u001b[0m\u001b[0m_make_plot\u001b[0m\u001b[0;34m(\u001b[0m\u001b[0;34m)\u001b[0m\u001b[0;34m\u001b[0m\u001b[0;34m\u001b[0m\u001b[0m\n\u001b[0m\u001b[1;32m    272\u001b[0m         \u001b[0mself\u001b[0m\u001b[0;34m.\u001b[0m\u001b[0m_add_table\u001b[0m\u001b[0;34m(\u001b[0m\u001b[0;34m)\u001b[0m\u001b[0;34m\u001b[0m\u001b[0;34m\u001b[0m\u001b[0m\n\u001b[1;32m    273\u001b[0m         \u001b[0mself\u001b[0m\u001b[0;34m.\u001b[0m\u001b[0m_make_legend\u001b[0m\u001b[0;34m(\u001b[0m\u001b[0;34m)\u001b[0m\u001b[0;34m\u001b[0m\u001b[0;34m\u001b[0m\u001b[0m\n",
      "\u001b[0;32m/usr/local/lib/python3.6/dist-packages/pandas/plotting/_matplotlib/core.py\u001b[0m in \u001b[0;36m_make_plot\u001b[0;34m(self)\u001b[0m\n\u001b[1;32m   1124\u001b[0m                 \u001b[0mstacking_id\u001b[0m\u001b[0;34m=\u001b[0m\u001b[0mstacking_id\u001b[0m\u001b[0;34m,\u001b[0m\u001b[0;34m\u001b[0m\u001b[0;34m\u001b[0m\u001b[0m\n\u001b[1;32m   1125\u001b[0m                 \u001b[0mis_errorbar\u001b[0m\u001b[0;34m=\u001b[0m\u001b[0mis_errorbar\u001b[0m\u001b[0;34m,\u001b[0m\u001b[0;34m\u001b[0m\u001b[0;34m\u001b[0m\u001b[0m\n\u001b[0;32m-> 1126\u001b[0;31m                 \u001b[0;34m**\u001b[0m\u001b[0mkwds\u001b[0m\u001b[0;34m,\u001b[0m\u001b[0;34m\u001b[0m\u001b[0;34m\u001b[0m\u001b[0m\n\u001b[0m\u001b[1;32m   1127\u001b[0m             )\n\u001b[1;32m   1128\u001b[0m             \u001b[0mself\u001b[0m\u001b[0;34m.\u001b[0m\u001b[0m_add_legend_handle\u001b[0m\u001b[0;34m(\u001b[0m\u001b[0mnewlines\u001b[0m\u001b[0;34m[\u001b[0m\u001b[0;36m0\u001b[0m\u001b[0;34m]\u001b[0m\u001b[0;34m,\u001b[0m \u001b[0mlabel\u001b[0m\u001b[0;34m,\u001b[0m \u001b[0mindex\u001b[0m\u001b[0;34m=\u001b[0m\u001b[0mi\u001b[0m\u001b[0;34m)\u001b[0m\u001b[0;34m\u001b[0m\u001b[0;34m\u001b[0m\u001b[0m\n",
      "\u001b[0;32m/usr/local/lib/python3.6/dist-packages/pandas/plotting/_matplotlib/core.py\u001b[0m in \u001b[0;36m_plot\u001b[0;34m(cls, ax, x, y, style, column_num, stacking_id, **kwds)\u001b[0m\n\u001b[1;32m   1143\u001b[0m             \u001b[0mcls\u001b[0m\u001b[0;34m.\u001b[0m\u001b[0m_initialize_stacker\u001b[0m\u001b[0;34m(\u001b[0m\u001b[0max\u001b[0m\u001b[0;34m,\u001b[0m \u001b[0mstacking_id\u001b[0m\u001b[0;34m,\u001b[0m \u001b[0mlen\u001b[0m\u001b[0;34m(\u001b[0m\u001b[0my\u001b[0m\u001b[0;34m)\u001b[0m\u001b[0;34m)\u001b[0m\u001b[0;34m\u001b[0m\u001b[0;34m\u001b[0m\u001b[0m\n\u001b[1;32m   1144\u001b[0m         \u001b[0my_values\u001b[0m \u001b[0;34m=\u001b[0m \u001b[0mcls\u001b[0m\u001b[0;34m.\u001b[0m\u001b[0m_get_stacked_values\u001b[0m\u001b[0;34m(\u001b[0m\u001b[0max\u001b[0m\u001b[0;34m,\u001b[0m \u001b[0mstacking_id\u001b[0m\u001b[0;34m,\u001b[0m \u001b[0my\u001b[0m\u001b[0;34m,\u001b[0m \u001b[0mkwds\u001b[0m\u001b[0;34m[\u001b[0m\u001b[0;34m\"label\"\u001b[0m\u001b[0;34m]\u001b[0m\u001b[0;34m)\u001b[0m\u001b[0;34m\u001b[0m\u001b[0;34m\u001b[0m\u001b[0m\n\u001b[0;32m-> 1145\u001b[0;31m         \u001b[0mlines\u001b[0m \u001b[0;34m=\u001b[0m \u001b[0mMPLPlot\u001b[0m\u001b[0;34m.\u001b[0m\u001b[0m_plot\u001b[0m\u001b[0;34m(\u001b[0m\u001b[0max\u001b[0m\u001b[0;34m,\u001b[0m \u001b[0mx\u001b[0m\u001b[0;34m,\u001b[0m \u001b[0my_values\u001b[0m\u001b[0;34m,\u001b[0m \u001b[0mstyle\u001b[0m\u001b[0;34m=\u001b[0m\u001b[0mstyle\u001b[0m\u001b[0;34m,\u001b[0m \u001b[0;34m**\u001b[0m\u001b[0mkwds\u001b[0m\u001b[0;34m)\u001b[0m\u001b[0;34m\u001b[0m\u001b[0;34m\u001b[0m\u001b[0m\n\u001b[0m\u001b[1;32m   1146\u001b[0m         \u001b[0mcls\u001b[0m\u001b[0;34m.\u001b[0m\u001b[0m_update_stacker\u001b[0m\u001b[0;34m(\u001b[0m\u001b[0max\u001b[0m\u001b[0;34m,\u001b[0m \u001b[0mstacking_id\u001b[0m\u001b[0;34m,\u001b[0m \u001b[0my\u001b[0m\u001b[0;34m)\u001b[0m\u001b[0;34m\u001b[0m\u001b[0;34m\u001b[0m\u001b[0m\n\u001b[1;32m   1147\u001b[0m         \u001b[0;32mreturn\u001b[0m \u001b[0mlines\u001b[0m\u001b[0;34m\u001b[0m\u001b[0;34m\u001b[0m\u001b[0m\n",
      "\u001b[0;32m/usr/local/lib/python3.6/dist-packages/pandas/plotting/_matplotlib/converter.py\u001b[0m in \u001b[0;36mwrapper\u001b[0;34m(*args, **kwargs)\u001b[0m\n\u001b[1;32m     63\u001b[0m     \u001b[0;32mdef\u001b[0m \u001b[0mwrapper\u001b[0m\u001b[0;34m(\u001b[0m\u001b[0;34m*\u001b[0m\u001b[0margs\u001b[0m\u001b[0;34m,\u001b[0m \u001b[0;34m**\u001b[0m\u001b[0mkwargs\u001b[0m\u001b[0;34m)\u001b[0m\u001b[0;34m:\u001b[0m\u001b[0;34m\u001b[0m\u001b[0;34m\u001b[0m\u001b[0m\n\u001b[1;32m     64\u001b[0m         \u001b[0;32mwith\u001b[0m \u001b[0mpandas_converters\u001b[0m\u001b[0;34m(\u001b[0m\u001b[0;34m)\u001b[0m\u001b[0;34m:\u001b[0m\u001b[0;34m\u001b[0m\u001b[0;34m\u001b[0m\u001b[0m\n\u001b[0;32m---> 65\u001b[0;31m             \u001b[0;32mreturn\u001b[0m \u001b[0mfunc\u001b[0m\u001b[0;34m(\u001b[0m\u001b[0;34m*\u001b[0m\u001b[0margs\u001b[0m\u001b[0;34m,\u001b[0m \u001b[0;34m**\u001b[0m\u001b[0mkwargs\u001b[0m\u001b[0;34m)\u001b[0m\u001b[0;34m\u001b[0m\u001b[0;34m\u001b[0m\u001b[0m\n\u001b[0m\u001b[1;32m     66\u001b[0m \u001b[0;34m\u001b[0m\u001b[0m\n\u001b[1;32m     67\u001b[0m     \u001b[0;32mreturn\u001b[0m \u001b[0mwrapper\u001b[0m\u001b[0;34m\u001b[0m\u001b[0;34m\u001b[0m\u001b[0m\n",
      "\u001b[0;32m/usr/local/lib/python3.6/dist-packages/pandas/plotting/_matplotlib/core.py\u001b[0m in \u001b[0;36m_plot\u001b[0;34m(cls, ax, x, y, style, is_errorbar, **kwds)\u001b[0m\n\u001b[1;32m    666\u001b[0m             \u001b[0;32melse\u001b[0m\u001b[0;34m:\u001b[0m\u001b[0;34m\u001b[0m\u001b[0;34m\u001b[0m\u001b[0m\n\u001b[1;32m    667\u001b[0m                 \u001b[0margs\u001b[0m \u001b[0;34m=\u001b[0m \u001b[0;34m(\u001b[0m\u001b[0mx\u001b[0m\u001b[0;34m,\u001b[0m \u001b[0my\u001b[0m\u001b[0;34m)\u001b[0m\u001b[0;34m\u001b[0m\u001b[0;34m\u001b[0m\u001b[0m\n\u001b[0;32m--> 668\u001b[0;31m             \u001b[0;32mreturn\u001b[0m \u001b[0max\u001b[0m\u001b[0;34m.\u001b[0m\u001b[0mplot\u001b[0m\u001b[0;34m(\u001b[0m\u001b[0;34m*\u001b[0m\u001b[0margs\u001b[0m\u001b[0;34m,\u001b[0m \u001b[0;34m**\u001b[0m\u001b[0mkwds\u001b[0m\u001b[0;34m)\u001b[0m\u001b[0;34m\u001b[0m\u001b[0;34m\u001b[0m\u001b[0m\n\u001b[0m\u001b[1;32m    669\u001b[0m \u001b[0;34m\u001b[0m\u001b[0m\n\u001b[1;32m    670\u001b[0m     \u001b[0;32mdef\u001b[0m \u001b[0m_get_index_name\u001b[0m\u001b[0;34m(\u001b[0m\u001b[0mself\u001b[0m\u001b[0;34m)\u001b[0m\u001b[0;34m:\u001b[0m\u001b[0;34m\u001b[0m\u001b[0;34m\u001b[0m\u001b[0m\n",
      "\u001b[0;32m/usr/lib/python3/dist-packages/matplotlib/__init__.py\u001b[0m in \u001b[0;36minner\u001b[0;34m(ax, *args, **kwargs)\u001b[0m\n\u001b[1;32m   1716\u001b[0m                     warnings.warn(msg % (label_namer, func.__name__),\n\u001b[1;32m   1717\u001b[0m                                   RuntimeWarning, stacklevel=2)\n\u001b[0;32m-> 1718\u001b[0;31m             \u001b[0;32mreturn\u001b[0m \u001b[0mfunc\u001b[0m\u001b[0;34m(\u001b[0m\u001b[0max\u001b[0m\u001b[0;34m,\u001b[0m \u001b[0;34m*\u001b[0m\u001b[0margs\u001b[0m\u001b[0;34m,\u001b[0m \u001b[0;34m**\u001b[0m\u001b[0mkwargs\u001b[0m\u001b[0;34m)\u001b[0m\u001b[0;34m\u001b[0m\u001b[0;34m\u001b[0m\u001b[0m\n\u001b[0m\u001b[1;32m   1719\u001b[0m         \u001b[0mpre_doc\u001b[0m \u001b[0;34m=\u001b[0m \u001b[0minner\u001b[0m\u001b[0;34m.\u001b[0m\u001b[0m__doc__\u001b[0m\u001b[0;34m\u001b[0m\u001b[0;34m\u001b[0m\u001b[0m\n\u001b[1;32m   1720\u001b[0m         \u001b[0;32mif\u001b[0m \u001b[0mpre_doc\u001b[0m \u001b[0;32mis\u001b[0m \u001b[0;32mNone\u001b[0m\u001b[0;34m:\u001b[0m\u001b[0;34m\u001b[0m\u001b[0;34m\u001b[0m\u001b[0m\n",
      "\u001b[0;32m/usr/lib/python3/dist-packages/matplotlib/axes/_axes.py\u001b[0m in \u001b[0;36mplot\u001b[0;34m(self, *args, **kwargs)\u001b[0m\n\u001b[1;32m   1371\u001b[0m \u001b[0;34m\u001b[0m\u001b[0m\n\u001b[1;32m   1372\u001b[0m         \u001b[0;32mfor\u001b[0m \u001b[0mline\u001b[0m \u001b[0;32min\u001b[0m \u001b[0mself\u001b[0m\u001b[0;34m.\u001b[0m\u001b[0m_get_lines\u001b[0m\u001b[0;34m(\u001b[0m\u001b[0;34m*\u001b[0m\u001b[0margs\u001b[0m\u001b[0;34m,\u001b[0m \u001b[0;34m**\u001b[0m\u001b[0mkwargs\u001b[0m\u001b[0;34m)\u001b[0m\u001b[0;34m:\u001b[0m\u001b[0;34m\u001b[0m\u001b[0;34m\u001b[0m\u001b[0m\n\u001b[0;32m-> 1373\u001b[0;31m             \u001b[0mself\u001b[0m\u001b[0;34m.\u001b[0m\u001b[0madd_line\u001b[0m\u001b[0;34m(\u001b[0m\u001b[0mline\u001b[0m\u001b[0;34m)\u001b[0m\u001b[0;34m\u001b[0m\u001b[0;34m\u001b[0m\u001b[0m\n\u001b[0m\u001b[1;32m   1374\u001b[0m             \u001b[0mlines\u001b[0m\u001b[0;34m.\u001b[0m\u001b[0mappend\u001b[0m\u001b[0;34m(\u001b[0m\u001b[0mline\u001b[0m\u001b[0;34m)\u001b[0m\u001b[0;34m\u001b[0m\u001b[0;34m\u001b[0m\u001b[0m\n\u001b[1;32m   1375\u001b[0m \u001b[0;34m\u001b[0m\u001b[0m\n",
      "\u001b[0;32m/usr/lib/python3/dist-packages/matplotlib/axes/_base.py\u001b[0m in \u001b[0;36madd_line\u001b[0;34m(self, line)\u001b[0m\n\u001b[1;32m   1777\u001b[0m             \u001b[0mline\u001b[0m\u001b[0;34m.\u001b[0m\u001b[0mset_clip_path\u001b[0m\u001b[0;34m(\u001b[0m\u001b[0mself\u001b[0m\u001b[0;34m.\u001b[0m\u001b[0mpatch\u001b[0m\u001b[0;34m)\u001b[0m\u001b[0;34m\u001b[0m\u001b[0;34m\u001b[0m\u001b[0m\n\u001b[1;32m   1778\u001b[0m \u001b[0;34m\u001b[0m\u001b[0m\n\u001b[0;32m-> 1779\u001b[0;31m         \u001b[0mself\u001b[0m\u001b[0;34m.\u001b[0m\u001b[0m_update_line_limits\u001b[0m\u001b[0;34m(\u001b[0m\u001b[0mline\u001b[0m\u001b[0;34m)\u001b[0m\u001b[0;34m\u001b[0m\u001b[0;34m\u001b[0m\u001b[0m\n\u001b[0m\u001b[1;32m   1780\u001b[0m         \u001b[0;32mif\u001b[0m \u001b[0;32mnot\u001b[0m \u001b[0mline\u001b[0m\u001b[0;34m.\u001b[0m\u001b[0mget_label\u001b[0m\u001b[0;34m(\u001b[0m\u001b[0;34m)\u001b[0m\u001b[0;34m:\u001b[0m\u001b[0;34m\u001b[0m\u001b[0;34m\u001b[0m\u001b[0m\n\u001b[1;32m   1781\u001b[0m             \u001b[0mline\u001b[0m\u001b[0;34m.\u001b[0m\u001b[0mset_label\u001b[0m\u001b[0;34m(\u001b[0m\u001b[0;34m'_line%d'\u001b[0m \u001b[0;34m%\u001b[0m \u001b[0mlen\u001b[0m\u001b[0;34m(\u001b[0m\u001b[0mself\u001b[0m\u001b[0;34m.\u001b[0m\u001b[0mlines\u001b[0m\u001b[0;34m)\u001b[0m\u001b[0;34m)\u001b[0m\u001b[0;34m\u001b[0m\u001b[0;34m\u001b[0m\u001b[0m\n",
      "\u001b[0;32m/usr/lib/python3/dist-packages/matplotlib/axes/_base.py\u001b[0m in \u001b[0;36m_update_line_limits\u001b[0;34m(self, line)\u001b[0m\n\u001b[1;32m   1799\u001b[0m         \u001b[0mFigures\u001b[0m \u001b[0mout\u001b[0m \u001b[0mthe\u001b[0m \u001b[0mdata\u001b[0m \u001b[0mlimit\u001b[0m \u001b[0mof\u001b[0m \u001b[0mthe\u001b[0m \u001b[0mgiven\u001b[0m \u001b[0mline\u001b[0m\u001b[0;34m,\u001b[0m \u001b[0mupdating\u001b[0m \u001b[0mself\u001b[0m\u001b[0;34m.\u001b[0m\u001b[0mdataLim\u001b[0m\u001b[0;34m.\u001b[0m\u001b[0;34m\u001b[0m\u001b[0;34m\u001b[0m\u001b[0m\n\u001b[1;32m   1800\u001b[0m         \"\"\"\n\u001b[0;32m-> 1801\u001b[0;31m         \u001b[0mpath\u001b[0m \u001b[0;34m=\u001b[0m \u001b[0mline\u001b[0m\u001b[0;34m.\u001b[0m\u001b[0mget_path\u001b[0m\u001b[0;34m(\u001b[0m\u001b[0;34m)\u001b[0m\u001b[0;34m\u001b[0m\u001b[0;34m\u001b[0m\u001b[0m\n\u001b[0m\u001b[1;32m   1802\u001b[0m         \u001b[0;32mif\u001b[0m \u001b[0mpath\u001b[0m\u001b[0;34m.\u001b[0m\u001b[0mvertices\u001b[0m\u001b[0;34m.\u001b[0m\u001b[0msize\u001b[0m \u001b[0;34m==\u001b[0m \u001b[0;36m0\u001b[0m\u001b[0;34m:\u001b[0m\u001b[0;34m\u001b[0m\u001b[0;34m\u001b[0m\u001b[0m\n\u001b[1;32m   1803\u001b[0m             \u001b[0;32mreturn\u001b[0m\u001b[0;34m\u001b[0m\u001b[0;34m\u001b[0m\u001b[0m\n",
      "\u001b[0;32m/usr/lib/python3/dist-packages/matplotlib/lines.py\u001b[0m in \u001b[0;36mget_path\u001b[0;34m(self)\u001b[0m\n\u001b[1;32m    955\u001b[0m         \"\"\"\n\u001b[1;32m    956\u001b[0m         \u001b[0;32mif\u001b[0m \u001b[0mself\u001b[0m\u001b[0;34m.\u001b[0m\u001b[0m_invalidy\u001b[0m \u001b[0;32mor\u001b[0m \u001b[0mself\u001b[0m\u001b[0;34m.\u001b[0m\u001b[0m_invalidx\u001b[0m\u001b[0;34m:\u001b[0m\u001b[0;34m\u001b[0m\u001b[0;34m\u001b[0m\u001b[0m\n\u001b[0;32m--> 957\u001b[0;31m             \u001b[0mself\u001b[0m\u001b[0;34m.\u001b[0m\u001b[0mrecache\u001b[0m\u001b[0;34m(\u001b[0m\u001b[0;34m)\u001b[0m\u001b[0;34m\u001b[0m\u001b[0;34m\u001b[0m\u001b[0m\n\u001b[0m\u001b[1;32m    958\u001b[0m         \u001b[0;32mreturn\u001b[0m \u001b[0mself\u001b[0m\u001b[0;34m.\u001b[0m\u001b[0m_path\u001b[0m\u001b[0;34m\u001b[0m\u001b[0;34m\u001b[0m\u001b[0m\n\u001b[1;32m    959\u001b[0m \u001b[0;34m\u001b[0m\u001b[0m\n",
      "\u001b[0;32m/usr/lib/python3/dist-packages/matplotlib/lines.py\u001b[0m in \u001b[0;36mrecache\u001b[0;34m(self, always)\u001b[0m\n\u001b[1;32m    655\u001b[0m     \u001b[0;32mdef\u001b[0m \u001b[0mrecache\u001b[0m\u001b[0;34m(\u001b[0m\u001b[0mself\u001b[0m\u001b[0;34m,\u001b[0m \u001b[0malways\u001b[0m\u001b[0;34m=\u001b[0m\u001b[0;32mFalse\u001b[0m\u001b[0;34m)\u001b[0m\u001b[0;34m:\u001b[0m\u001b[0;34m\u001b[0m\u001b[0;34m\u001b[0m\u001b[0m\n\u001b[1;32m    656\u001b[0m         \u001b[0;32mif\u001b[0m \u001b[0malways\u001b[0m \u001b[0;32mor\u001b[0m \u001b[0mself\u001b[0m\u001b[0;34m.\u001b[0m\u001b[0m_invalidx\u001b[0m\u001b[0;34m:\u001b[0m\u001b[0;34m\u001b[0m\u001b[0;34m\u001b[0m\u001b[0m\n\u001b[0;32m--> 657\u001b[0;31m             \u001b[0mxconv\u001b[0m \u001b[0;34m=\u001b[0m \u001b[0mself\u001b[0m\u001b[0;34m.\u001b[0m\u001b[0mconvert_xunits\u001b[0m\u001b[0;34m(\u001b[0m\u001b[0mself\u001b[0m\u001b[0;34m.\u001b[0m\u001b[0m_xorig\u001b[0m\u001b[0;34m)\u001b[0m\u001b[0;34m\u001b[0m\u001b[0;34m\u001b[0m\u001b[0m\n\u001b[0m\u001b[1;32m    658\u001b[0m             \u001b[0mx\u001b[0m \u001b[0;34m=\u001b[0m \u001b[0m_to_unmasked_float_array\u001b[0m\u001b[0;34m(\u001b[0m\u001b[0mxconv\u001b[0m\u001b[0;34m)\u001b[0m\u001b[0;34m.\u001b[0m\u001b[0mravel\u001b[0m\u001b[0;34m(\u001b[0m\u001b[0;34m)\u001b[0m\u001b[0;34m\u001b[0m\u001b[0;34m\u001b[0m\u001b[0m\n\u001b[1;32m    659\u001b[0m         \u001b[0;32melse\u001b[0m\u001b[0;34m:\u001b[0m\u001b[0;34m\u001b[0m\u001b[0;34m\u001b[0m\u001b[0m\n",
      "\u001b[0;32m/usr/lib/python3/dist-packages/matplotlib/artist.py\u001b[0m in \u001b[0;36mconvert_xunits\u001b[0;34m(self, x)\u001b[0m\n\u001b[1;32m    189\u001b[0m         \u001b[0;32mif\u001b[0m \u001b[0max\u001b[0m \u001b[0;32mis\u001b[0m \u001b[0;32mNone\u001b[0m \u001b[0;32mor\u001b[0m \u001b[0max\u001b[0m\u001b[0;34m.\u001b[0m\u001b[0mxaxis\u001b[0m \u001b[0;32mis\u001b[0m \u001b[0;32mNone\u001b[0m\u001b[0;34m:\u001b[0m\u001b[0;34m\u001b[0m\u001b[0;34m\u001b[0m\u001b[0m\n\u001b[1;32m    190\u001b[0m             \u001b[0;32mreturn\u001b[0m \u001b[0mx\u001b[0m\u001b[0;34m\u001b[0m\u001b[0;34m\u001b[0m\u001b[0m\n\u001b[0;32m--> 191\u001b[0;31m         \u001b[0;32mreturn\u001b[0m \u001b[0max\u001b[0m\u001b[0;34m.\u001b[0m\u001b[0mxaxis\u001b[0m\u001b[0;34m.\u001b[0m\u001b[0mconvert_units\u001b[0m\u001b[0;34m(\u001b[0m\u001b[0mx\u001b[0m\u001b[0;34m)\u001b[0m\u001b[0;34m\u001b[0m\u001b[0;34m\u001b[0m\u001b[0m\n\u001b[0m\u001b[1;32m    192\u001b[0m \u001b[0;34m\u001b[0m\u001b[0m\n\u001b[1;32m    193\u001b[0m     \u001b[0;32mdef\u001b[0m \u001b[0mconvert_yunits\u001b[0m\u001b[0;34m(\u001b[0m\u001b[0mself\u001b[0m\u001b[0;34m,\u001b[0m \u001b[0my\u001b[0m\u001b[0;34m)\u001b[0m\u001b[0;34m:\u001b[0m\u001b[0;34m\u001b[0m\u001b[0;34m\u001b[0m\u001b[0m\n",
      "\u001b[0;32m/usr/lib/python3/dist-packages/matplotlib/axis.py\u001b[0m in \u001b[0;36mconvert_units\u001b[0;34m(self, x)\u001b[0m\n\u001b[1;32m   1489\u001b[0m             \u001b[0;32mreturn\u001b[0m \u001b[0mx\u001b[0m\u001b[0;34m\u001b[0m\u001b[0;34m\u001b[0m\u001b[0m\n\u001b[1;32m   1490\u001b[0m \u001b[0;34m\u001b[0m\u001b[0m\n\u001b[0;32m-> 1491\u001b[0;31m         \u001b[0mret\u001b[0m \u001b[0;34m=\u001b[0m \u001b[0mself\u001b[0m\u001b[0;34m.\u001b[0m\u001b[0mconverter\u001b[0m\u001b[0;34m.\u001b[0m\u001b[0mconvert\u001b[0m\u001b[0;34m(\u001b[0m\u001b[0mx\u001b[0m\u001b[0;34m,\u001b[0m \u001b[0mself\u001b[0m\u001b[0;34m.\u001b[0m\u001b[0munits\u001b[0m\u001b[0;34m,\u001b[0m \u001b[0mself\u001b[0m\u001b[0;34m)\u001b[0m\u001b[0;34m\u001b[0m\u001b[0;34m\u001b[0m\u001b[0m\n\u001b[0m\u001b[1;32m   1492\u001b[0m         \u001b[0;32mreturn\u001b[0m \u001b[0mret\u001b[0m\u001b[0;34m\u001b[0m\u001b[0;34m\u001b[0m\u001b[0m\n\u001b[1;32m   1493\u001b[0m \u001b[0;34m\u001b[0m\u001b[0m\n",
      "\u001b[0;32m/usr/local/lib/python3.6/dist-packages/pandas/plotting/_matplotlib/converter.py\u001b[0m in \u001b[0;36mconvert\u001b[0;34m(values, unit, axis)\u001b[0m\n\u001b[1;32m    254\u001b[0m             \u001b[0mvalues\u001b[0m \u001b[0;34m=\u001b[0m \u001b[0;34m[\u001b[0m\u001b[0mDatetimeConverter\u001b[0m\u001b[0;34m.\u001b[0m\u001b[0m_convert_1d\u001b[0m\u001b[0;34m(\u001b[0m\u001b[0mv\u001b[0m\u001b[0;34m,\u001b[0m \u001b[0munit\u001b[0m\u001b[0;34m,\u001b[0m \u001b[0maxis\u001b[0m\u001b[0;34m)\u001b[0m \u001b[0;32mfor\u001b[0m \u001b[0mv\u001b[0m \u001b[0;32min\u001b[0m \u001b[0mvalues\u001b[0m\u001b[0;34m]\u001b[0m\u001b[0;34m\u001b[0m\u001b[0;34m\u001b[0m\u001b[0m\n\u001b[1;32m    255\u001b[0m         \u001b[0;32melse\u001b[0m\u001b[0;34m:\u001b[0m\u001b[0;34m\u001b[0m\u001b[0;34m\u001b[0m\u001b[0m\n\u001b[0;32m--> 256\u001b[0;31m             \u001b[0mvalues\u001b[0m \u001b[0;34m=\u001b[0m \u001b[0mDatetimeConverter\u001b[0m\u001b[0;34m.\u001b[0m\u001b[0m_convert_1d\u001b[0m\u001b[0;34m(\u001b[0m\u001b[0mvalues\u001b[0m\u001b[0;34m,\u001b[0m \u001b[0munit\u001b[0m\u001b[0;34m,\u001b[0m \u001b[0maxis\u001b[0m\u001b[0;34m)\u001b[0m\u001b[0;34m\u001b[0m\u001b[0;34m\u001b[0m\u001b[0m\n\u001b[0m\u001b[1;32m    257\u001b[0m         \u001b[0;32mreturn\u001b[0m \u001b[0mvalues\u001b[0m\u001b[0;34m\u001b[0m\u001b[0;34m\u001b[0m\u001b[0m\n\u001b[1;32m    258\u001b[0m \u001b[0;34m\u001b[0m\u001b[0m\n",
      "\u001b[0;32m/usr/local/lib/python3.6/dist-packages/pandas/plotting/_matplotlib/converter.py\u001b[0m in \u001b[0;36m_convert_1d\u001b[0;34m(values, unit, axis)\u001b[0m\n\u001b[1;32m    289\u001b[0m                 \u001b[0;32mpass\u001b[0m\u001b[0;34m\u001b[0m\u001b[0;34m\u001b[0m\u001b[0m\n\u001b[1;32m    290\u001b[0m \u001b[0;34m\u001b[0m\u001b[0m\n\u001b[0;32m--> 291\u001b[0;31m             \u001b[0mvalues\u001b[0m \u001b[0;34m=\u001b[0m \u001b[0mdates\u001b[0m\u001b[0;34m.\u001b[0m\u001b[0mdate2num\u001b[0m\u001b[0;34m(\u001b[0m\u001b[0mvalues\u001b[0m\u001b[0;34m)\u001b[0m\u001b[0;34m\u001b[0m\u001b[0;34m\u001b[0m\u001b[0m\n\u001b[0m\u001b[1;32m    292\u001b[0m \u001b[0;34m\u001b[0m\u001b[0m\n\u001b[1;32m    293\u001b[0m         \u001b[0;32mreturn\u001b[0m \u001b[0mvalues\u001b[0m\u001b[0;34m\u001b[0m\u001b[0;34m\u001b[0m\u001b[0m\n",
      "\u001b[0;32m/usr/lib/python3/dist-packages/matplotlib/dates.py\u001b[0m in \u001b[0;36mdate2num\u001b[0;34m(d)\u001b[0m\n\u001b[1;32m    375\u001b[0m         \u001b[0;32mif\u001b[0m \u001b[0;32mnot\u001b[0m \u001b[0md\u001b[0m\u001b[0;34m.\u001b[0m\u001b[0msize\u001b[0m\u001b[0;34m:\u001b[0m\u001b[0;34m\u001b[0m\u001b[0;34m\u001b[0m\u001b[0m\n\u001b[1;32m    376\u001b[0m             \u001b[0;32mreturn\u001b[0m \u001b[0md\u001b[0m\u001b[0;34m\u001b[0m\u001b[0;34m\u001b[0m\u001b[0m\n\u001b[0;32m--> 377\u001b[0;31m         \u001b[0;32mreturn\u001b[0m \u001b[0m_to_ordinalf_np_vectorized\u001b[0m\u001b[0;34m(\u001b[0m\u001b[0md\u001b[0m\u001b[0;34m)\u001b[0m\u001b[0;34m\u001b[0m\u001b[0;34m\u001b[0m\u001b[0m\n\u001b[0m\u001b[1;32m    378\u001b[0m \u001b[0;34m\u001b[0m\u001b[0m\n\u001b[1;32m    379\u001b[0m \u001b[0;34m\u001b[0m\u001b[0m\n",
      "\u001b[0;32m/usr/local/lib/python3.6/dist-packages/numpy/lib/function_base.py\u001b[0m in \u001b[0;36m__call__\u001b[0;34m(self, *args, **kwargs)\u001b[0m\n\u001b[1;32m   2106\u001b[0m             \u001b[0mvargs\u001b[0m\u001b[0;34m.\u001b[0m\u001b[0mextend\u001b[0m\u001b[0;34m(\u001b[0m\u001b[0;34m[\u001b[0m\u001b[0mkwargs\u001b[0m\u001b[0;34m[\u001b[0m\u001b[0m_n\u001b[0m\u001b[0;34m]\u001b[0m \u001b[0;32mfor\u001b[0m \u001b[0m_n\u001b[0m \u001b[0;32min\u001b[0m \u001b[0mnames\u001b[0m\u001b[0;34m]\u001b[0m\u001b[0;34m)\u001b[0m\u001b[0;34m\u001b[0m\u001b[0;34m\u001b[0m\u001b[0m\n\u001b[1;32m   2107\u001b[0m \u001b[0;34m\u001b[0m\u001b[0m\n\u001b[0;32m-> 2108\u001b[0;31m         \u001b[0;32mreturn\u001b[0m \u001b[0mself\u001b[0m\u001b[0;34m.\u001b[0m\u001b[0m_vectorize_call\u001b[0m\u001b[0;34m(\u001b[0m\u001b[0mfunc\u001b[0m\u001b[0;34m=\u001b[0m\u001b[0mfunc\u001b[0m\u001b[0;34m,\u001b[0m \u001b[0margs\u001b[0m\u001b[0;34m=\u001b[0m\u001b[0mvargs\u001b[0m\u001b[0;34m)\u001b[0m\u001b[0;34m\u001b[0m\u001b[0;34m\u001b[0m\u001b[0m\n\u001b[0m\u001b[1;32m   2109\u001b[0m \u001b[0;34m\u001b[0m\u001b[0m\n\u001b[1;32m   2110\u001b[0m     \u001b[0;32mdef\u001b[0m \u001b[0m_get_ufunc_and_otypes\u001b[0m\u001b[0;34m(\u001b[0m\u001b[0mself\u001b[0m\u001b[0;34m,\u001b[0m \u001b[0mfunc\u001b[0m\u001b[0;34m,\u001b[0m \u001b[0margs\u001b[0m\u001b[0;34m)\u001b[0m\u001b[0;34m:\u001b[0m\u001b[0;34m\u001b[0m\u001b[0;34m\u001b[0m\u001b[0m\n",
      "\u001b[0;32m/usr/local/lib/python3.6/dist-packages/numpy/lib/function_base.py\u001b[0m in \u001b[0;36m_vectorize_call\u001b[0;34m(self, func, args)\u001b[0m\n\u001b[1;32m   2184\u001b[0m             \u001b[0mres\u001b[0m \u001b[0;34m=\u001b[0m \u001b[0mfunc\u001b[0m\u001b[0;34m(\u001b[0m\u001b[0;34m)\u001b[0m\u001b[0;34m\u001b[0m\u001b[0;34m\u001b[0m\u001b[0m\n\u001b[1;32m   2185\u001b[0m         \u001b[0;32melse\u001b[0m\u001b[0;34m:\u001b[0m\u001b[0;34m\u001b[0m\u001b[0;34m\u001b[0m\u001b[0m\n\u001b[0;32m-> 2186\u001b[0;31m             \u001b[0mufunc\u001b[0m\u001b[0;34m,\u001b[0m \u001b[0motypes\u001b[0m \u001b[0;34m=\u001b[0m \u001b[0mself\u001b[0m\u001b[0;34m.\u001b[0m\u001b[0m_get_ufunc_and_otypes\u001b[0m\u001b[0;34m(\u001b[0m\u001b[0mfunc\u001b[0m\u001b[0;34m=\u001b[0m\u001b[0mfunc\u001b[0m\u001b[0;34m,\u001b[0m \u001b[0margs\u001b[0m\u001b[0;34m=\u001b[0m\u001b[0margs\u001b[0m\u001b[0;34m)\u001b[0m\u001b[0;34m\u001b[0m\u001b[0;34m\u001b[0m\u001b[0m\n\u001b[0m\u001b[1;32m   2187\u001b[0m \u001b[0;34m\u001b[0m\u001b[0m\n\u001b[1;32m   2188\u001b[0m             \u001b[0;31m# Convert args to object arrays first\u001b[0m\u001b[0;34m\u001b[0m\u001b[0;34m\u001b[0m\u001b[0;34m\u001b[0m\u001b[0m\n",
      "\u001b[0;32m/usr/local/lib/python3.6/dist-packages/numpy/lib/function_base.py\u001b[0m in \u001b[0;36m_get_ufunc_and_otypes\u001b[0;34m(self, func, args)\u001b[0m\n\u001b[1;32m   2144\u001b[0m \u001b[0;34m\u001b[0m\u001b[0m\n\u001b[1;32m   2145\u001b[0m             \u001b[0minputs\u001b[0m \u001b[0;34m=\u001b[0m \u001b[0;34m[\u001b[0m\u001b[0marg\u001b[0m\u001b[0;34m.\u001b[0m\u001b[0mflat\u001b[0m\u001b[0;34m[\u001b[0m\u001b[0;36m0\u001b[0m\u001b[0;34m]\u001b[0m \u001b[0;32mfor\u001b[0m \u001b[0marg\u001b[0m \u001b[0;32min\u001b[0m \u001b[0margs\u001b[0m\u001b[0;34m]\u001b[0m\u001b[0;34m\u001b[0m\u001b[0;34m\u001b[0m\u001b[0m\n\u001b[0;32m-> 2146\u001b[0;31m             \u001b[0moutputs\u001b[0m \u001b[0;34m=\u001b[0m \u001b[0mfunc\u001b[0m\u001b[0;34m(\u001b[0m\u001b[0;34m*\u001b[0m\u001b[0minputs\u001b[0m\u001b[0;34m)\u001b[0m\u001b[0;34m\u001b[0m\u001b[0;34m\u001b[0m\u001b[0m\n\u001b[0m\u001b[1;32m   2147\u001b[0m \u001b[0;34m\u001b[0m\u001b[0m\n\u001b[1;32m   2148\u001b[0m             \u001b[0;31m# Performance note: profiling indicates that -- for simple\u001b[0m\u001b[0;34m\u001b[0m\u001b[0;34m\u001b[0m\u001b[0;34m\u001b[0m\u001b[0m\n",
      "\u001b[0;32m/usr/lib/python3/dist-packages/matplotlib/dates.py\u001b[0m in \u001b[0;36m_to_ordinalf\u001b[0;34m(dt)\u001b[0m\n\u001b[1;32m    224\u001b[0m         \u001b[0mtzi\u001b[0m \u001b[0;34m=\u001b[0m \u001b[0mUTC\u001b[0m\u001b[0;34m\u001b[0m\u001b[0;34m\u001b[0m\u001b[0m\n\u001b[1;32m    225\u001b[0m \u001b[0;34m\u001b[0m\u001b[0m\n\u001b[0;32m--> 226\u001b[0;31m     \u001b[0mbase\u001b[0m \u001b[0;34m=\u001b[0m \u001b[0mfloat\u001b[0m\u001b[0;34m(\u001b[0m\u001b[0mdt\u001b[0m\u001b[0;34m.\u001b[0m\u001b[0mtoordinal\u001b[0m\u001b[0;34m(\u001b[0m\u001b[0;34m)\u001b[0m\u001b[0;34m)\u001b[0m\u001b[0;34m\u001b[0m\u001b[0;34m\u001b[0m\u001b[0m\n\u001b[0m\u001b[1;32m    227\u001b[0m \u001b[0;34m\u001b[0m\u001b[0m\n\u001b[1;32m    228\u001b[0m     \u001b[0;31m# If it's sufficiently datetime-like, it will have a `date()` method\u001b[0m\u001b[0;34m\u001b[0m\u001b[0;34m\u001b[0m\u001b[0;34m\u001b[0m\u001b[0m\n",
      "\u001b[0;31mAttributeError\u001b[0m: 'numpy.datetime64' object has no attribute 'toordinal'"
     ]
    }
   ],
   "source": [
    "plt.style.use(\"fivethirtyeight\")\n",
    "crecimientos.plot()\n",
    "rolling_returns = df_variaciones.rolling(window=12).mean()\n",
    "rolling_returns.plot()\n",
    "monthly_drawdown.plot()"
   ]
  },
  {
   "cell_type": "code",
   "execution_count": null,
   "metadata": {},
   "outputs": [],
   "source": []
  },
  {
   "cell_type": "raw",
   "metadata": {},
   "source": [
    "#correlations = df_variaciones.corr()\n",
    "#correlations.style.background_gradient(cmap='coolwarm').set_precision(2)\n",
    "#plt.savefig(\"correlations.png\")"
   ]
  },
  {
   "cell_type": "code",
   "execution_count": 15,
   "metadata": {},
   "outputs": [
    {
     "output_type": "execute_result",
     "data": {
      "text/plain": [
       "<pandas.io.formats.style.Styler at 0x7f1a8afb2ac8>"
      ],
      "text/html": "<style  type=\"text/css\" >\n#T_d9dca00a_bf1f_11eb_a9d8_028bbe4f981frow0_col0,#T_d9dca00a_bf1f_11eb_a9d8_028bbe4f981frow1_col1,#T_d9dca00a_bf1f_11eb_a9d8_028bbe4f981frow2_col2,#T_d9dca00a_bf1f_11eb_a9d8_028bbe4f981frow3_col3,#T_d9dca00a_bf1f_11eb_a9d8_028bbe4f981frow4_col4,#T_d9dca00a_bf1f_11eb_a9d8_028bbe4f981frow5_col5,#T_d9dca00a_bf1f_11eb_a9d8_028bbe4f981frow6_col6,#T_d9dca00a_bf1f_11eb_a9d8_028bbe4f981frow7_col7,#T_d9dca00a_bf1f_11eb_a9d8_028bbe4f981frow8_col8,#T_d9dca00a_bf1f_11eb_a9d8_028bbe4f981frow9_col9,#T_d9dca00a_bf1f_11eb_a9d8_028bbe4f981frow10_col10,#T_d9dca00a_bf1f_11eb_a9d8_028bbe4f981frow11_col11,#T_d9dca00a_bf1f_11eb_a9d8_028bbe4f981frow12_col12,#T_d9dca00a_bf1f_11eb_a9d8_028bbe4f981frow13_col13,#T_d9dca00a_bf1f_11eb_a9d8_028bbe4f981frow14_col14,#T_d9dca00a_bf1f_11eb_a9d8_028bbe4f981frow15_col15{\n            background-color:  #08306b;\n            color:  #f1f1f1;\n        }#T_d9dca00a_bf1f_11eb_a9d8_028bbe4f981frow0_col1,#T_d9dca00a_bf1f_11eb_a9d8_028bbe4f981frow5_col4{\n            background-color:  #9dcae1;\n            color:  #000000;\n        }#T_d9dca00a_bf1f_11eb_a9d8_028bbe4f981frow0_col2,#T_d9dca00a_bf1f_11eb_a9d8_028bbe4f981frow2_col0,#T_d9dca00a_bf1f_11eb_a9d8_028bbe4f981frow7_col1,#T_d9dca00a_bf1f_11eb_a9d8_028bbe4f981frow12_col11{\n            background-color:  #206fb4;\n            color:  #f1f1f1;\n        }#T_d9dca00a_bf1f_11eb_a9d8_028bbe4f981frow0_col3{\n            background-color:  #a0cbe2;\n            color:  #000000;\n        }#T_d9dca00a_bf1f_11eb_a9d8_028bbe4f981frow0_col4,#T_d9dca00a_bf1f_11eb_a9d8_028bbe4f981frow13_col9{\n            background-color:  #2c7cba;\n            color:  #000000;\n        }#T_d9dca00a_bf1f_11eb_a9d8_028bbe4f981frow0_col5{\n            background-color:  #6aaed6;\n            color:  #000000;\n        }#T_d9dca00a_bf1f_11eb_a9d8_028bbe4f981frow0_col6{\n            background-color:  #c2d9ee;\n            color:  #000000;\n        }#T_d9dca00a_bf1f_11eb_a9d8_028bbe4f981frow0_col7,#T_d9dca00a_bf1f_11eb_a9d8_028bbe4f981frow2_col7{\n            background-color:  #d2e3f3;\n            color:  #000000;\n        }#T_d9dca00a_bf1f_11eb_a9d8_028bbe4f981frow0_col8{\n            background-color:  #c7dcef;\n            color:  #000000;\n        }#T_d9dca00a_bf1f_11eb_a9d8_028bbe4f981frow0_col9,#T_d9dca00a_bf1f_11eb_a9d8_028bbe4f981frow2_col6,#T_d9dca00a_bf1f_11eb_a9d8_028bbe4f981frow2_col9{\n            background-color:  #cadef0;\n            color:  #000000;\n        }#T_d9dca00a_bf1f_11eb_a9d8_028bbe4f981frow0_col10{\n            background-color:  #cbdef1;\n            color:  #000000;\n        }#T_d9dca00a_bf1f_11eb_a9d8_028bbe4f981frow0_col11{\n            background-color:  #bed8ec;\n            color:  #000000;\n        }#T_d9dca00a_bf1f_11eb_a9d8_028bbe4f981frow0_col12,#T_d9dca00a_bf1f_11eb_a9d8_028bbe4f981frow2_col11,#T_d9dca00a_bf1f_11eb_a9d8_028bbe4f981frow4_col15,#T_d9dca00a_bf1f_11eb_a9d8_028bbe4f981frow5_col15{\n            background-color:  #d1e2f3;\n            color:  #000000;\n        }#T_d9dca00a_bf1f_11eb_a9d8_028bbe4f981frow0_col13,#T_d9dca00a_bf1f_11eb_a9d8_028bbe4f981frow4_col14,#T_d9dca00a_bf1f_11eb_a9d8_028bbe4f981frow13_col15{\n            background-color:  #d3e4f3;\n            color:  #000000;\n        }#T_d9dca00a_bf1f_11eb_a9d8_028bbe4f981frow0_col14{\n            background-color:  #cee0f2;\n            color:  #000000;\n        }#T_d9dca00a_bf1f_11eb_a9d8_028bbe4f981frow0_col15{\n            background-color:  #b7d4ea;\n            color:  #000000;\n        }#T_d9dca00a_bf1f_11eb_a9d8_028bbe4f981frow1_col0{\n            background-color:  #a9cfe5;\n            color:  #000000;\n        }#T_d9dca00a_bf1f_11eb_a9d8_028bbe4f981frow1_col2{\n            background-color:  #a8cee4;\n            color:  #000000;\n        }#T_d9dca00a_bf1f_11eb_a9d8_028bbe4f981frow1_col3,#T_d9dca00a_bf1f_11eb_a9d8_028bbe4f981frow4_col11,#T_d9dca00a_bf1f_11eb_a9d8_028bbe4f981frow6_col15,#T_d9dca00a_bf1f_11eb_a9d8_028bbe4f981frow11_col0{\n            background-color:  #d7e6f5;\n            color:  #000000;\n        }#T_d9dca00a_bf1f_11eb_a9d8_028bbe4f981frow1_col4{\n            background-color:  #aed1e7;\n            color:  #000000;\n        }#T_d9dca00a_bf1f_11eb_a9d8_028bbe4f981frow1_col5{\n            background-color:  #1f6eb3;\n            color:  #f1f1f1;\n        }#T_d9dca00a_bf1f_11eb_a9d8_028bbe4f981frow1_col6{\n            background-color:  #1663aa;\n            color:  #f1f1f1;\n        }#T_d9dca00a_bf1f_11eb_a9d8_028bbe4f981frow1_col7{\n            background-color:  #1966ad;\n            color:  #f1f1f1;\n        }#T_d9dca00a_bf1f_11eb_a9d8_028bbe4f981frow1_col8{\n            background-color:  #1e6db2;\n            color:  #f1f1f1;\n        }#T_d9dca00a_bf1f_11eb_a9d8_028bbe4f981frow1_col9{\n            background-color:  #1764ab;\n            color:  #f1f1f1;\n        }#T_d9dca00a_bf1f_11eb_a9d8_028bbe4f981frow1_col10,#T_d9dca00a_bf1f_11eb_a9d8_028bbe4f981frow5_col1,#T_d9dca00a_bf1f_11eb_a9d8_028bbe4f981frow9_col1{\n            background-color:  #1c6ab0;\n            color:  #f1f1f1;\n        }#T_d9dca00a_bf1f_11eb_a9d8_028bbe4f981frow1_col11,#T_d9dca00a_bf1f_11eb_a9d8_028bbe4f981frow8_col13,#T_d9dca00a_bf1f_11eb_a9d8_028bbe4f981frow9_col13{\n            background-color:  #2f7fbc;\n            color:  #000000;\n        }#T_d9dca00a_bf1f_11eb_a9d8_028bbe4f981frow1_col12{\n            background-color:  #1b69af;\n            color:  #f1f1f1;\n        }#T_d9dca00a_bf1f_11eb_a9d8_028bbe4f981frow1_col13,#T_d9dca00a_bf1f_11eb_a9d8_028bbe4f981frow10_col5{\n            background-color:  #61a7d2;\n            color:  #000000;\n        }#T_d9dca00a_bf1f_11eb_a9d8_028bbe4f981frow1_col14{\n            background-color:  #1865ac;\n            color:  #f1f1f1;\n        }#T_d9dca00a_bf1f_11eb_a9d8_028bbe4f981frow1_col15,#T_d9dca00a_bf1f_11eb_a9d8_028bbe4f981frow15_col13{\n            background-color:  #ddeaf7;\n            color:  #000000;\n        }#T_d9dca00a_bf1f_11eb_a9d8_028bbe4f981frow2_col1{\n            background-color:  #9ac8e0;\n            color:  #000000;\n        }#T_d9dca00a_bf1f_11eb_a9d8_028bbe4f981frow2_col3{\n            background-color:  #3989c1;\n            color:  #000000;\n        }#T_d9dca00a_bf1f_11eb_a9d8_028bbe4f981frow2_col4,#T_d9dca00a_bf1f_11eb_a9d8_028bbe4f981frow9_col14,#T_d9dca00a_bf1f_11eb_a9d8_028bbe4f981frow14_col12{\n            background-color:  #084488;\n            color:  #f1f1f1;\n        }#T_d9dca00a_bf1f_11eb_a9d8_028bbe4f981frow2_col5{\n            background-color:  #8cc0dd;\n            color:  #000000;\n        }#T_d9dca00a_bf1f_11eb_a9d8_028bbe4f981frow2_col8,#T_d9dca00a_bf1f_11eb_a9d8_028bbe4f981frow2_col14,#T_d9dca00a_bf1f_11eb_a9d8_028bbe4f981frow3_col0,#T_d9dca00a_bf1f_11eb_a9d8_028bbe4f981frow4_col6{\n            background-color:  #cfe1f2;\n            color:  #000000;\n        }#T_d9dca00a_bf1f_11eb_a9d8_028bbe4f981frow2_col10{\n            background-color:  #c9ddf0;\n            color:  #000000;\n        }#T_d9dca00a_bf1f_11eb_a9d8_028bbe4f981frow2_col12,#T_d9dca00a_bf1f_11eb_a9d8_028bbe4f981frow4_col9{\n            background-color:  #d0e1f2;\n            color:  #000000;\n        }#T_d9dca00a_bf1f_11eb_a9d8_028bbe4f981frow2_col13,#T_d9dca00a_bf1f_11eb_a9d8_028bbe4f981frow9_col15{\n            background-color:  #dceaf6;\n            color:  #000000;\n        }#T_d9dca00a_bf1f_11eb_a9d8_028bbe4f981frow2_col15{\n            background-color:  #ccdff1;\n            color:  #000000;\n        }#T_d9dca00a_bf1f_11eb_a9d8_028bbe4f981frow3_col1,#T_d9dca00a_bf1f_11eb_a9d8_028bbe4f981frow3_col6,#T_d9dca00a_bf1f_11eb_a9d8_028bbe4f981frow3_col7,#T_d9dca00a_bf1f_11eb_a9d8_028bbe4f981frow3_col8,#T_d9dca00a_bf1f_11eb_a9d8_028bbe4f981frow3_col9,#T_d9dca00a_bf1f_11eb_a9d8_028bbe4f981frow3_col10,#T_d9dca00a_bf1f_11eb_a9d8_028bbe4f981frow3_col11,#T_d9dca00a_bf1f_11eb_a9d8_028bbe4f981frow3_col13,#T_d9dca00a_bf1f_11eb_a9d8_028bbe4f981frow3_col14,#T_d9dca00a_bf1f_11eb_a9d8_028bbe4f981frow7_col0,#T_d9dca00a_bf1f_11eb_a9d8_028bbe4f981frow7_col2,#T_d9dca00a_bf1f_11eb_a9d8_028bbe4f981frow7_col4,#T_d9dca00a_bf1f_11eb_a9d8_028bbe4f981frow10_col3,#T_d9dca00a_bf1f_11eb_a9d8_028bbe4f981frow12_col15,#T_d9dca00a_bf1f_11eb_a9d8_028bbe4f981frow15_col1,#T_d9dca00a_bf1f_11eb_a9d8_028bbe4f981frow15_col5,#T_d9dca00a_bf1f_11eb_a9d8_028bbe4f981frow15_col12{\n            background-color:  #f7fbff;\n            color:  #000000;\n        }#T_d9dca00a_bf1f_11eb_a9d8_028bbe4f981frow3_col2{\n            background-color:  #549fcd;\n            color:  #000000;\n        }#T_d9dca00a_bf1f_11eb_a9d8_028bbe4f981frow3_col4{\n            background-color:  #4f9bcb;\n            color:  #000000;\n        }#T_d9dca00a_bf1f_11eb_a9d8_028bbe4f981frow3_col5,#T_d9dca00a_bf1f_11eb_a9d8_028bbe4f981frow14_col4,#T_d9dca00a_bf1f_11eb_a9d8_028bbe4f981frow15_col9{\n            background-color:  #e0ecf8;\n            color:  #000000;\n        }#T_d9dca00a_bf1f_11eb_a9d8_028bbe4f981frow3_col12,#T_d9dca00a_bf1f_11eb_a9d8_028bbe4f981frow12_col4,#T_d9dca00a_bf1f_11eb_a9d8_028bbe4f981frow13_col4{\n            background-color:  #f6faff;\n            color:  #000000;\n        }#T_d9dca00a_bf1f_11eb_a9d8_028bbe4f981frow3_col15,#T_d9dca00a_bf1f_11eb_a9d8_028bbe4f981frow15_col10{\n            background-color:  #dbe9f6;\n            color:  #000000;\n        }#T_d9dca00a_bf1f_11eb_a9d8_028bbe4f981frow4_col0{\n            background-color:  #2d7dbb;\n            color:  #000000;\n        }#T_d9dca00a_bf1f_11eb_a9d8_028bbe4f981frow4_col1,#T_d9dca00a_bf1f_11eb_a9d8_028bbe4f981frow4_col5{\n            background-color:  #a6cee4;\n            color:  #000000;\n        }#T_d9dca00a_bf1f_11eb_a9d8_028bbe4f981frow4_col2{\n            background-color:  #08458a;\n            color:  #f1f1f1;\n        }#T_d9dca00a_bf1f_11eb_a9d8_028bbe4f981frow4_col3,#T_d9dca00a_bf1f_11eb_a9d8_028bbe4f981frow13_col7{\n            background-color:  #3888c1;\n            color:  #000000;\n        }#T_d9dca00a_bf1f_11eb_a9d8_028bbe4f981frow4_col7,#T_d9dca00a_bf1f_11eb_a9d8_028bbe4f981frow4_col8,#T_d9dca00a_bf1f_11eb_a9d8_028bbe4f981frow15_col3{\n            background-color:  #d5e5f4;\n            color:  #000000;\n        }#T_d9dca00a_bf1f_11eb_a9d8_028bbe4f981frow4_col10{\n            background-color:  #d0e2f2;\n            color:  #000000;\n        }#T_d9dca00a_bf1f_11eb_a9d8_028bbe4f981frow4_col12{\n            background-color:  #d6e6f4;\n            color:  #000000;\n        }#T_d9dca00a_bf1f_11eb_a9d8_028bbe4f981frow4_col13,#T_d9dca00a_bf1f_11eb_a9d8_028bbe4f981frow8_col4,#T_d9dca00a_bf1f_11eb_a9d8_028bbe4f981frow10_col15,#T_d9dca00a_bf1f_11eb_a9d8_028bbe4f981frow15_col11{\n            background-color:  #e1edf8;\n            color:  #000000;\n        }#T_d9dca00a_bf1f_11eb_a9d8_028bbe4f981frow5_col0{\n            background-color:  #66abd4;\n            color:  #000000;\n        }#T_d9dca00a_bf1f_11eb_a9d8_028bbe4f981frow5_col2{\n            background-color:  #89bedc;\n            color:  #000000;\n        }#T_d9dca00a_bf1f_11eb_a9d8_028bbe4f981frow5_col3{\n            background-color:  #b3d3e8;\n            color:  #000000;\n        }#T_d9dca00a_bf1f_11eb_a9d8_028bbe4f981frow5_col6{\n            background-color:  #3686c0;\n            color:  #000000;\n        }#T_d9dca00a_bf1f_11eb_a9d8_028bbe4f981frow5_col7,#T_d9dca00a_bf1f_11eb_a9d8_028bbe4f981frow5_col10,#T_d9dca00a_bf1f_11eb_a9d8_028bbe4f981frow7_col13{\n            background-color:  #3f8fc5;\n            color:  #000000;\n        }#T_d9dca00a_bf1f_11eb_a9d8_028bbe4f981frow5_col8{\n            background-color:  #3b8bc2;\n            color:  #000000;\n        }#T_d9dca00a_bf1f_11eb_a9d8_028bbe4f981frow5_col9,#T_d9dca00a_bf1f_11eb_a9d8_028bbe4f981frow5_col12{\n            background-color:  #3a8ac2;\n            color:  #000000;\n        }#T_d9dca00a_bf1f_11eb_a9d8_028bbe4f981frow5_col11,#T_d9dca00a_bf1f_11eb_a9d8_028bbe4f981frow5_col14{\n            background-color:  #3d8dc4;\n            color:  #000000;\n        }#T_d9dca00a_bf1f_11eb_a9d8_028bbe4f981frow5_col13{\n            background-color:  #6caed6;\n            color:  #000000;\n        }#T_d9dca00a_bf1f_11eb_a9d8_028bbe4f981frow6_col0{\n            background-color:  #dce9f6;\n            color:  #000000;\n        }#T_d9dca00a_bf1f_11eb_a9d8_028bbe4f981frow6_col1{\n            background-color:  #1a68ae;\n            color:  #f1f1f1;\n        }#T_d9dca00a_bf1f_11eb_a9d8_028bbe4f981frow6_col2{\n            background-color:  #e4eff9;\n            color:  #000000;\n        }#T_d9dca00a_bf1f_11eb_a9d8_028bbe4f981frow6_col3{\n            background-color:  #e9f2fa;\n            color:  #000000;\n        }#T_d9dca00a_bf1f_11eb_a9d8_028bbe4f981frow6_col4,#T_d9dca00a_bf1f_11eb_a9d8_028bbe4f981frow13_col3{\n            background-color:  #e5eff9;\n            color:  #000000;\n        }#T_d9dca00a_bf1f_11eb_a9d8_028bbe4f981frow6_col5{\n            background-color:  #4997c9;\n            color:  #000000;\n        }#T_d9dca00a_bf1f_11eb_a9d8_028bbe4f981frow6_col7,#T_d9dca00a_bf1f_11eb_a9d8_028bbe4f981frow6_col10,#T_d9dca00a_bf1f_11eb_a9d8_028bbe4f981frow10_col6{\n            background-color:  #083979;\n            color:  #f1f1f1;\n        }#T_d9dca00a_bf1f_11eb_a9d8_028bbe4f981frow6_col8,#T_d9dca00a_bf1f_11eb_a9d8_028bbe4f981frow8_col6,#T_d9dca00a_bf1f_11eb_a9d8_028bbe4f981frow14_col7{\n            background-color:  #083b7c;\n            color:  #f1f1f1;\n        }#T_d9dca00a_bf1f_11eb_a9d8_028bbe4f981frow6_col9,#T_d9dca00a_bf1f_11eb_a9d8_028bbe4f981frow9_col6,#T_d9dca00a_bf1f_11eb_a9d8_028bbe4f981frow10_col9{\n            background-color:  #083471;\n            color:  #f1f1f1;\n        }#T_d9dca00a_bf1f_11eb_a9d8_028bbe4f981frow6_col11,#T_d9dca00a_bf1f_11eb_a9d8_028bbe4f981frow8_col14,#T_d9dca00a_bf1f_11eb_a9d8_028bbe4f981frow11_col6,#T_d9dca00a_bf1f_11eb_a9d8_028bbe4f981frow14_col8{\n            background-color:  #08488e;\n            color:  #f1f1f1;\n        }#T_d9dca00a_bf1f_11eb_a9d8_028bbe4f981frow6_col12,#T_d9dca00a_bf1f_11eb_a9d8_028bbe4f981frow8_col10,#T_d9dca00a_bf1f_11eb_a9d8_028bbe4f981frow9_col12,#T_d9dca00a_bf1f_11eb_a9d8_028bbe4f981frow12_col9{\n            background-color:  #084d96;\n            color:  #f1f1f1;\n        }#T_d9dca00a_bf1f_11eb_a9d8_028bbe4f981frow6_col13{\n            background-color:  #2171b5;\n            color:  #f1f1f1;\n        }#T_d9dca00a_bf1f_11eb_a9d8_028bbe4f981frow6_col14,#T_d9dca00a_bf1f_11eb_a9d8_028bbe4f981frow7_col12,#T_d9dca00a_bf1f_11eb_a9d8_028bbe4f981frow12_col7{\n            background-color:  #084184;\n            color:  #f1f1f1;\n        }#T_d9dca00a_bf1f_11eb_a9d8_028bbe4f981frow7_col3{\n            background-color:  #f4f9fe;\n            color:  #000000;\n        }#T_d9dca00a_bf1f_11eb_a9d8_028bbe4f981frow7_col5{\n            background-color:  #5fa6d1;\n            color:  #000000;\n        }#T_d9dca00a_bf1f_11eb_a9d8_028bbe4f981frow7_col6{\n            background-color:  #083a7a;\n            color:  #f1f1f1;\n        }#T_d9dca00a_bf1f_11eb_a9d8_028bbe4f981frow7_col8,#T_d9dca00a_bf1f_11eb_a9d8_028bbe4f981frow9_col8{\n            background-color:  #084990;\n            color:  #f1f1f1;\n        }#T_d9dca00a_bf1f_11eb_a9d8_028bbe4f981frow7_col9{\n            background-color:  #083877;\n            color:  #f1f1f1;\n        }#T_d9dca00a_bf1f_11eb_a9d8_028bbe4f981frow7_col10,#T_d9dca00a_bf1f_11eb_a9d8_028bbe4f981frow7_col14,#T_d9dca00a_bf1f_11eb_a9d8_028bbe4f981frow10_col7{\n            background-color:  #083d7f;\n            color:  #f1f1f1;\n        }#T_d9dca00a_bf1f_11eb_a9d8_028bbe4f981frow7_col11,#T_d9dca00a_bf1f_11eb_a9d8_028bbe4f981frow14_col11{\n            background-color:  #135fa7;\n            color:  #f1f1f1;\n        }#T_d9dca00a_bf1f_11eb_a9d8_028bbe4f981frow7_col15,#T_d9dca00a_bf1f_11eb_a9d8_028bbe4f981frow13_col0{\n            background-color:  #eaf3fb;\n            color:  #000000;\n        }#T_d9dca00a_bf1f_11eb_a9d8_028bbe4f981frow8_col0{\n            background-color:  #d6e5f4;\n            color:  #000000;\n        }#T_d9dca00a_bf1f_11eb_a9d8_028bbe4f981frow8_col1,#T_d9dca00a_bf1f_11eb_a9d8_028bbe4f981frow13_col6{\n            background-color:  #2070b4;\n            color:  #f1f1f1;\n        }#T_d9dca00a_bf1f_11eb_a9d8_028bbe4f981frow8_col2,#T_d9dca00a_bf1f_11eb_a9d8_028bbe4f981frow8_col3,#T_d9dca00a_bf1f_11eb_a9d8_028bbe4f981frow14_col0,#T_d9dca00a_bf1f_11eb_a9d8_028bbe4f981frow14_col15,#T_d9dca00a_bf1f_11eb_a9d8_028bbe4f981frow15_col6{\n            background-color:  #deebf7;\n            color:  #000000;\n        }#T_d9dca00a_bf1f_11eb_a9d8_028bbe4f981frow8_col5{\n            background-color:  #4896c8;\n            color:  #000000;\n        }#T_d9dca00a_bf1f_11eb_a9d8_028bbe4f981frow8_col7,#T_d9dca00a_bf1f_11eb_a9d8_028bbe4f981frow12_col14{\n            background-color:  #08468b;\n            color:  #f1f1f1;\n        }#T_d9dca00a_bf1f_11eb_a9d8_028bbe4f981frow8_col9{\n            background-color:  #08478d;\n            color:  #f1f1f1;\n        }#T_d9dca00a_bf1f_11eb_a9d8_028bbe4f981frow8_col11,#T_d9dca00a_bf1f_11eb_a9d8_028bbe4f981frow14_col10{\n            background-color:  #084c95;\n            color:  #f1f1f1;\n        }#T_d9dca00a_bf1f_11eb_a9d8_028bbe4f981frow8_col12,#T_d9dca00a_bf1f_11eb_a9d8_028bbe4f981frow10_col8{\n            background-color:  #09529d;\n            color:  #f1f1f1;\n        }#T_d9dca00a_bf1f_11eb_a9d8_028bbe4f981frow8_col15{\n            background-color:  #d4e4f4;\n            color:  #000000;\n        }#T_d9dca00a_bf1f_11eb_a9d8_028bbe4f981frow9_col0,#T_d9dca00a_bf1f_11eb_a9d8_028bbe4f981frow9_col2,#T_d9dca00a_bf1f_11eb_a9d8_028bbe4f981frow11_col3{\n            background-color:  #e7f1fa;\n            color:  #000000;\n        }#T_d9dca00a_bf1f_11eb_a9d8_028bbe4f981frow9_col3,#T_d9dca00a_bf1f_11eb_a9d8_028bbe4f981frow11_col4{\n            background-color:  #edf4fc;\n            color:  #000000;\n        }#T_d9dca00a_bf1f_11eb_a9d8_028bbe4f981frow9_col4,#T_d9dca00a_bf1f_11eb_a9d8_028bbe4f981frow11_col2{\n            background-color:  #eaf2fb;\n            color:  #000000;\n        }#T_d9dca00a_bf1f_11eb_a9d8_028bbe4f981frow9_col5,#T_d9dca00a_bf1f_11eb_a9d8_028bbe4f981frow11_col5{\n            background-color:  #519ccc;\n            color:  #000000;\n        }#T_d9dca00a_bf1f_11eb_a9d8_028bbe4f981frow9_col7{\n            background-color:  #083776;\n            color:  #f1f1f1;\n        }#T_d9dca00a_bf1f_11eb_a9d8_028bbe4f981frow9_col10{\n            background-color:  #083370;\n            color:  #f1f1f1;\n        }#T_d9dca00a_bf1f_11eb_a9d8_028bbe4f981frow9_col11{\n            background-color:  #0d57a1;\n            color:  #f1f1f1;\n        }#T_d9dca00a_bf1f_11eb_a9d8_028bbe4f981frow10_col0,#T_d9dca00a_bf1f_11eb_a9d8_028bbe4f981frow12_col2{\n            background-color:  #f2f8fd;\n            color:  #000000;\n        }#T_d9dca00a_bf1f_11eb_a9d8_028bbe4f981frow10_col1{\n            background-color:  #2575b7;\n            color:  #000000;\n        }#T_d9dca00a_bf1f_11eb_a9d8_028bbe4f981frow10_col2,#T_d9dca00a_bf1f_11eb_a9d8_028bbe4f981frow15_col4,#T_d9dca00a_bf1f_11eb_a9d8_028bbe4f981frow15_col14{\n            background-color:  #f0f6fd;\n            color:  #000000;\n        }#T_d9dca00a_bf1f_11eb_a9d8_028bbe4f981frow10_col4,#T_d9dca00a_bf1f_11eb_a9d8_028bbe4f981frow13_col2{\n            background-color:  #f5fafe;\n            color:  #000000;\n        }#T_d9dca00a_bf1f_11eb_a9d8_028bbe4f981frow10_col11{\n            background-color:  #125da6;\n            color:  #f1f1f1;\n        }#T_d9dca00a_bf1f_11eb_a9d8_028bbe4f981frow10_col12,#T_d9dca00a_bf1f_11eb_a9d8_028bbe4f981frow11_col9,#T_d9dca00a_bf1f_11eb_a9d8_028bbe4f981frow11_col13{\n            background-color:  #0c56a0;\n            color:  #f1f1f1;\n        }#T_d9dca00a_bf1f_11eb_a9d8_028bbe4f981frow10_col13,#T_d9dca00a_bf1f_11eb_a9d8_028bbe4f981frow13_col8{\n            background-color:  #3282be;\n            color:  #000000;\n        }#T_d9dca00a_bf1f_11eb_a9d8_028bbe4f981frow10_col14{\n            background-color:  #084f99;\n            color:  #f1f1f1;\n        }#T_d9dca00a_bf1f_11eb_a9d8_028bbe4f981frow11_col1{\n            background-color:  #3787c0;\n            color:  #000000;\n        }#T_d9dca00a_bf1f_11eb_a9d8_028bbe4f981frow11_col7{\n            background-color:  #115ca5;\n            color:  #f1f1f1;\n        }#T_d9dca00a_bf1f_11eb_a9d8_028bbe4f981frow11_col8,#T_d9dca00a_bf1f_11eb_a9d8_028bbe4f981frow12_col6{\n            background-color:  #084e98;\n            color:  #f1f1f1;\n        }#T_d9dca00a_bf1f_11eb_a9d8_028bbe4f981frow11_col10{\n            background-color:  #0e59a2;\n            color:  #f1f1f1;\n        }#T_d9dca00a_bf1f_11eb_a9d8_028bbe4f981frow11_col12{\n            background-color:  #1d6cb1;\n            color:  #f1f1f1;\n        }#T_d9dca00a_bf1f_11eb_a9d8_028bbe4f981frow11_col14{\n            background-color:  #1561a9;\n            color:  #f1f1f1;\n        }#T_d9dca00a_bf1f_11eb_a9d8_028bbe4f981frow11_col15{\n            background-color:  #d9e7f5;\n            color:  #000000;\n        }#T_d9dca00a_bf1f_11eb_a9d8_028bbe4f981frow12_col0{\n            background-color:  #f3f8fe;\n            color:  #000000;\n        }#T_d9dca00a_bf1f_11eb_a9d8_028bbe4f981frow12_col1{\n            background-color:  #2272b6;\n            color:  #f1f1f1;\n        }#T_d9dca00a_bf1f_11eb_a9d8_028bbe4f981frow12_col3{\n            background-color:  #eff6fc;\n            color:  #000000;\n        }#T_d9dca00a_bf1f_11eb_a9d8_028bbe4f981frow12_col5{\n            background-color:  #539ecd;\n            color:  #000000;\n        }#T_d9dca00a_bf1f_11eb_a9d8_028bbe4f981frow12_col8,#T_d9dca00a_bf1f_11eb_a9d8_028bbe4f981frow12_col10,#T_d9dca00a_bf1f_11eb_a9d8_028bbe4f981frow13_col11{\n            background-color:  #0b559f;\n            color:  #f1f1f1;\n        }#T_d9dca00a_bf1f_11eb_a9d8_028bbe4f981frow12_col13{\n            background-color:  #64a9d3;\n            color:  #000000;\n        }#T_d9dca00a_bf1f_11eb_a9d8_028bbe4f981frow13_col1{\n            background-color:  #6fb0d7;\n            color:  #000000;\n        }#T_d9dca00a_bf1f_11eb_a9d8_028bbe4f981frow13_col5{\n            background-color:  #8fc2de;\n            color:  #000000;\n        }#T_d9dca00a_bf1f_11eb_a9d8_028bbe4f981frow13_col10{\n            background-color:  #2b7bba;\n            color:  #000000;\n        }#T_d9dca00a_bf1f_11eb_a9d8_028bbe4f981frow13_col12{\n            background-color:  #5ba3d0;\n            color:  #000000;\n        }#T_d9dca00a_bf1f_11eb_a9d8_028bbe4f981frow13_col14{\n            background-color:  #4090c5;\n            color:  #000000;\n        }#T_d9dca00a_bf1f_11eb_a9d8_028bbe4f981frow14_col1{\n            background-color:  #1967ad;\n            color:  #f1f1f1;\n        }#T_d9dca00a_bf1f_11eb_a9d8_028bbe4f981frow14_col2{\n            background-color:  #dfecf7;\n            color:  #000000;\n        }#T_d9dca00a_bf1f_11eb_a9d8_028bbe4f981frow14_col3{\n            background-color:  #dfebf7;\n            color:  #000000;\n        }#T_d9dca00a_bf1f_11eb_a9d8_028bbe4f981frow14_col5{\n            background-color:  #4a98c9;\n            color:  #000000;\n        }#T_d9dca00a_bf1f_11eb_a9d8_028bbe4f981frow14_col6{\n            background-color:  #084082;\n            color:  #f1f1f1;\n        }#T_d9dca00a_bf1f_11eb_a9d8_028bbe4f981frow14_col9{\n            background-color:  #084285;\n            color:  #f1f1f1;\n        }#T_d9dca00a_bf1f_11eb_a9d8_028bbe4f981frow14_col13{\n            background-color:  #3c8cc3;\n            color:  #000000;\n        }#T_d9dca00a_bf1f_11eb_a9d8_028bbe4f981frow15_col0{\n            background-color:  #dae8f6;\n            color:  #000000;\n        }#T_d9dca00a_bf1f_11eb_a9d8_028bbe4f981frow15_col2{\n            background-color:  #eef5fc;\n            color:  #000000;\n        }#T_d9dca00a_bf1f_11eb_a9d8_028bbe4f981frow15_col7{\n            background-color:  #e8f1fa;\n            color:  #000000;\n        }#T_d9dca00a_bf1f_11eb_a9d8_028bbe4f981frow15_col8{\n            background-color:  #e6f0f9;\n            color:  #000000;\n        }</style><table id=\"T_d9dca00a_bf1f_11eb_a9d8_028bbe4f981f\" ><thead>    <tr>        <th class=\"index_name level0\" >Symbols</th>        <th class=\"col_heading level0 col0\" >VCSH</th>        <th class=\"col_heading level0 col1\" >HYG</th>        <th class=\"col_heading level0 col2\" >LQD</th>        <th class=\"col_heading level0 col3\" >AGG</th>        <th class=\"col_heading level0 col4\" >VCIT</th>        <th class=\"col_heading level0 col5\" >ANGL</th>        <th class=\"col_heading level0 col6\" >ACWI</th>        <th class=\"col_heading level0 col7\" >MOAT</th>        <th class=\"col_heading level0 col8\" >EFA</th>        <th class=\"col_heading level0 col9\" >SPY</th>        <th class=\"col_heading level0 col10\" >SPHQ</th>        <th class=\"col_heading level0 col11\" >EEM</th>        <th class=\"col_heading level0 col12\" >XLF</th>        <th class=\"col_heading level0 col13\" >EMQQ</th>        <th class=\"col_heading level0 col14\" >VB</th>        <th class=\"col_heading level0 col15\" >CEF</th>    </tr>    <tr>        <th class=\"index_name level0\" >Symbols</th>        <th class=\"blank\" ></th>        <th class=\"blank\" ></th>        <th class=\"blank\" ></th>        <th class=\"blank\" ></th>        <th class=\"blank\" ></th>        <th class=\"blank\" ></th>        <th class=\"blank\" ></th>        <th class=\"blank\" ></th>        <th class=\"blank\" ></th>        <th class=\"blank\" ></th>        <th class=\"blank\" ></th>        <th class=\"blank\" ></th>        <th class=\"blank\" ></th>        <th class=\"blank\" ></th>        <th class=\"blank\" ></th>        <th class=\"blank\" ></th>    </tr></thead><tbody>\n                <tr>\n                        <th id=\"T_d9dca00a_bf1f_11eb_a9d8_028bbe4f981flevel0_row0\" class=\"row_heading level0 row0\" >VCSH</th>\n                        <td id=\"T_d9dca00a_bf1f_11eb_a9d8_028bbe4f981frow0_col0\" class=\"data row0 col0\" >1.00</td>\n                        <td id=\"T_d9dca00a_bf1f_11eb_a9d8_028bbe4f981frow0_col1\" class=\"data row0 col1\" >0.53</td>\n                        <td id=\"T_d9dca00a_bf1f_11eb_a9d8_028bbe4f981frow0_col2\" class=\"data row0 col2\" >0.82</td>\n                        <td id=\"T_d9dca00a_bf1f_11eb_a9d8_028bbe4f981frow0_col3\" class=\"data row0 col3\" >0.43</td>\n                        <td id=\"T_d9dca00a_bf1f_11eb_a9d8_028bbe4f981frow0_col4\" class=\"data row0 col4\" >0.79</td>\n                        <td id=\"T_d9dca00a_bf1f_11eb_a9d8_028bbe4f981frow0_col5\" class=\"data row0 col5\" >0.65</td>\n                        <td id=\"T_d9dca00a_bf1f_11eb_a9d8_028bbe4f981frow0_col6\" class=\"data row0 col6\" >0.38</td>\n                        <td id=\"T_d9dca00a_bf1f_11eb_a9d8_028bbe4f981frow0_col7\" class=\"data row0 col7\" >0.28</td>\n                        <td id=\"T_d9dca00a_bf1f_11eb_a9d8_028bbe4f981frow0_col8\" class=\"data row0 col8\" >0.40</td>\n                        <td id=\"T_d9dca00a_bf1f_11eb_a9d8_028bbe4f981frow0_col9\" class=\"data row0 col9\" >0.34</td>\n                        <td id=\"T_d9dca00a_bf1f_11eb_a9d8_028bbe4f981frow0_col10\" class=\"data row0 col10\" >0.30</td>\n                        <td id=\"T_d9dca00a_bf1f_11eb_a9d8_028bbe4f981frow0_col11\" class=\"data row0 col11\" >0.40</td>\n                        <td id=\"T_d9dca00a_bf1f_11eb_a9d8_028bbe4f981frow0_col12\" class=\"data row0 col12\" >0.29</td>\n                        <td id=\"T_d9dca00a_bf1f_11eb_a9d8_028bbe4f981frow0_col13\" class=\"data row0 col13\" >0.33</td>\n                        <td id=\"T_d9dca00a_bf1f_11eb_a9d8_028bbe4f981frow0_col14\" class=\"data row0 col14\" >0.37</td>\n                        <td id=\"T_d9dca00a_bf1f_11eb_a9d8_028bbe4f981frow0_col15\" class=\"data row0 col15\" >0.39</td>\n            </tr>\n            <tr>\n                        <th id=\"T_d9dca00a_bf1f_11eb_a9d8_028bbe4f981flevel0_row1\" class=\"row_heading level0 row1\" >HYG</th>\n                        <td id=\"T_d9dca00a_bf1f_11eb_a9d8_028bbe4f981frow1_col0\" class=\"data row1 col0\" >0.53</td>\n                        <td id=\"T_d9dca00a_bf1f_11eb_a9d8_028bbe4f981frow1_col1\" class=\"data row1 col1\" >1.00</td>\n                        <td id=\"T_d9dca00a_bf1f_11eb_a9d8_028bbe4f981frow1_col2\" class=\"data row1 col2\" >0.53</td>\n                        <td id=\"T_d9dca00a_bf1f_11eb_a9d8_028bbe4f981frow1_col3\" class=\"data row1 col3\" >0.24</td>\n                        <td id=\"T_d9dca00a_bf1f_11eb_a9d8_028bbe4f981frow1_col4\" class=\"data row1 col4\" >0.51</td>\n                        <td id=\"T_d9dca00a_bf1f_11eb_a9d8_028bbe4f981frow1_col5\" class=\"data row1 col5\" >0.83</td>\n                        <td id=\"T_d9dca00a_bf1f_11eb_a9d8_028bbe4f981frow1_col6\" class=\"data row1 col6\" >0.83</td>\n                        <td id=\"T_d9dca00a_bf1f_11eb_a9d8_028bbe4f981frow1_col7\" class=\"data row1 col7\" >0.81</td>\n                        <td id=\"T_d9dca00a_bf1f_11eb_a9d8_028bbe4f981frow1_col8\" class=\"data row1 col8\" >0.81</td>\n                        <td id=\"T_d9dca00a_bf1f_11eb_a9d8_028bbe4f981frow1_col9\" class=\"data row1 col9\" >0.83</td>\n                        <td id=\"T_d9dca00a_bf1f_11eb_a9d8_028bbe4f981frow1_col10\" class=\"data row1 col10\" >0.80</td>\n                        <td id=\"T_d9dca00a_bf1f_11eb_a9d8_028bbe4f981frow1_col11\" class=\"data row1 col11\" >0.75</td>\n                        <td id=\"T_d9dca00a_bf1f_11eb_a9d8_028bbe4f981frow1_col12\" class=\"data row1 col12\" >0.81</td>\n                        <td id=\"T_d9dca00a_bf1f_11eb_a9d8_028bbe4f981frow1_col13\" class=\"data row1 col13\" >0.61</td>\n                        <td id=\"T_d9dca00a_bf1f_11eb_a9d8_028bbe4f981frow1_col14\" class=\"data row1 col14\" >0.84</td>\n                        <td id=\"T_d9dca00a_bf1f_11eb_a9d8_028bbe4f981frow1_col15\" class=\"data row1 col15\" >0.24</td>\n            </tr>\n            <tr>\n                        <th id=\"T_d9dca00a_bf1f_11eb_a9d8_028bbe4f981flevel0_row2\" class=\"row_heading level0 row2\" >LQD</th>\n                        <td id=\"T_d9dca00a_bf1f_11eb_a9d8_028bbe4f981frow2_col0\" class=\"data row2 col0\" >0.82</td>\n                        <td id=\"T_d9dca00a_bf1f_11eb_a9d8_028bbe4f981frow2_col1\" class=\"data row2 col1\" >0.53</td>\n                        <td id=\"T_d9dca00a_bf1f_11eb_a9d8_028bbe4f981frow2_col2\" class=\"data row2 col2\" >1.00</td>\n                        <td id=\"T_d9dca00a_bf1f_11eb_a9d8_028bbe4f981frow2_col3\" class=\"data row2 col3\" >0.69</td>\n                        <td id=\"T_d9dca00a_bf1f_11eb_a9d8_028bbe4f981frow2_col4\" class=\"data row2 col4\" >0.94</td>\n                        <td id=\"T_d9dca00a_bf1f_11eb_a9d8_028bbe4f981frow2_col5\" class=\"data row2 col5\" >0.59</td>\n                        <td id=\"T_d9dca00a_bf1f_11eb_a9d8_028bbe4f981frow2_col6\" class=\"data row2 col6\" >0.35</td>\n                        <td id=\"T_d9dca00a_bf1f_11eb_a9d8_028bbe4f981frow2_col7\" class=\"data row2 col7\" >0.28</td>\n                        <td id=\"T_d9dca00a_bf1f_11eb_a9d8_028bbe4f981frow2_col8\" class=\"data row2 col8\" >0.37</td>\n                        <td id=\"T_d9dca00a_bf1f_11eb_a9d8_028bbe4f981frow2_col9\" class=\"data row2 col9\" >0.34</td>\n                        <td id=\"T_d9dca00a_bf1f_11eb_a9d8_028bbe4f981frow2_col10\" class=\"data row2 col10\" >0.31</td>\n                        <td id=\"T_d9dca00a_bf1f_11eb_a9d8_028bbe4f981frow2_col11\" class=\"data row2 col11\" >0.33</td>\n                        <td id=\"T_d9dca00a_bf1f_11eb_a9d8_028bbe4f981frow2_col12\" class=\"data row2 col12\" >0.30</td>\n                        <td id=\"T_d9dca00a_bf1f_11eb_a9d8_028bbe4f981frow2_col13\" class=\"data row2 col13\" >0.29</td>\n                        <td id=\"T_d9dca00a_bf1f_11eb_a9d8_028bbe4f981frow2_col14\" class=\"data row2 col14\" >0.37</td>\n                        <td id=\"T_d9dca00a_bf1f_11eb_a9d8_028bbe4f981frow2_col15\" class=\"data row2 col15\" >0.32</td>\n            </tr>\n            <tr>\n                        <th id=\"T_d9dca00a_bf1f_11eb_a9d8_028bbe4f981flevel0_row3\" class=\"row_heading level0 row3\" >AGG</th>\n                        <td id=\"T_d9dca00a_bf1f_11eb_a9d8_028bbe4f981frow3_col0\" class=\"data row3 col0\" >0.43</td>\n                        <td id=\"T_d9dca00a_bf1f_11eb_a9d8_028bbe4f981frow3_col1\" class=\"data row3 col1\" >0.24</td>\n                        <td id=\"T_d9dca00a_bf1f_11eb_a9d8_028bbe4f981frow3_col2\" class=\"data row3 col2\" >0.69</td>\n                        <td id=\"T_d9dca00a_bf1f_11eb_a9d8_028bbe4f981frow3_col3\" class=\"data row3 col3\" >1.00</td>\n                        <td id=\"T_d9dca00a_bf1f_11eb_a9d8_028bbe4f981frow3_col4\" class=\"data row3 col4\" >0.69</td>\n                        <td id=\"T_d9dca00a_bf1f_11eb_a9d8_028bbe4f981frow3_col5\" class=\"data row3 col5\" >0.37</td>\n                        <td id=\"T_d9dca00a_bf1f_11eb_a9d8_028bbe4f981frow3_col6\" class=\"data row3 col6\" >0.16</td>\n                        <td id=\"T_d9dca00a_bf1f_11eb_a9d8_028bbe4f981frow3_col7\" class=\"data row3 col7\" >0.11</td>\n                        <td id=\"T_d9dca00a_bf1f_11eb_a9d8_028bbe4f981frow3_col8\" class=\"data row3 col8\" >0.21</td>\n                        <td id=\"T_d9dca00a_bf1f_11eb_a9d8_028bbe4f981frow3_col9\" class=\"data row3 col9\" >0.14</td>\n                        <td id=\"T_d9dca00a_bf1f_11eb_a9d8_028bbe4f981frow3_col10\" class=\"data row3 col10\" >0.09</td>\n                        <td id=\"T_d9dca00a_bf1f_11eb_a9d8_028bbe4f981frow3_col11\" class=\"data row3 col11\" >0.17</td>\n                        <td id=\"T_d9dca00a_bf1f_11eb_a9d8_028bbe4f981frow3_col12\" class=\"data row3 col12\" >0.13</td>\n                        <td id=\"T_d9dca00a_bf1f_11eb_a9d8_028bbe4f981frow3_col13\" class=\"data row3 col13\" >0.18</td>\n                        <td id=\"T_d9dca00a_bf1f_11eb_a9d8_028bbe4f981frow3_col14\" class=\"data row3 col14\" >0.21</td>\n                        <td id=\"T_d9dca00a_bf1f_11eb_a9d8_028bbe4f981frow3_col15\" class=\"data row3 col15\" >0.25</td>\n            </tr>\n            <tr>\n                        <th id=\"T_d9dca00a_bf1f_11eb_a9d8_028bbe4f981flevel0_row4\" class=\"row_heading level0 row4\" >VCIT</th>\n                        <td id=\"T_d9dca00a_bf1f_11eb_a9d8_028bbe4f981frow4_col0\" class=\"data row4 col0\" >0.79</td>\n                        <td id=\"T_d9dca00a_bf1f_11eb_a9d8_028bbe4f981frow4_col1\" class=\"data row4 col1\" >0.51</td>\n                        <td id=\"T_d9dca00a_bf1f_11eb_a9d8_028bbe4f981frow4_col2\" class=\"data row4 col2\" >0.94</td>\n                        <td id=\"T_d9dca00a_bf1f_11eb_a9d8_028bbe4f981frow4_col3\" class=\"data row4 col3\" >0.69</td>\n                        <td id=\"T_d9dca00a_bf1f_11eb_a9d8_028bbe4f981frow4_col4\" class=\"data row4 col4\" >1.00</td>\n                        <td id=\"T_d9dca00a_bf1f_11eb_a9d8_028bbe4f981frow4_col5\" class=\"data row4 col5\" >0.54</td>\n                        <td id=\"T_d9dca00a_bf1f_11eb_a9d8_028bbe4f981frow4_col6\" class=\"data row4 col6\" >0.33</td>\n                        <td id=\"T_d9dca00a_bf1f_11eb_a9d8_028bbe4f981frow4_col7\" class=\"data row4 col7\" >0.26</td>\n                        <td id=\"T_d9dca00a_bf1f_11eb_a9d8_028bbe4f981frow4_col8\" class=\"data row4 col8\" >0.35</td>\n                        <td id=\"T_d9dca00a_bf1f_11eb_a9d8_028bbe4f981frow4_col9\" class=\"data row4 col9\" >0.31</td>\n                        <td id=\"T_d9dca00a_bf1f_11eb_a9d8_028bbe4f981frow4_col10\" class=\"data row4 col10\" >0.27</td>\n                        <td id=\"T_d9dca00a_bf1f_11eb_a9d8_028bbe4f981frow4_col11\" class=\"data row4 col11\" >0.30</td>\n                        <td id=\"T_d9dca00a_bf1f_11eb_a9d8_028bbe4f981frow4_col12\" class=\"data row4 col12\" >0.27</td>\n                        <td id=\"T_d9dca00a_bf1f_11eb_a9d8_028bbe4f981frow4_col13\" class=\"data row4 col13\" >0.27</td>\n                        <td id=\"T_d9dca00a_bf1f_11eb_a9d8_028bbe4f981frow4_col14\" class=\"data row4 col14\" >0.35</td>\n                        <td id=\"T_d9dca00a_bf1f_11eb_a9d8_028bbe4f981frow4_col15\" class=\"data row4 col15\" >0.29</td>\n            </tr>\n            <tr>\n                        <th id=\"T_d9dca00a_bf1f_11eb_a9d8_028bbe4f981flevel0_row5\" class=\"row_heading level0 row5\" >ANGL</th>\n                        <td id=\"T_d9dca00a_bf1f_11eb_a9d8_028bbe4f981frow5_col0\" class=\"data row5 col0\" >0.65</td>\n                        <td id=\"T_d9dca00a_bf1f_11eb_a9d8_028bbe4f981frow5_col1\" class=\"data row5 col1\" >0.83</td>\n                        <td id=\"T_d9dca00a_bf1f_11eb_a9d8_028bbe4f981frow5_col2\" class=\"data row5 col2\" >0.59</td>\n                        <td id=\"T_d9dca00a_bf1f_11eb_a9d8_028bbe4f981frow5_col3\" class=\"data row5 col3\" >0.37</td>\n                        <td id=\"T_d9dca00a_bf1f_11eb_a9d8_028bbe4f981frow5_col4\" class=\"data row5 col4\" >0.54</td>\n                        <td id=\"T_d9dca00a_bf1f_11eb_a9d8_028bbe4f981frow5_col5\" class=\"data row5 col5\" >1.00</td>\n                        <td id=\"T_d9dca00a_bf1f_11eb_a9d8_028bbe4f981frow5_col6\" class=\"data row5 col6\" >0.72</td>\n                        <td id=\"T_d9dca00a_bf1f_11eb_a9d8_028bbe4f981frow5_col7\" class=\"data row5 col7\" >0.67</td>\n                        <td id=\"T_d9dca00a_bf1f_11eb_a9d8_028bbe4f981frow5_col8\" class=\"data row5 col8\" >0.72</td>\n                        <td id=\"T_d9dca00a_bf1f_11eb_a9d8_028bbe4f981frow5_col9\" class=\"data row5 col9\" >0.70</td>\n                        <td id=\"T_d9dca00a_bf1f_11eb_a9d8_028bbe4f981frow5_col10\" class=\"data row5 col10\" >0.67</td>\n                        <td id=\"T_d9dca00a_bf1f_11eb_a9d8_028bbe4f981frow5_col11\" class=\"data row5 col11\" >0.70</td>\n                        <td id=\"T_d9dca00a_bf1f_11eb_a9d8_028bbe4f981frow5_col12\" class=\"data row5 col12\" >0.70</td>\n                        <td id=\"T_d9dca00a_bf1f_11eb_a9d8_028bbe4f981frow5_col13\" class=\"data row5 col13\" >0.59</td>\n                        <td id=\"T_d9dca00a_bf1f_11eb_a9d8_028bbe4f981frow5_col14\" class=\"data row5 col14\" >0.72</td>\n                        <td id=\"T_d9dca00a_bf1f_11eb_a9d8_028bbe4f981frow5_col15\" class=\"data row5 col15\" >0.29</td>\n            </tr>\n            <tr>\n                        <th id=\"T_d9dca00a_bf1f_11eb_a9d8_028bbe4f981flevel0_row6\" class=\"row_heading level0 row6\" >ACWI</th>\n                        <td id=\"T_d9dca00a_bf1f_11eb_a9d8_028bbe4f981frow6_col0\" class=\"data row6 col0\" >0.38</td>\n                        <td id=\"T_d9dca00a_bf1f_11eb_a9d8_028bbe4f981frow6_col1\" class=\"data row6 col1\" >0.83</td>\n                        <td id=\"T_d9dca00a_bf1f_11eb_a9d8_028bbe4f981frow6_col2\" class=\"data row6 col2\" >0.35</td>\n                        <td id=\"T_d9dca00a_bf1f_11eb_a9d8_028bbe4f981frow6_col3\" class=\"data row6 col3\" >0.16</td>\n                        <td id=\"T_d9dca00a_bf1f_11eb_a9d8_028bbe4f981frow6_col4\" class=\"data row6 col4\" >0.33</td>\n                        <td id=\"T_d9dca00a_bf1f_11eb_a9d8_028bbe4f981frow6_col5\" class=\"data row6 col5\" >0.72</td>\n                        <td id=\"T_d9dca00a_bf1f_11eb_a9d8_028bbe4f981frow6_col6\" class=\"data row6 col6\" >1.00</td>\n                        <td id=\"T_d9dca00a_bf1f_11eb_a9d8_028bbe4f981frow6_col7\" class=\"data row6 col7\" >0.97</td>\n                        <td id=\"T_d9dca00a_bf1f_11eb_a9d8_028bbe4f981frow6_col8\" class=\"data row6 col8\" >0.96</td>\n                        <td id=\"T_d9dca00a_bf1f_11eb_a9d8_028bbe4f981frow6_col9\" class=\"data row6 col9\" >0.99</td>\n                        <td id=\"T_d9dca00a_bf1f_11eb_a9d8_028bbe4f981frow6_col10\" class=\"data row6 col10\" >0.97</td>\n                        <td id=\"T_d9dca00a_bf1f_11eb_a9d8_028bbe4f981frow6_col11\" class=\"data row6 col11\" >0.92</td>\n                        <td id=\"T_d9dca00a_bf1f_11eb_a9d8_028bbe4f981frow6_col12\" class=\"data row6 col12\" >0.90</td>\n                        <td id=\"T_d9dca00a_bf1f_11eb_a9d8_028bbe4f981frow6_col13\" class=\"data row6 col13\" >0.79</td>\n                        <td id=\"T_d9dca00a_bf1f_11eb_a9d8_028bbe4f981frow6_col14\" class=\"data row6 col14\" >0.95</td>\n                        <td id=\"T_d9dca00a_bf1f_11eb_a9d8_028bbe4f981frow6_col15\" class=\"data row6 col15\" >0.27</td>\n            </tr>\n            <tr>\n                        <th id=\"T_d9dca00a_bf1f_11eb_a9d8_028bbe4f981flevel0_row7\" class=\"row_heading level0 row7\" >MOAT</th>\n                        <td id=\"T_d9dca00a_bf1f_11eb_a9d8_028bbe4f981frow7_col0\" class=\"data row7 col0\" >0.28</td>\n                        <td id=\"T_d9dca00a_bf1f_11eb_a9d8_028bbe4f981frow7_col1\" class=\"data row7 col1\" >0.81</td>\n                        <td id=\"T_d9dca00a_bf1f_11eb_a9d8_028bbe4f981frow7_col2\" class=\"data row7 col2\" >0.28</td>\n                        <td id=\"T_d9dca00a_bf1f_11eb_a9d8_028bbe4f981frow7_col3\" class=\"data row7 col3\" >0.11</td>\n                        <td id=\"T_d9dca00a_bf1f_11eb_a9d8_028bbe4f981frow7_col4\" class=\"data row7 col4\" >0.26</td>\n                        <td id=\"T_d9dca00a_bf1f_11eb_a9d8_028bbe4f981frow7_col5\" class=\"data row7 col5\" >0.67</td>\n                        <td id=\"T_d9dca00a_bf1f_11eb_a9d8_028bbe4f981frow7_col6\" class=\"data row7 col6\" >0.97</td>\n                        <td id=\"T_d9dca00a_bf1f_11eb_a9d8_028bbe4f981frow7_col7\" class=\"data row7 col7\" >1.00</td>\n                        <td id=\"T_d9dca00a_bf1f_11eb_a9d8_028bbe4f981frow7_col8\" class=\"data row7 col8\" >0.92</td>\n                        <td id=\"T_d9dca00a_bf1f_11eb_a9d8_028bbe4f981frow7_col9\" class=\"data row7 col9\" >0.97</td>\n                        <td id=\"T_d9dca00a_bf1f_11eb_a9d8_028bbe4f981frow7_col10\" class=\"data row7 col10\" >0.95</td>\n                        <td id=\"T_d9dca00a_bf1f_11eb_a9d8_028bbe4f981frow7_col11\" class=\"data row7 col11\" >0.85</td>\n                        <td id=\"T_d9dca00a_bf1f_11eb_a9d8_028bbe4f981frow7_col12\" class=\"data row7 col12\" >0.94</td>\n                        <td id=\"T_d9dca00a_bf1f_11eb_a9d8_028bbe4f981frow7_col13\" class=\"data row7 col13\" >0.70</td>\n                        <td id=\"T_d9dca00a_bf1f_11eb_a9d8_028bbe4f981frow7_col14\" class=\"data row7 col14\" >0.96</td>\n                        <td id=\"T_d9dca00a_bf1f_11eb_a9d8_028bbe4f981frow7_col15\" class=\"data row7 col15\" >0.18</td>\n            </tr>\n            <tr>\n                        <th id=\"T_d9dca00a_bf1f_11eb_a9d8_028bbe4f981flevel0_row8\" class=\"row_heading level0 row8\" >EFA</th>\n                        <td id=\"T_d9dca00a_bf1f_11eb_a9d8_028bbe4f981frow8_col0\" class=\"data row8 col0\" >0.40</td>\n                        <td id=\"T_d9dca00a_bf1f_11eb_a9d8_028bbe4f981frow8_col1\" class=\"data row8 col1\" >0.81</td>\n                        <td id=\"T_d9dca00a_bf1f_11eb_a9d8_028bbe4f981frow8_col2\" class=\"data row8 col2\" >0.37</td>\n                        <td id=\"T_d9dca00a_bf1f_11eb_a9d8_028bbe4f981frow8_col3\" class=\"data row8 col3\" >0.21</td>\n                        <td id=\"T_d9dca00a_bf1f_11eb_a9d8_028bbe4f981frow8_col4\" class=\"data row8 col4\" >0.35</td>\n                        <td id=\"T_d9dca00a_bf1f_11eb_a9d8_028bbe4f981frow8_col5\" class=\"data row8 col5\" >0.72</td>\n                        <td id=\"T_d9dca00a_bf1f_11eb_a9d8_028bbe4f981frow8_col6\" class=\"data row8 col6\" >0.96</td>\n                        <td id=\"T_d9dca00a_bf1f_11eb_a9d8_028bbe4f981frow8_col7\" class=\"data row8 col7\" >0.92</td>\n                        <td id=\"T_d9dca00a_bf1f_11eb_a9d8_028bbe4f981frow8_col8\" class=\"data row8 col8\" >1.00</td>\n                        <td id=\"T_d9dca00a_bf1f_11eb_a9d8_028bbe4f981frow8_col9\" class=\"data row8 col9\" >0.92</td>\n                        <td id=\"T_d9dca00a_bf1f_11eb_a9d8_028bbe4f981frow8_col10\" class=\"data row8 col10\" >0.90</td>\n                        <td id=\"T_d9dca00a_bf1f_11eb_a9d8_028bbe4f981frow8_col11\" class=\"data row8 col11\" >0.91</td>\n                        <td id=\"T_d9dca00a_bf1f_11eb_a9d8_028bbe4f981frow8_col12\" class=\"data row8 col12\" >0.89</td>\n                        <td id=\"T_d9dca00a_bf1f_11eb_a9d8_028bbe4f981frow8_col13\" class=\"data row8 col13\" >0.75</td>\n                        <td id=\"T_d9dca00a_bf1f_11eb_a9d8_028bbe4f981frow8_col14\" class=\"data row8 col14\" >0.93</td>\n                        <td id=\"T_d9dca00a_bf1f_11eb_a9d8_028bbe4f981frow8_col15\" class=\"data row8 col15\" >0.28</td>\n            </tr>\n            <tr>\n                        <th id=\"T_d9dca00a_bf1f_11eb_a9d8_028bbe4f981flevel0_row9\" class=\"row_heading level0 row9\" >SPY</th>\n                        <td id=\"T_d9dca00a_bf1f_11eb_a9d8_028bbe4f981frow9_col0\" class=\"data row9 col0\" >0.34</td>\n                        <td id=\"T_d9dca00a_bf1f_11eb_a9d8_028bbe4f981frow9_col1\" class=\"data row9 col1\" >0.83</td>\n                        <td id=\"T_d9dca00a_bf1f_11eb_a9d8_028bbe4f981frow9_col2\" class=\"data row9 col2\" >0.34</td>\n                        <td id=\"T_d9dca00a_bf1f_11eb_a9d8_028bbe4f981frow9_col3\" class=\"data row9 col3\" >0.14</td>\n                        <td id=\"T_d9dca00a_bf1f_11eb_a9d8_028bbe4f981frow9_col4\" class=\"data row9 col4\" >0.31</td>\n                        <td id=\"T_d9dca00a_bf1f_11eb_a9d8_028bbe4f981frow9_col5\" class=\"data row9 col5\" >0.70</td>\n                        <td id=\"T_d9dca00a_bf1f_11eb_a9d8_028bbe4f981frow9_col6\" class=\"data row9 col6\" >0.99</td>\n                        <td id=\"T_d9dca00a_bf1f_11eb_a9d8_028bbe4f981frow9_col7\" class=\"data row9 col7\" >0.97</td>\n                        <td id=\"T_d9dca00a_bf1f_11eb_a9d8_028bbe4f981frow9_col8\" class=\"data row9 col8\" >0.92</td>\n                        <td id=\"T_d9dca00a_bf1f_11eb_a9d8_028bbe4f981frow9_col9\" class=\"data row9 col9\" >1.00</td>\n                        <td id=\"T_d9dca00a_bf1f_11eb_a9d8_028bbe4f981frow9_col10\" class=\"data row9 col10\" >0.99</td>\n                        <td id=\"T_d9dca00a_bf1f_11eb_a9d8_028bbe4f981frow9_col11\" class=\"data row9 col11\" >0.87</td>\n                        <td id=\"T_d9dca00a_bf1f_11eb_a9d8_028bbe4f981frow9_col12\" class=\"data row9 col12\" >0.90</td>\n                        <td id=\"T_d9dca00a_bf1f_11eb_a9d8_028bbe4f981frow9_col13\" class=\"data row9 col13\" >0.75</td>\n                        <td id=\"T_d9dca00a_bf1f_11eb_a9d8_028bbe4f981frow9_col14\" class=\"data row9 col14\" >0.94</td>\n                        <td id=\"T_d9dca00a_bf1f_11eb_a9d8_028bbe4f981frow9_col15\" class=\"data row9 col15\" >0.24</td>\n            </tr>\n            <tr>\n                        <th id=\"T_d9dca00a_bf1f_11eb_a9d8_028bbe4f981flevel0_row10\" class=\"row_heading level0 row10\" >SPHQ</th>\n                        <td id=\"T_d9dca00a_bf1f_11eb_a9d8_028bbe4f981frow10_col0\" class=\"data row10 col0\" >0.30</td>\n                        <td id=\"T_d9dca00a_bf1f_11eb_a9d8_028bbe4f981frow10_col1\" class=\"data row10 col1\" >0.80</td>\n                        <td id=\"T_d9dca00a_bf1f_11eb_a9d8_028bbe4f981frow10_col2\" class=\"data row10 col2\" >0.31</td>\n                        <td id=\"T_d9dca00a_bf1f_11eb_a9d8_028bbe4f981frow10_col3\" class=\"data row10 col3\" >0.09</td>\n                        <td id=\"T_d9dca00a_bf1f_11eb_a9d8_028bbe4f981frow10_col4\" class=\"data row10 col4\" >0.27</td>\n                        <td id=\"T_d9dca00a_bf1f_11eb_a9d8_028bbe4f981frow10_col5\" class=\"data row10 col5\" >0.67</td>\n                        <td id=\"T_d9dca00a_bf1f_11eb_a9d8_028bbe4f981frow10_col6\" class=\"data row10 col6\" >0.97</td>\n                        <td id=\"T_d9dca00a_bf1f_11eb_a9d8_028bbe4f981frow10_col7\" class=\"data row10 col7\" >0.95</td>\n                        <td id=\"T_d9dca00a_bf1f_11eb_a9d8_028bbe4f981frow10_col8\" class=\"data row10 col8\" >0.90</td>\n                        <td id=\"T_d9dca00a_bf1f_11eb_a9d8_028bbe4f981frow10_col9\" class=\"data row10 col9\" >0.99</td>\n                        <td id=\"T_d9dca00a_bf1f_11eb_a9d8_028bbe4f981frow10_col10\" class=\"data row10 col10\" >1.00</td>\n                        <td id=\"T_d9dca00a_bf1f_11eb_a9d8_028bbe4f981frow10_col11\" class=\"data row10 col11\" >0.86</td>\n                        <td id=\"T_d9dca00a_bf1f_11eb_a9d8_028bbe4f981frow10_col12\" class=\"data row10 col12\" >0.87</td>\n                        <td id=\"T_d9dca00a_bf1f_11eb_a9d8_028bbe4f981frow10_col13\" class=\"data row10 col13\" >0.74</td>\n                        <td id=\"T_d9dca00a_bf1f_11eb_a9d8_028bbe4f981frow10_col14\" class=\"data row10 col14\" >0.90</td>\n                        <td id=\"T_d9dca00a_bf1f_11eb_a9d8_028bbe4f981frow10_col15\" class=\"data row10 col15\" >0.22</td>\n            </tr>\n            <tr>\n                        <th id=\"T_d9dca00a_bf1f_11eb_a9d8_028bbe4f981flevel0_row11\" class=\"row_heading level0 row11\" >EEM</th>\n                        <td id=\"T_d9dca00a_bf1f_11eb_a9d8_028bbe4f981frow11_col0\" class=\"data row11 col0\" >0.40</td>\n                        <td id=\"T_d9dca00a_bf1f_11eb_a9d8_028bbe4f981frow11_col1\" class=\"data row11 col1\" >0.75</td>\n                        <td id=\"T_d9dca00a_bf1f_11eb_a9d8_028bbe4f981frow11_col2\" class=\"data row11 col2\" >0.33</td>\n                        <td id=\"T_d9dca00a_bf1f_11eb_a9d8_028bbe4f981frow11_col3\" class=\"data row11 col3\" >0.17</td>\n                        <td id=\"T_d9dca00a_bf1f_11eb_a9d8_028bbe4f981frow11_col4\" class=\"data row11 col4\" >0.30</td>\n                        <td id=\"T_d9dca00a_bf1f_11eb_a9d8_028bbe4f981frow11_col5\" class=\"data row11 col5\" >0.70</td>\n                        <td id=\"T_d9dca00a_bf1f_11eb_a9d8_028bbe4f981frow11_col6\" class=\"data row11 col6\" >0.92</td>\n                        <td id=\"T_d9dca00a_bf1f_11eb_a9d8_028bbe4f981frow11_col7\" class=\"data row11 col7\" >0.85</td>\n                        <td id=\"T_d9dca00a_bf1f_11eb_a9d8_028bbe4f981frow11_col8\" class=\"data row11 col8\" >0.91</td>\n                        <td id=\"T_d9dca00a_bf1f_11eb_a9d8_028bbe4f981frow11_col9\" class=\"data row11 col9\" >0.87</td>\n                        <td id=\"T_d9dca00a_bf1f_11eb_a9d8_028bbe4f981frow11_col10\" class=\"data row11 col10\" >0.86</td>\n                        <td id=\"T_d9dca00a_bf1f_11eb_a9d8_028bbe4f981frow11_col11\" class=\"data row11 col11\" >1.00</td>\n                        <td id=\"T_d9dca00a_bf1f_11eb_a9d8_028bbe4f981frow11_col12\" class=\"data row11 col12\" >0.80</td>\n                        <td id=\"T_d9dca00a_bf1f_11eb_a9d8_028bbe4f981frow11_col13\" class=\"data row11 col13\" >0.88</td>\n                        <td id=\"T_d9dca00a_bf1f_11eb_a9d8_028bbe4f981frow11_col14\" class=\"data row11 col14\" >0.85</td>\n                        <td id=\"T_d9dca00a_bf1f_11eb_a9d8_028bbe4f981frow11_col15\" class=\"data row11 col15\" >0.26</td>\n            </tr>\n            <tr>\n                        <th id=\"T_d9dca00a_bf1f_11eb_a9d8_028bbe4f981flevel0_row12\" class=\"row_heading level0 row12\" >XLF</th>\n                        <td id=\"T_d9dca00a_bf1f_11eb_a9d8_028bbe4f981frow12_col0\" class=\"data row12 col0\" >0.29</td>\n                        <td id=\"T_d9dca00a_bf1f_11eb_a9d8_028bbe4f981frow12_col1\" class=\"data row12 col1\" >0.81</td>\n                        <td id=\"T_d9dca00a_bf1f_11eb_a9d8_028bbe4f981frow12_col2\" class=\"data row12 col2\" >0.30</td>\n                        <td id=\"T_d9dca00a_bf1f_11eb_a9d8_028bbe4f981frow12_col3\" class=\"data row12 col3\" >0.13</td>\n                        <td id=\"T_d9dca00a_bf1f_11eb_a9d8_028bbe4f981frow12_col4\" class=\"data row12 col4\" >0.27</td>\n                        <td id=\"T_d9dca00a_bf1f_11eb_a9d8_028bbe4f981frow12_col5\" class=\"data row12 col5\" >0.70</td>\n                        <td id=\"T_d9dca00a_bf1f_11eb_a9d8_028bbe4f981frow12_col6\" class=\"data row12 col6\" >0.90</td>\n                        <td id=\"T_d9dca00a_bf1f_11eb_a9d8_028bbe4f981frow12_col7\" class=\"data row12 col7\" >0.94</td>\n                        <td id=\"T_d9dca00a_bf1f_11eb_a9d8_028bbe4f981frow12_col8\" class=\"data row12 col8\" >0.89</td>\n                        <td id=\"T_d9dca00a_bf1f_11eb_a9d8_028bbe4f981frow12_col9\" class=\"data row12 col9\" >0.90</td>\n                        <td id=\"T_d9dca00a_bf1f_11eb_a9d8_028bbe4f981frow12_col10\" class=\"data row12 col10\" >0.87</td>\n                        <td id=\"T_d9dca00a_bf1f_11eb_a9d8_028bbe4f981frow12_col11\" class=\"data row12 col11\" >0.80</td>\n                        <td id=\"T_d9dca00a_bf1f_11eb_a9d8_028bbe4f981frow12_col12\" class=\"data row12 col12\" >1.00</td>\n                        <td id=\"T_d9dca00a_bf1f_11eb_a9d8_028bbe4f981frow12_col13\" class=\"data row12 col13\" >0.60</td>\n                        <td id=\"T_d9dca00a_bf1f_11eb_a9d8_028bbe4f981frow12_col14\" class=\"data row12 col14\" >0.93</td>\n                        <td id=\"T_d9dca00a_bf1f_11eb_a9d8_028bbe4f981frow12_col15\" class=\"data row12 col15\" >0.12</td>\n            </tr>\n            <tr>\n                        <th id=\"T_d9dca00a_bf1f_11eb_a9d8_028bbe4f981flevel0_row13\" class=\"row_heading level0 row13\" >EMQQ</th>\n                        <td id=\"T_d9dca00a_bf1f_11eb_a9d8_028bbe4f981frow13_col0\" class=\"data row13 col0\" >0.33</td>\n                        <td id=\"T_d9dca00a_bf1f_11eb_a9d8_028bbe4f981frow13_col1\" class=\"data row13 col1\" >0.61</td>\n                        <td id=\"T_d9dca00a_bf1f_11eb_a9d8_028bbe4f981frow13_col2\" class=\"data row13 col2\" >0.29</td>\n                        <td id=\"T_d9dca00a_bf1f_11eb_a9d8_028bbe4f981frow13_col3\" class=\"data row13 col3\" >0.18</td>\n                        <td id=\"T_d9dca00a_bf1f_11eb_a9d8_028bbe4f981frow13_col4\" class=\"data row13 col4\" >0.27</td>\n                        <td id=\"T_d9dca00a_bf1f_11eb_a9d8_028bbe4f981frow13_col5\" class=\"data row13 col5\" >0.59</td>\n                        <td id=\"T_d9dca00a_bf1f_11eb_a9d8_028bbe4f981frow13_col6\" class=\"data row13 col6\" >0.79</td>\n                        <td id=\"T_d9dca00a_bf1f_11eb_a9d8_028bbe4f981frow13_col7\" class=\"data row13 col7\" >0.70</td>\n                        <td id=\"T_d9dca00a_bf1f_11eb_a9d8_028bbe4f981frow13_col8\" class=\"data row13 col8\" >0.75</td>\n                        <td id=\"T_d9dca00a_bf1f_11eb_a9d8_028bbe4f981frow13_col9\" class=\"data row13 col9\" >0.75</td>\n                        <td id=\"T_d9dca00a_bf1f_11eb_a9d8_028bbe4f981frow13_col10\" class=\"data row13 col10\" >0.74</td>\n                        <td id=\"T_d9dca00a_bf1f_11eb_a9d8_028bbe4f981frow13_col11\" class=\"data row13 col11\" >0.88</td>\n                        <td id=\"T_d9dca00a_bf1f_11eb_a9d8_028bbe4f981frow13_col12\" class=\"data row13 col12\" >0.60</td>\n                        <td id=\"T_d9dca00a_bf1f_11eb_a9d8_028bbe4f981frow13_col13\" class=\"data row13 col13\" >1.00</td>\n                        <td id=\"T_d9dca00a_bf1f_11eb_a9d8_028bbe4f981frow13_col14\" class=\"data row13 col14\" >0.71</td>\n                        <td id=\"T_d9dca00a_bf1f_11eb_a9d8_028bbe4f981frow13_col15\" class=\"data row13 col15\" >0.28</td>\n            </tr>\n            <tr>\n                        <th id=\"T_d9dca00a_bf1f_11eb_a9d8_028bbe4f981flevel0_row14\" class=\"row_heading level0 row14\" >VB</th>\n                        <td id=\"T_d9dca00a_bf1f_11eb_a9d8_028bbe4f981frow14_col0\" class=\"data row14 col0\" >0.37</td>\n                        <td id=\"T_d9dca00a_bf1f_11eb_a9d8_028bbe4f981frow14_col1\" class=\"data row14 col1\" >0.84</td>\n                        <td id=\"T_d9dca00a_bf1f_11eb_a9d8_028bbe4f981frow14_col2\" class=\"data row14 col2\" >0.37</td>\n                        <td id=\"T_d9dca00a_bf1f_11eb_a9d8_028bbe4f981frow14_col3\" class=\"data row14 col3\" >0.21</td>\n                        <td id=\"T_d9dca00a_bf1f_11eb_a9d8_028bbe4f981frow14_col4\" class=\"data row14 col4\" >0.35</td>\n                        <td id=\"T_d9dca00a_bf1f_11eb_a9d8_028bbe4f981frow14_col5\" class=\"data row14 col5\" >0.72</td>\n                        <td id=\"T_d9dca00a_bf1f_11eb_a9d8_028bbe4f981frow14_col6\" class=\"data row14 col6\" >0.95</td>\n                        <td id=\"T_d9dca00a_bf1f_11eb_a9d8_028bbe4f981frow14_col7\" class=\"data row14 col7\" >0.96</td>\n                        <td id=\"T_d9dca00a_bf1f_11eb_a9d8_028bbe4f981frow14_col8\" class=\"data row14 col8\" >0.93</td>\n                        <td id=\"T_d9dca00a_bf1f_11eb_a9d8_028bbe4f981frow14_col9\" class=\"data row14 col9\" >0.94</td>\n                        <td id=\"T_d9dca00a_bf1f_11eb_a9d8_028bbe4f981frow14_col10\" class=\"data row14 col10\" >0.90</td>\n                        <td id=\"T_d9dca00a_bf1f_11eb_a9d8_028bbe4f981frow14_col11\" class=\"data row14 col11\" >0.85</td>\n                        <td id=\"T_d9dca00a_bf1f_11eb_a9d8_028bbe4f981frow14_col12\" class=\"data row14 col12\" >0.93</td>\n                        <td id=\"T_d9dca00a_bf1f_11eb_a9d8_028bbe4f981frow14_col13\" class=\"data row14 col13\" >0.71</td>\n                        <td id=\"T_d9dca00a_bf1f_11eb_a9d8_028bbe4f981frow14_col14\" class=\"data row14 col14\" >1.00</td>\n                        <td id=\"T_d9dca00a_bf1f_11eb_a9d8_028bbe4f981frow14_col15\" class=\"data row14 col15\" >0.24</td>\n            </tr>\n            <tr>\n                        <th id=\"T_d9dca00a_bf1f_11eb_a9d8_028bbe4f981flevel0_row15\" class=\"row_heading level0 row15\" >CEF</th>\n                        <td id=\"T_d9dca00a_bf1f_11eb_a9d8_028bbe4f981frow15_col0\" class=\"data row15 col0\" >0.39</td>\n                        <td id=\"T_d9dca00a_bf1f_11eb_a9d8_028bbe4f981frow15_col1\" class=\"data row15 col1\" >0.24</td>\n                        <td id=\"T_d9dca00a_bf1f_11eb_a9d8_028bbe4f981frow15_col2\" class=\"data row15 col2\" >0.32</td>\n                        <td id=\"T_d9dca00a_bf1f_11eb_a9d8_028bbe4f981frow15_col3\" class=\"data row15 col3\" >0.25</td>\n                        <td id=\"T_d9dca00a_bf1f_11eb_a9d8_028bbe4f981frow15_col4\" class=\"data row15 col4\" >0.29</td>\n                        <td id=\"T_d9dca00a_bf1f_11eb_a9d8_028bbe4f981frow15_col5\" class=\"data row15 col5\" >0.29</td>\n                        <td id=\"T_d9dca00a_bf1f_11eb_a9d8_028bbe4f981frow15_col6\" class=\"data row15 col6\" >0.27</td>\n                        <td id=\"T_d9dca00a_bf1f_11eb_a9d8_028bbe4f981frow15_col7\" class=\"data row15 col7\" >0.18</td>\n                        <td id=\"T_d9dca00a_bf1f_11eb_a9d8_028bbe4f981frow15_col8\" class=\"data row15 col8\" >0.28</td>\n                        <td id=\"T_d9dca00a_bf1f_11eb_a9d8_028bbe4f981frow15_col9\" class=\"data row15 col9\" >0.24</td>\n                        <td id=\"T_d9dca00a_bf1f_11eb_a9d8_028bbe4f981frow15_col10\" class=\"data row15 col10\" >0.22</td>\n                        <td id=\"T_d9dca00a_bf1f_11eb_a9d8_028bbe4f981frow15_col11\" class=\"data row15 col11\" >0.26</td>\n                        <td id=\"T_d9dca00a_bf1f_11eb_a9d8_028bbe4f981frow15_col12\" class=\"data row15 col12\" >0.12</td>\n                        <td id=\"T_d9dca00a_bf1f_11eb_a9d8_028bbe4f981frow15_col13\" class=\"data row15 col13\" >0.28</td>\n                        <td id=\"T_d9dca00a_bf1f_11eb_a9d8_028bbe4f981frow15_col14\" class=\"data row15 col14\" >0.24</td>\n                        <td id=\"T_d9dca00a_bf1f_11eb_a9d8_028bbe4f981frow15_col15\" class=\"data row15 col15\" >1.00</td>\n            </tr>\n    </tbody></table>"
     },
     "metadata": {},
     "execution_count": 15
    }
   ],
   "source": [
    "correlations = retornos_port.corr()\n",
    "correlations.style.background_gradient(cmap='Blues').set_precision(2)"
   ]
  },
  {
   "cell_type": "code",
   "execution_count": 16,
   "metadata": {},
   "outputs": [
    {
     "output_type": "execute_result",
     "data": {
      "text/plain": [
       "<matplotlib.axes._subplots.AxesSubplot at 0x7f1a8af8b240>"
      ]
     },
     "metadata": {},
     "execution_count": 16
    },
    {
     "output_type": "display_data",
     "data": {
      "text/plain": "<matplotlib.figure.Figure at 0x7f1a8afa5908>",
      "image/svg+xml": "<?xml version=\"1.0\" encoding=\"utf-8\" standalone=\"no\"?>\n<!DOCTYPE svg PUBLIC \"-//W3C//DTD SVG 1.1//EN\"\n  \"http://www.w3.org/Graphics/SVG/1.1/DTD/svg11.dtd\">\n<!-- Created with matplotlib (http://matplotlib.org/) -->\n<svg height=\"290pt\" version=\"1.1\" viewBox=\"0 0 447 290\" width=\"447pt\" xmlns=\"http://www.w3.org/2000/svg\" xmlns:xlink=\"http://www.w3.org/1999/xlink\">\n <defs>\n  <style type=\"text/css\">\n*{stroke-linecap:butt;stroke-linejoin:round;}\n  </style>\n </defs>\n <g id=\"figure_1\">\n  <g id=\"patch_1\">\n   <path d=\"M 0 290.307531 \nL 447.995187 290.307531 \nL 447.995187 0 \nL 0 0 \nz\n\" style=\"fill:#f0f0f0;\"/>\n  </g>\n  <g id=\"axes_1\">\n   <g id=\"patch_2\">\n    <path d=\"M 64.955188 245.798906 \nL 440.795187 245.798906 \nL 440.795187 12.518906 \nL 64.955188 12.518906 \nz\n\" style=\"fill:#f0f0f0;\"/>\n   </g>\n   <g id=\"matplotlib.axis_1\">\n    <g id=\"xtick_1\">\n     <g id=\"line2d_1\">\n      <path clip-path=\"url(#pe49b637592)\" d=\"M 96.275188 245.798906 \nL 96.275188 12.518906 \n\" style=\"fill:none;stroke:#cbcbcb;\"/>\n     </g>\n     <g id=\"line2d_2\"/>\n     <g id=\"text_1\">\n      <!-- 4 -->\n      <defs>\n       <path d=\"M 37.796875 64.3125 \nL 12.890625 25.390625 \nL 37.796875 25.390625 \nz\nM 35.203125 72.90625 \nL 47.609375 72.90625 \nL 47.609375 25.390625 \nL 58.015625 25.390625 \nL 58.015625 17.1875 \nL 47.609375 17.1875 \nL 47.609375 0 \nL 37.796875 0 \nL 37.796875 17.1875 \nL 4.890625 17.1875 \nL 4.890625 26.703125 \nz\n\" id=\"DejaVuSans-34\"/>\n      </defs>\n      <g transform=\"translate(91.821438 259.936719)scale(0.14 -0.14)\">\n       <use xlink:href=\"#DejaVuSans-34\"/>\n      </g>\n     </g>\n    </g>\n    <g id=\"xtick_2\">\n     <g id=\"line2d_3\">\n      <path clip-path=\"url(#pe49b637592)\" d=\"M 158.915188 245.798906 \nL 158.915188 12.518906 \n\" style=\"fill:none;stroke:#cbcbcb;\"/>\n     </g>\n     <g id=\"line2d_4\"/>\n     <g id=\"text_2\">\n      <!-- 6 -->\n      <defs>\n       <path d=\"M 33.015625 40.375 \nQ 26.375 40.375 22.484375 35.828125 \nQ 18.609375 31.296875 18.609375 23.390625 \nQ 18.609375 15.53125 22.484375 10.953125 \nQ 26.375 6.390625 33.015625 6.390625 \nQ 39.65625 6.390625 43.53125 10.953125 \nQ 47.40625 15.53125 47.40625 23.390625 \nQ 47.40625 31.296875 43.53125 35.828125 \nQ 39.65625 40.375 33.015625 40.375 \nz\nM 52.59375 71.296875 \nL 52.59375 62.3125 \nQ 48.875 64.0625 45.09375 64.984375 \nQ 41.3125 65.921875 37.59375 65.921875 \nQ 27.828125 65.921875 22.671875 59.328125 \nQ 17.53125 52.734375 16.796875 39.40625 \nQ 19.671875 43.65625 24.015625 45.921875 \nQ 28.375 48.1875 33.59375 48.1875 \nQ 44.578125 48.1875 50.953125 41.515625 \nQ 57.328125 34.859375 57.328125 23.390625 \nQ 57.328125 12.15625 50.6875 5.359375 \nQ 44.046875 -1.421875 33.015625 -1.421875 \nQ 20.359375 -1.421875 13.671875 8.265625 \nQ 6.984375 17.96875 6.984375 36.375 \nQ 6.984375 53.65625 15.1875 63.9375 \nQ 23.390625 74.21875 37.203125 74.21875 \nQ 40.921875 74.21875 44.703125 73.484375 \nQ 48.484375 72.75 52.59375 71.296875 \nz\n\" id=\"DejaVuSans-36\"/>\n      </defs>\n      <g transform=\"translate(154.461437 259.936719)scale(0.14 -0.14)\">\n       <use xlink:href=\"#DejaVuSans-36\"/>\n      </g>\n     </g>\n    </g>\n    <g id=\"xtick_3\">\n     <g id=\"line2d_5\">\n      <path clip-path=\"url(#pe49b637592)\" d=\"M 221.555187 245.798906 \nL 221.555187 12.518906 \n\" style=\"fill:none;stroke:#cbcbcb;\"/>\n     </g>\n     <g id=\"line2d_6\"/>\n     <g id=\"text_3\">\n      <!-- 8 -->\n      <defs>\n       <path d=\"M 31.78125 34.625 \nQ 24.75 34.625 20.71875 30.859375 \nQ 16.703125 27.09375 16.703125 20.515625 \nQ 16.703125 13.921875 20.71875 10.15625 \nQ 24.75 6.390625 31.78125 6.390625 \nQ 38.8125 6.390625 42.859375 10.171875 \nQ 46.921875 13.96875 46.921875 20.515625 \nQ 46.921875 27.09375 42.890625 30.859375 \nQ 38.875 34.625 31.78125 34.625 \nz\nM 21.921875 38.8125 \nQ 15.578125 40.375 12.03125 44.71875 \nQ 8.5 49.078125 8.5 55.328125 \nQ 8.5 64.0625 14.71875 69.140625 \nQ 20.953125 74.21875 31.78125 74.21875 \nQ 42.671875 74.21875 48.875 69.140625 \nQ 55.078125 64.0625 55.078125 55.328125 \nQ 55.078125 49.078125 51.53125 44.71875 \nQ 48 40.375 41.703125 38.8125 \nQ 48.828125 37.15625 52.796875 32.3125 \nQ 56.78125 27.484375 56.78125 20.515625 \nQ 56.78125 9.90625 50.3125 4.234375 \nQ 43.84375 -1.421875 31.78125 -1.421875 \nQ 19.734375 -1.421875 13.25 4.234375 \nQ 6.78125 9.90625 6.78125 20.515625 \nQ 6.78125 27.484375 10.78125 32.3125 \nQ 14.796875 37.15625 21.921875 38.8125 \nz\nM 18.3125 54.390625 \nQ 18.3125 48.734375 21.84375 45.5625 \nQ 25.390625 42.390625 31.78125 42.390625 \nQ 38.140625 42.390625 41.71875 45.5625 \nQ 45.3125 48.734375 45.3125 54.390625 \nQ 45.3125 60.0625 41.71875 63.234375 \nQ 38.140625 66.40625 31.78125 66.40625 \nQ 25.390625 66.40625 21.84375 63.234375 \nQ 18.3125 60.0625 18.3125 54.390625 \nz\n\" id=\"DejaVuSans-38\"/>\n      </defs>\n      <g transform=\"translate(217.101437 259.936719)scale(0.14 -0.14)\">\n       <use xlink:href=\"#DejaVuSans-38\"/>\n      </g>\n     </g>\n    </g>\n    <g id=\"xtick_4\">\n     <g id=\"line2d_7\">\n      <path clip-path=\"url(#pe49b637592)\" d=\"M 284.195187 245.798906 \nL 284.195187 12.518906 \n\" style=\"fill:none;stroke:#cbcbcb;\"/>\n     </g>\n     <g id=\"line2d_8\"/>\n     <g id=\"text_4\">\n      <!-- 10 -->\n      <defs>\n       <path d=\"M 12.40625 8.296875 \nL 28.515625 8.296875 \nL 28.515625 63.921875 \nL 10.984375 60.40625 \nL 10.984375 69.390625 \nL 28.421875 72.90625 \nL 38.28125 72.90625 \nL 38.28125 8.296875 \nL 54.390625 8.296875 \nL 54.390625 0 \nL 12.40625 0 \nz\n\" id=\"DejaVuSans-31\"/>\n       <path d=\"M 31.78125 66.40625 \nQ 24.171875 66.40625 20.328125 58.90625 \nQ 16.5 51.421875 16.5 36.375 \nQ 16.5 21.390625 20.328125 13.890625 \nQ 24.171875 6.390625 31.78125 6.390625 \nQ 39.453125 6.390625 43.28125 13.890625 \nQ 47.125 21.390625 47.125 36.375 \nQ 47.125 51.421875 43.28125 58.90625 \nQ 39.453125 66.40625 31.78125 66.40625 \nz\nM 31.78125 74.21875 \nQ 44.046875 74.21875 50.515625 64.515625 \nQ 56.984375 54.828125 56.984375 36.375 \nQ 56.984375 17.96875 50.515625 8.265625 \nQ 44.046875 -1.421875 31.78125 -1.421875 \nQ 19.53125 -1.421875 13.0625 8.265625 \nQ 6.59375 17.96875 6.59375 36.375 \nQ 6.59375 54.828125 13.0625 64.515625 \nQ 19.53125 74.21875 31.78125 74.21875 \nz\n\" id=\"DejaVuSans-30\"/>\n      </defs>\n      <g transform=\"translate(275.287687 259.936719)scale(0.14 -0.14)\">\n       <use xlink:href=\"#DejaVuSans-31\"/>\n       <use x=\"63.623047\" xlink:href=\"#DejaVuSans-30\"/>\n      </g>\n     </g>\n    </g>\n    <g id=\"xtick_5\">\n     <g id=\"line2d_9\">\n      <path clip-path=\"url(#pe49b637592)\" d=\"M 346.835187 245.798906 \nL 346.835187 12.518906 \n\" style=\"fill:none;stroke:#cbcbcb;\"/>\n     </g>\n     <g id=\"line2d_10\"/>\n     <g id=\"text_5\">\n      <!-- 12 -->\n      <defs>\n       <path d=\"M 19.1875 8.296875 \nL 53.609375 8.296875 \nL 53.609375 0 \nL 7.328125 0 \nL 7.328125 8.296875 \nQ 12.9375 14.109375 22.625 23.890625 \nQ 32.328125 33.6875 34.8125 36.53125 \nQ 39.546875 41.84375 41.421875 45.53125 \nQ 43.3125 49.21875 43.3125 52.78125 \nQ 43.3125 58.59375 39.234375 62.25 \nQ 35.15625 65.921875 28.609375 65.921875 \nQ 23.96875 65.921875 18.8125 64.3125 \nQ 13.671875 62.703125 7.8125 59.421875 \nL 7.8125 69.390625 \nQ 13.765625 71.78125 18.9375 73 \nQ 24.125 74.21875 28.421875 74.21875 \nQ 39.75 74.21875 46.484375 68.546875 \nQ 53.21875 62.890625 53.21875 53.421875 \nQ 53.21875 48.921875 51.53125 44.890625 \nQ 49.859375 40.875 45.40625 35.40625 \nQ 44.1875 33.984375 37.640625 27.21875 \nQ 31.109375 20.453125 19.1875 8.296875 \nz\n\" id=\"DejaVuSans-32\"/>\n      </defs>\n      <g transform=\"translate(337.927687 259.936719)scale(0.14 -0.14)\">\n       <use xlink:href=\"#DejaVuSans-31\"/>\n       <use x=\"63.623047\" xlink:href=\"#DejaVuSans-32\"/>\n      </g>\n     </g>\n    </g>\n    <g id=\"xtick_6\">\n     <g id=\"line2d_11\">\n      <path clip-path=\"url(#pe49b637592)\" d=\"M 409.475187 245.798906 \nL 409.475187 12.518906 \n\" style=\"fill:none;stroke:#cbcbcb;\"/>\n     </g>\n     <g id=\"line2d_12\"/>\n     <g id=\"text_6\">\n      <!-- 14 -->\n      <g transform=\"translate(400.567687 259.936719)scale(0.14 -0.14)\">\n       <use xlink:href=\"#DejaVuSans-31\"/>\n       <use x=\"63.623047\" xlink:href=\"#DejaVuSans-34\"/>\n      </g>\n     </g>\n    </g>\n    <g id=\"text_7\">\n     <!-- Volatility -->\n     <defs>\n      <path d=\"M 28.609375 0 \nL 0.78125 72.90625 \nL 11.078125 72.90625 \nL 34.1875 11.53125 \nL 57.328125 72.90625 \nL 67.578125 72.90625 \nL 39.796875 0 \nz\n\" id=\"DejaVuSans-56\"/>\n      <path d=\"M 30.609375 48.390625 \nQ 23.390625 48.390625 19.1875 42.75 \nQ 14.984375 37.109375 14.984375 27.296875 \nQ 14.984375 17.484375 19.15625 11.84375 \nQ 23.34375 6.203125 30.609375 6.203125 \nQ 37.796875 6.203125 41.984375 11.859375 \nQ 46.1875 17.53125 46.1875 27.296875 \nQ 46.1875 37.015625 41.984375 42.703125 \nQ 37.796875 48.390625 30.609375 48.390625 \nz\nM 30.609375 56 \nQ 42.328125 56 49.015625 48.375 \nQ 55.71875 40.765625 55.71875 27.296875 \nQ 55.71875 13.875 49.015625 6.21875 \nQ 42.328125 -1.421875 30.609375 -1.421875 \nQ 18.84375 -1.421875 12.171875 6.21875 \nQ 5.515625 13.875 5.515625 27.296875 \nQ 5.515625 40.765625 12.171875 48.375 \nQ 18.84375 56 30.609375 56 \nz\n\" id=\"DejaVuSans-6f\"/>\n      <path d=\"M 9.421875 75.984375 \nL 18.40625 75.984375 \nL 18.40625 0 \nL 9.421875 0 \nz\n\" id=\"DejaVuSans-6c\"/>\n      <path d=\"M 34.28125 27.484375 \nQ 23.390625 27.484375 19.1875 25 \nQ 14.984375 22.515625 14.984375 16.5 \nQ 14.984375 11.71875 18.140625 8.90625 \nQ 21.296875 6.109375 26.703125 6.109375 \nQ 34.1875 6.109375 38.703125 11.40625 \nQ 43.21875 16.703125 43.21875 25.484375 \nL 43.21875 27.484375 \nz\nM 52.203125 31.203125 \nL 52.203125 0 \nL 43.21875 0 \nL 43.21875 8.296875 \nQ 40.140625 3.328125 35.546875 0.953125 \nQ 30.953125 -1.421875 24.3125 -1.421875 \nQ 15.921875 -1.421875 10.953125 3.296875 \nQ 6 8.015625 6 15.921875 \nQ 6 25.140625 12.171875 29.828125 \nQ 18.359375 34.515625 30.609375 34.515625 \nL 43.21875 34.515625 \nL 43.21875 35.40625 \nQ 43.21875 41.609375 39.140625 45 \nQ 35.0625 48.390625 27.6875 48.390625 \nQ 23 48.390625 18.546875 47.265625 \nQ 14.109375 46.140625 10.015625 43.890625 \nL 10.015625 52.203125 \nQ 14.9375 54.109375 19.578125 55.046875 \nQ 24.21875 56 28.609375 56 \nQ 40.484375 56 46.34375 49.84375 \nQ 52.203125 43.703125 52.203125 31.203125 \nz\n\" id=\"DejaVuSans-61\"/>\n      <path d=\"M 18.3125 70.21875 \nL 18.3125 54.6875 \nL 36.8125 54.6875 \nL 36.8125 47.703125 \nL 18.3125 47.703125 \nL 18.3125 18.015625 \nQ 18.3125 11.328125 20.140625 9.421875 \nQ 21.96875 7.515625 27.59375 7.515625 \nL 36.8125 7.515625 \nL 36.8125 0 \nL 27.59375 0 \nQ 17.1875 0 13.234375 3.875 \nQ 9.28125 7.765625 9.28125 18.015625 \nL 9.28125 47.703125 \nL 2.6875 47.703125 \nL 2.6875 54.6875 \nL 9.28125 54.6875 \nL 9.28125 70.21875 \nz\n\" id=\"DejaVuSans-74\"/>\n      <path d=\"M 9.421875 54.6875 \nL 18.40625 54.6875 \nL 18.40625 0 \nL 9.421875 0 \nz\nM 9.421875 75.984375 \nL 18.40625 75.984375 \nL 18.40625 64.59375 \nL 9.421875 64.59375 \nz\n\" id=\"DejaVuSans-69\"/>\n      <path d=\"M 32.171875 -5.078125 \nQ 28.375 -14.84375 24.75 -17.8125 \nQ 21.140625 -20.796875 15.09375 -20.796875 \nL 7.90625 -20.796875 \nL 7.90625 -13.28125 \nL 13.1875 -13.28125 \nQ 16.890625 -13.28125 18.9375 -11.515625 \nQ 21 -9.765625 23.484375 -3.21875 \nL 25.09375 0.875 \nL 2.984375 54.6875 \nL 12.5 54.6875 \nL 29.59375 11.921875 \nL 46.6875 54.6875 \nL 56.203125 54.6875 \nz\n\" id=\"DejaVuSans-79\"/>\n     </defs>\n     <g transform=\"translate(215.9585 279.613656)scale(0.168 -0.168)\">\n      <use xlink:href=\"#DejaVuSans-56\"/>\n      <use x=\"68.298828\" xlink:href=\"#DejaVuSans-6f\"/>\n      <use x=\"129.480469\" xlink:href=\"#DejaVuSans-6c\"/>\n      <use x=\"157.263672\" xlink:href=\"#DejaVuSans-61\"/>\n      <use x=\"218.542969\" xlink:href=\"#DejaVuSans-74\"/>\n      <use x=\"257.751953\" xlink:href=\"#DejaVuSans-69\"/>\n      <use x=\"285.535156\" xlink:href=\"#DejaVuSans-6c\"/>\n      <use x=\"313.318359\" xlink:href=\"#DejaVuSans-69\"/>\n      <use x=\"341.101562\" xlink:href=\"#DejaVuSans-74\"/>\n      <use x=\"380.310547\" xlink:href=\"#DejaVuSans-79\"/>\n     </g>\n    </g>\n   </g>\n   <g id=\"matplotlib.axis_2\">\n    <g id=\"ytick_1\">\n     <g id=\"line2d_13\">\n      <path clip-path=\"url(#pe49b637592)\" d=\"M 64.955188 245.798906 \nL 440.795187 245.798906 \n\" style=\"fill:none;stroke:#cbcbcb;\"/>\n     </g>\n     <g id=\"line2d_14\"/>\n     <g id=\"text_8\">\n      <!-- −5.0 -->\n      <defs>\n       <path d=\"M 10.59375 35.5 \nL 73.1875 35.5 \nL 73.1875 27.203125 \nL 10.59375 27.203125 \nz\n\" id=\"DejaVuSans-2212\"/>\n       <path d=\"M 10.796875 72.90625 \nL 49.515625 72.90625 \nL 49.515625 64.59375 \nL 19.828125 64.59375 \nL 19.828125 46.734375 \nQ 21.96875 47.46875 24.109375 47.828125 \nQ 26.265625 48.1875 28.421875 48.1875 \nQ 40.625 48.1875 47.75 41.5 \nQ 54.890625 34.8125 54.890625 23.390625 \nQ 54.890625 11.625 47.5625 5.09375 \nQ 40.234375 -1.421875 26.90625 -1.421875 \nQ 22.3125 -1.421875 17.546875 -0.640625 \nQ 12.796875 0.140625 7.71875 1.703125 \nL 7.71875 11.625 \nQ 12.109375 9.234375 16.796875 8.0625 \nQ 21.484375 6.890625 26.703125 6.890625 \nQ 35.15625 6.890625 40.078125 11.328125 \nQ 45.015625 15.765625 45.015625 23.390625 \nQ 45.015625 31 40.078125 35.4375 \nQ 35.15625 39.890625 26.703125 39.890625 \nQ 22.75 39.890625 18.8125 39.015625 \nQ 14.890625 38.140625 10.796875 36.28125 \nz\n\" id=\"DejaVuSans-35\"/>\n       <path d=\"M 10.6875 12.40625 \nL 21 12.40625 \nL 21 0 \nL 10.6875 0 \nz\n\" id=\"DejaVuSans-2e\"/>\n      </defs>\n      <g transform=\"translate(27.45925 251.117813)scale(0.14 -0.14)\">\n       <use xlink:href=\"#DejaVuSans-2212\"/>\n       <use x=\"83.789062\" xlink:href=\"#DejaVuSans-35\"/>\n       <use x=\"147.412109\" xlink:href=\"#DejaVuSans-2e\"/>\n       <use x=\"179.199219\" xlink:href=\"#DejaVuSans-30\"/>\n      </g>\n     </g>\n    </g>\n    <g id=\"ytick_2\">\n     <g id=\"line2d_15\">\n      <path clip-path=\"url(#pe49b637592)\" d=\"M 64.955188 216.638906 \nL 440.795187 216.638906 \n\" style=\"fill:none;stroke:#cbcbcb;\"/>\n     </g>\n     <g id=\"line2d_16\"/>\n     <g id=\"text_9\">\n      <!-- −2.5 -->\n      <g transform=\"translate(27.45925 221.957813)scale(0.14 -0.14)\">\n       <use xlink:href=\"#DejaVuSans-2212\"/>\n       <use x=\"83.789062\" xlink:href=\"#DejaVuSans-32\"/>\n       <use x=\"147.412109\" xlink:href=\"#DejaVuSans-2e\"/>\n       <use x=\"179.199219\" xlink:href=\"#DejaVuSans-35\"/>\n      </g>\n     </g>\n    </g>\n    <g id=\"ytick_3\">\n     <g id=\"line2d_17\">\n      <path clip-path=\"url(#pe49b637592)\" d=\"M 64.955188 187.478906 \nL 440.795187 187.478906 \n\" style=\"fill:none;stroke:#cbcbcb;\"/>\n     </g>\n     <g id=\"line2d_18\"/>\n     <g id=\"text_10\">\n      <!-- 0.0 -->\n      <g transform=\"translate(39.190813 192.797813)scale(0.14 -0.14)\">\n       <use xlink:href=\"#DejaVuSans-30\"/>\n       <use x=\"63.623047\" xlink:href=\"#DejaVuSans-2e\"/>\n       <use x=\"95.410156\" xlink:href=\"#DejaVuSans-30\"/>\n      </g>\n     </g>\n    </g>\n    <g id=\"ytick_4\">\n     <g id=\"line2d_19\">\n      <path clip-path=\"url(#pe49b637592)\" d=\"M 64.955188 158.318906 \nL 440.795187 158.318906 \n\" style=\"fill:none;stroke:#cbcbcb;\"/>\n     </g>\n     <g id=\"line2d_20\"/>\n     <g id=\"text_11\">\n      <!-- 2.5 -->\n      <g transform=\"translate(39.190813 163.637813)scale(0.14 -0.14)\">\n       <use xlink:href=\"#DejaVuSans-32\"/>\n       <use x=\"63.623047\" xlink:href=\"#DejaVuSans-2e\"/>\n       <use x=\"95.410156\" xlink:href=\"#DejaVuSans-35\"/>\n      </g>\n     </g>\n    </g>\n    <g id=\"ytick_5\">\n     <g id=\"line2d_21\">\n      <path clip-path=\"url(#pe49b637592)\" d=\"M 64.955188 129.158906 \nL 440.795187 129.158906 \n\" style=\"fill:none;stroke:#cbcbcb;\"/>\n     </g>\n     <g id=\"line2d_22\"/>\n     <g id=\"text_12\">\n      <!-- 5.0 -->\n      <g transform=\"translate(39.190813 134.477813)scale(0.14 -0.14)\">\n       <use xlink:href=\"#DejaVuSans-35\"/>\n       <use x=\"63.623047\" xlink:href=\"#DejaVuSans-2e\"/>\n       <use x=\"95.410156\" xlink:href=\"#DejaVuSans-30\"/>\n      </g>\n     </g>\n    </g>\n    <g id=\"ytick_6\">\n     <g id=\"line2d_23\">\n      <path clip-path=\"url(#pe49b637592)\" d=\"M 64.955188 99.998906 \nL 440.795187 99.998906 \n\" style=\"fill:none;stroke:#cbcbcb;\"/>\n     </g>\n     <g id=\"line2d_24\"/>\n     <g id=\"text_13\">\n      <!-- 7.5 -->\n      <defs>\n       <path d=\"M 8.203125 72.90625 \nL 55.078125 72.90625 \nL 55.078125 68.703125 \nL 28.609375 0 \nL 18.3125 0 \nL 43.21875 64.59375 \nL 8.203125 64.59375 \nz\n\" id=\"DejaVuSans-37\"/>\n      </defs>\n      <g transform=\"translate(39.190813 105.317813)scale(0.14 -0.14)\">\n       <use xlink:href=\"#DejaVuSans-37\"/>\n       <use x=\"63.623047\" xlink:href=\"#DejaVuSans-2e\"/>\n       <use x=\"95.410156\" xlink:href=\"#DejaVuSans-35\"/>\n      </g>\n     </g>\n    </g>\n    <g id=\"ytick_7\">\n     <g id=\"line2d_25\">\n      <path clip-path=\"url(#pe49b637592)\" d=\"M 64.955188 70.838906 \nL 440.795187 70.838906 \n\" style=\"fill:none;stroke:#cbcbcb;\"/>\n     </g>\n     <g id=\"line2d_26\"/>\n     <g id=\"text_14\">\n      <!-- 10.0 -->\n      <g transform=\"translate(30.283313 76.157813)scale(0.14 -0.14)\">\n       <use xlink:href=\"#DejaVuSans-31\"/>\n       <use x=\"63.623047\" xlink:href=\"#DejaVuSans-30\"/>\n       <use x=\"127.246094\" xlink:href=\"#DejaVuSans-2e\"/>\n       <use x=\"159.033203\" xlink:href=\"#DejaVuSans-30\"/>\n      </g>\n     </g>\n    </g>\n    <g id=\"ytick_8\">\n     <g id=\"line2d_27\">\n      <path clip-path=\"url(#pe49b637592)\" d=\"M 64.955188 41.678906 \nL 440.795187 41.678906 \n\" style=\"fill:none;stroke:#cbcbcb;\"/>\n     </g>\n     <g id=\"line2d_28\"/>\n     <g id=\"text_15\">\n      <!-- 12.5 -->\n      <g transform=\"translate(30.283313 46.997813)scale(0.14 -0.14)\">\n       <use xlink:href=\"#DejaVuSans-31\"/>\n       <use x=\"63.623047\" xlink:href=\"#DejaVuSans-32\"/>\n       <use x=\"127.246094\" xlink:href=\"#DejaVuSans-2e\"/>\n       <use x=\"159.033203\" xlink:href=\"#DejaVuSans-35\"/>\n      </g>\n     </g>\n    </g>\n    <g id=\"ytick_9\">\n     <g id=\"line2d_29\">\n      <path clip-path=\"url(#pe49b637592)\" d=\"M 64.955188 12.518906 \nL 440.795187 12.518906 \n\" style=\"fill:none;stroke:#cbcbcb;\"/>\n     </g>\n     <g id=\"line2d_30\"/>\n     <g id=\"text_16\">\n      <!-- 15.0 -->\n      <g transform=\"translate(30.283313 17.837813)scale(0.14 -0.14)\">\n       <use xlink:href=\"#DejaVuSans-31\"/>\n       <use x=\"63.623047\" xlink:href=\"#DejaVuSans-35\"/>\n       <use x=\"127.246094\" xlink:href=\"#DejaVuSans-2e\"/>\n       <use x=\"159.033203\" xlink:href=\"#DejaVuSans-30\"/>\n      </g>\n     </g>\n    </g>\n    <g id=\"text_17\">\n     <!-- Return -->\n     <defs>\n      <path d=\"M 44.390625 34.1875 \nQ 47.5625 33.109375 50.5625 29.59375 \nQ 53.5625 26.078125 56.59375 19.921875 \nL 66.609375 0 \nL 56 0 \nL 46.6875 18.703125 \nQ 43.0625 26.03125 39.671875 28.421875 \nQ 36.28125 30.8125 30.421875 30.8125 \nL 19.671875 30.8125 \nL 19.671875 0 \nL 9.8125 0 \nL 9.8125 72.90625 \nL 32.078125 72.90625 \nQ 44.578125 72.90625 50.734375 67.671875 \nQ 56.890625 62.453125 56.890625 51.90625 \nQ 56.890625 45.015625 53.6875 40.46875 \nQ 50.484375 35.9375 44.390625 34.1875 \nz\nM 19.671875 64.796875 \nL 19.671875 38.921875 \nL 32.078125 38.921875 \nQ 39.203125 38.921875 42.84375 42.21875 \nQ 46.484375 45.515625 46.484375 51.90625 \nQ 46.484375 58.296875 42.84375 61.546875 \nQ 39.203125 64.796875 32.078125 64.796875 \nz\n\" id=\"DejaVuSans-52\"/>\n      <path d=\"M 56.203125 29.59375 \nL 56.203125 25.203125 \nL 14.890625 25.203125 \nQ 15.484375 15.921875 20.484375 11.0625 \nQ 25.484375 6.203125 34.421875 6.203125 \nQ 39.59375 6.203125 44.453125 7.46875 \nQ 49.3125 8.734375 54.109375 11.28125 \nL 54.109375 2.78125 \nQ 49.265625 0.734375 44.1875 -0.34375 \nQ 39.109375 -1.421875 33.890625 -1.421875 \nQ 20.796875 -1.421875 13.15625 6.1875 \nQ 5.515625 13.8125 5.515625 26.8125 \nQ 5.515625 40.234375 12.765625 48.109375 \nQ 20.015625 56 32.328125 56 \nQ 43.359375 56 49.78125 48.890625 \nQ 56.203125 41.796875 56.203125 29.59375 \nz\nM 47.21875 32.234375 \nQ 47.125 39.59375 43.09375 43.984375 \nQ 39.0625 48.390625 32.421875 48.390625 \nQ 24.90625 48.390625 20.390625 44.140625 \nQ 15.875 39.890625 15.1875 32.171875 \nz\n\" id=\"DejaVuSans-65\"/>\n      <path d=\"M 8.5 21.578125 \nL 8.5 54.6875 \nL 17.484375 54.6875 \nL 17.484375 21.921875 \nQ 17.484375 14.15625 20.5 10.265625 \nQ 23.53125 6.390625 29.59375 6.390625 \nQ 36.859375 6.390625 41.078125 11.03125 \nQ 45.3125 15.671875 45.3125 23.6875 \nL 45.3125 54.6875 \nL 54.296875 54.6875 \nL 54.296875 0 \nL 45.3125 0 \nL 45.3125 8.40625 \nQ 42.046875 3.421875 37.71875 1 \nQ 33.40625 -1.421875 27.6875 -1.421875 \nQ 18.265625 -1.421875 13.375 4.4375 \nQ 8.5 10.296875 8.5 21.578125 \nz\nM 31.109375 56 \nz\n\" id=\"DejaVuSans-75\"/>\n      <path d=\"M 41.109375 46.296875 \nQ 39.59375 47.171875 37.8125 47.578125 \nQ 36.03125 48 33.890625 48 \nQ 26.265625 48 22.1875 43.046875 \nQ 18.109375 38.09375 18.109375 28.8125 \nL 18.109375 0 \nL 9.078125 0 \nL 9.078125 54.6875 \nL 18.109375 54.6875 \nL 18.109375 46.1875 \nQ 20.953125 51.171875 25.484375 53.578125 \nQ 30.03125 56 36.53125 56 \nQ 37.453125 56 38.578125 55.875 \nQ 39.703125 55.765625 41.0625 55.515625 \nz\n\" id=\"DejaVuSans-72\"/>\n      <path d=\"M 54.890625 33.015625 \nL 54.890625 0 \nL 45.90625 0 \nL 45.90625 32.71875 \nQ 45.90625 40.484375 42.875 44.328125 \nQ 39.84375 48.1875 33.796875 48.1875 \nQ 26.515625 48.1875 22.3125 43.546875 \nQ 18.109375 38.921875 18.109375 30.90625 \nL 18.109375 0 \nL 9.078125 0 \nL 9.078125 54.6875 \nL 18.109375 54.6875 \nL 18.109375 46.1875 \nQ 21.34375 51.125 25.703125 53.5625 \nQ 30.078125 56 35.796875 56 \nQ 45.21875 56 50.046875 50.171875 \nQ 54.890625 44.34375 54.890625 33.015625 \nz\n\" id=\"DejaVuSans-6e\"/>\n     </defs>\n     <g transform=\"translate(19.965375 157.550906)rotate(-90)scale(0.168 -0.168)\">\n      <use xlink:href=\"#DejaVuSans-52\"/>\n      <use x=\"69.419922\" xlink:href=\"#DejaVuSans-65\"/>\n      <use x=\"130.943359\" xlink:href=\"#DejaVuSans-74\"/>\n      <use x=\"170.152344\" xlink:href=\"#DejaVuSans-75\"/>\n      <use x=\"233.53125\" xlink:href=\"#DejaVuSans-72\"/>\n      <use x=\"274.628906\" xlink:href=\"#DejaVuSans-6e\"/>\n     </g>\n    </g>\n   </g>\n   <g id=\"PathCollection_1\">\n    <defs>\n     <path d=\"M 0 5.477226 \nC 1.452577 5.477226 2.845856 4.900111 3.872983 3.872983 \nC 4.900111 2.845856 5.477226 1.452577 5.477226 0 \nC 5.477226 -1.452577 4.900111 -2.845856 3.872983 -3.872983 \nC 2.845856 -4.900111 1.452577 -5.477226 0 -5.477226 \nC -1.452577 -5.477226 -2.845856 -4.900111 -3.872983 -3.872983 \nC -4.900111 -2.845856 -5.477226 -1.452577 -5.477226 0 \nC -5.477226 1.452577 -4.900111 2.845856 -3.872983 3.872983 \nC -2.845856 4.900111 -1.452577 5.477226 0 5.477226 \nz\n\" id=\"m9e134f961a\" style=\"stroke:#008fd5;stroke-width:0.5;\"/>\n    </defs>\n    <g clip-path=\"url(#pe49b637592)\">\n     <use style=\"fill:#008fd5;stroke:#008fd5;stroke-width:0.5;\" x=\"548.566242\" xlink:href=\"#m9e134f961a\" y=\"44.357763\"/>\n     <use style=\"fill:#008fd5;stroke:#008fd5;stroke-width:0.5;\" x=\"510.455879\" xlink:href=\"#m9e134f961a\" y=\"49.663067\"/>\n    </g>\n   </g>\n   <g id=\"patch_3\">\n    <path d=\"M 64.955188 245.798906 \nL 64.955188 12.518906 \n\" style=\"fill:none;stroke:#f0f0f0;stroke-linecap:square;stroke-linejoin:miter;stroke-width:3;\"/>\n   </g>\n   <g id=\"patch_4\">\n    <path d=\"M 440.795187 245.798906 \nL 440.795187 12.518906 \n\" style=\"fill:none;stroke:#f0f0f0;stroke-linecap:square;stroke-linejoin:miter;stroke-width:3;\"/>\n   </g>\n   <g id=\"patch_5\">\n    <path d=\"M 64.955188 245.798906 \nL 440.795187 245.798906 \n\" style=\"fill:none;stroke:#f0f0f0;stroke-linecap:square;stroke-linejoin:miter;stroke-width:3;\"/>\n   </g>\n   <g id=\"patch_6\">\n    <path d=\"M 64.955188 12.518906 \nL 440.795187 12.518906 \n\" style=\"fill:none;stroke:#f0f0f0;stroke-linecap:square;stroke-linejoin:miter;stroke-width:3;\"/>\n   </g>\n  </g>\n </g>\n <defs>\n  <clipPath id=\"pe49b637592\">\n   <rect height=\"233.28\" width=\"375.84\" x=\"64.955188\" y=\"12.518906\"/>\n  </clipPath>\n </defs>\n</svg>\n",
      "image/png": "[encoded data removed]"
     },
     "metadata": {}
    }
   ],
   "source": [
    "plt.style.use('fivethirtyeight')\n",
    "scatter = df_results.iloc[:,[0,1]]\n",
    "scatter_plot = scatter.plot.scatter(x=\"Volatility\", y= \"Return\", s=[120])\n",
    "plt.xlim(3, 15)\n",
    "plt.ylim(-5, 15)\n",
    "scatter_plot"
   ]
  },
  {
   "cell_type": "markdown",
   "metadata": {},
   "source": [
    "ANÁLISIS DE SUBYACENTES"
   ]
  },
  {
   "cell_type": "code",
   "execution_count": 36,
   "metadata": {},
   "outputs": [
    {
     "data": {
      "text/plain": [
       "Symbols\n",
       "VCSH    0.281\n",
       "HYG     0.820\n",
       "LQD     0.863\n",
       "AGG     0.360\n",
       "VCIT    0.653\n",
       "ANGL    1.650\n",
       "ACWI    2.398\n",
       "MOAT    2.557\n",
       "EFA     2.634\n",
       "SPY     1.929\n",
       "SPHQ    1.778\n",
       "EEM     2.653\n",
       "XLF     3.144\n",
       "EMQQ    2.356\n",
       "VB      4.254\n",
       "CEF     1.399\n",
       "dtype: float64"
      ]
     },
     "execution_count": 36,
     "metadata": {},
     "output_type": "execute_result"
    }
   ],
   "source": [
    "evolucion = (1 + retornos_port).cumprod()*100\n",
    "ultimo = evolucion.iloc[-1]\n",
    "tres_años = evolucion.iloc[-37] # agarra la fila de tres años para atrás SIEMPRE\n",
    "cinco_años = evolucion.iloc[-61] # idem con la de 5\n",
    "\n",
    "ret_3yr = ((ultimo / tres_años).pow(1/3)-1)*100 \n",
    "ret_5yr = ((ultimo / cinco_años).pow(1/5)-1)*100\n",
    "ret_3yr"
   ]
  },
  {
   "cell_type": "code",
   "execution_count": 37,
   "metadata": {},
   "outputs": [
    {
     "data": {
      "text/plain": [
       "Symbols\n",
       "VCSH    0.184\n",
       "HYG     0.938\n",
       "LQD     1.032\n",
       "AGG     0.572\n",
       "VCIT    0.559\n",
       "ANGL    1.126\n",
       "ACWI    2.483\n",
       "MOAT    3.611\n",
       "EFA     3.378\n",
       "SPY     2.455\n",
       "SPHQ    2.202\n",
       "EEM     3.411\n",
       "XLF     6.160\n",
       "EMQQ    6.533\n",
       "VB      3.706\n",
       "CEF     5.281\n",
       "dtype: float64"
      ]
     },
     "execution_count": 37,
     "metadata": {},
     "output_type": "execute_result"
    }
   ],
   "source": [
    "df_3yr = retornos_port.iloc[-37:-1, :]\n",
    "df_5yr = retornos_port.iloc[-61:-1, :]\n",
    "\n",
    "standard_3yr = df_3yr.std() * np.sqrt(12)*100\n",
    "standard_5yr = df_5yr.std() * np.sqrt(12)*100\n",
    "standard_3yr"
   ]
  },
  {
   "cell_type": "code",
   "execution_count": 38,
   "metadata": {},
   "outputs": [],
   "source": [
    "risk_free_3yr = 2 # acá se puede establecer un valor o calcularla desde un Excel\n",
    "risk_free_5yr = 1.5"
   ]
  },
  {
   "cell_type": "code",
   "execution_count": 39,
   "metadata": {},
   "outputs": [],
   "source": [
    "sharpe_3yr = (ret_3yr - risk_free_3yr) / standard_3yr\n",
    "sharpe_3yr\n",
    "sharpe_5yr = (ret_5yr - risk_free_5yr) / standard_5yr\n",
    "#sharpe_5yr"
   ]
  },
  {
   "cell_type": "code",
   "execution_count": 40,
   "metadata": {},
   "outputs": [],
   "source": [
    "rolling_max = evolucion.rolling(min_periods = 1, window = 60).max() #me agarra el maximo\n",
    "monthly_drawdown = evolucion / rolling_max - 1\n",
    "monthly_drawdown*100\n",
    "drawdowns = monthly_drawdown.min() * 100\n",
    "#drawdowns"
   ]
  },
  {
   "cell_type": "code",
   "execution_count": 21,
   "metadata": {},
   "outputs": [
    {
     "data": {
      "text/html": [
       "<div>\n",
       "<style scoped>\n",
       "    .dataframe tbody tr th:only-of-type {\n",
       "        vertical-align: middle;\n",
       "    }\n",
       "\n",
       "    .dataframe tbody tr th {\n",
       "        vertical-align: top;\n",
       "    }\n",
       "\n",
       "    .dataframe thead th {\n",
       "        text-align: right;\n",
       "    }\n",
       "</style>\n",
       "<table border=\"1\" class=\"dataframe\">\n",
       "  <thead>\n",
       "    <tr style=\"text-align: right;\">\n",
       "      <th></th>\n",
       "      <th>Return 3yr</th>\n",
       "      <th>Return 5yr</th>\n",
       "      <th>Standard 3yr</th>\n",
       "      <th>Standard 5yr</th>\n",
       "      <th>Sharpe 3yr</th>\n",
       "      <th>Sharpe 5 yr</th>\n",
       "      <th>Maximum Drawdown</th>\n",
       "    </tr>\n",
       "    <tr>\n",
       "      <th>Symbols</th>\n",
       "      <th></th>\n",
       "      <th></th>\n",
       "      <th></th>\n",
       "      <th></th>\n",
       "      <th></th>\n",
       "      <th></th>\n",
       "      <th></th>\n",
       "    </tr>\n",
       "  </thead>\n",
       "  <tbody>\n",
       "    <tr>\n",
       "      <th>VCSH</th>\n",
       "      <td>0.28</td>\n",
       "      <td>0.21</td>\n",
       "      <td>0.18</td>\n",
       "      <td>0.20</td>\n",
       "      <td>-9.34</td>\n",
       "      <td>-6.58</td>\n",
       "      <td>-12.86</td>\n",
       "    </tr>\n",
       "    <tr>\n",
       "      <th>HYG</th>\n",
       "      <td>0.82</td>\n",
       "      <td>0.96</td>\n",
       "      <td>0.94</td>\n",
       "      <td>1.20</td>\n",
       "      <td>-1.26</td>\n",
       "      <td>-0.45</td>\n",
       "      <td>-22.03</td>\n",
       "    </tr>\n",
       "    <tr>\n",
       "      <th>LQD</th>\n",
       "      <td>0.86</td>\n",
       "      <td>0.70</td>\n",
       "      <td>1.03</td>\n",
       "      <td>1.21</td>\n",
       "      <td>-1.10</td>\n",
       "      <td>-0.67</td>\n",
       "      <td>-21.76</td>\n",
       "    </tr>\n",
       "    <tr>\n",
       "      <th>AGG</th>\n",
       "      <td>0.36</td>\n",
       "      <td>0.19</td>\n",
       "      <td>0.57</td>\n",
       "      <td>0.61</td>\n",
       "      <td>-2.87</td>\n",
       "      <td>-2.14</td>\n",
       "      <td>-9.58</td>\n",
       "    </tr>\n",
       "    <tr>\n",
       "      <th>VCIT</th>\n",
       "      <td>0.65</td>\n",
       "      <td>0.46</td>\n",
       "      <td>0.56</td>\n",
       "      <td>0.69</td>\n",
       "      <td>-2.41</td>\n",
       "      <td>-1.50</td>\n",
       "      <td>-16.86</td>\n",
       "    </tr>\n",
       "    <tr>\n",
       "      <th>ANGL</th>\n",
       "      <td>1.65</td>\n",
       "      <td>1.68</td>\n",
       "      <td>1.13</td>\n",
       "      <td>1.32</td>\n",
       "      <td>-0.31</td>\n",
       "      <td>0.14</td>\n",
       "      <td>-29.31</td>\n",
       "    </tr>\n",
       "    <tr>\n",
       "      <th>ACWI</th>\n",
       "      <td>2.40</td>\n",
       "      <td>2.61</td>\n",
       "      <td>2.48</td>\n",
       "      <td>3.30</td>\n",
       "      <td>0.16</td>\n",
       "      <td>0.34</td>\n",
       "      <td>-33.53</td>\n",
       "    </tr>\n",
       "    <tr>\n",
       "      <th>MOAT</th>\n",
       "      <td>2.56</td>\n",
       "      <td>2.69</td>\n",
       "      <td>3.61</td>\n",
       "      <td>3.96</td>\n",
       "      <td>0.15</td>\n",
       "      <td>0.30</td>\n",
       "      <td>-33.31</td>\n",
       "    </tr>\n",
       "    <tr>\n",
       "      <th>EFA</th>\n",
       "      <td>2.63</td>\n",
       "      <td>2.80</td>\n",
       "      <td>3.38</td>\n",
       "      <td>3.77</td>\n",
       "      <td>0.19</td>\n",
       "      <td>0.34</td>\n",
       "      <td>-33.93</td>\n",
       "    </tr>\n",
       "    <tr>\n",
       "      <th>SPY</th>\n",
       "      <td>1.93</td>\n",
       "      <td>2.31</td>\n",
       "      <td>2.45</td>\n",
       "      <td>3.51</td>\n",
       "      <td>-0.03</td>\n",
       "      <td>0.23</td>\n",
       "      <td>-33.72</td>\n",
       "    </tr>\n",
       "    <tr>\n",
       "      <th>SPHQ</th>\n",
       "      <td>1.78</td>\n",
       "      <td>1.84</td>\n",
       "      <td>2.20</td>\n",
       "      <td>3.36</td>\n",
       "      <td>-0.10</td>\n",
       "      <td>0.10</td>\n",
       "      <td>-31.59</td>\n",
       "    </tr>\n",
       "    <tr>\n",
       "      <th>EEM</th>\n",
       "      <td>2.65</td>\n",
       "      <td>3.17</td>\n",
       "      <td>3.41</td>\n",
       "      <td>3.58</td>\n",
       "      <td>0.19</td>\n",
       "      <td>0.47</td>\n",
       "      <td>-33.89</td>\n",
       "    </tr>\n",
       "    <tr>\n",
       "      <th>XLF</th>\n",
       "      <td>3.14</td>\n",
       "      <td>3.92</td>\n",
       "      <td>6.16</td>\n",
       "      <td>5.78</td>\n",
       "      <td>0.19</td>\n",
       "      <td>0.42</td>\n",
       "      <td>-42.86</td>\n",
       "    </tr>\n",
       "    <tr>\n",
       "      <th>EMQQ</th>\n",
       "      <td>2.36</td>\n",
       "      <td>3.78</td>\n",
       "      <td>6.53</td>\n",
       "      <td>6.54</td>\n",
       "      <td>0.05</td>\n",
       "      <td>0.35</td>\n",
       "      <td>-28.49</td>\n",
       "    </tr>\n",
       "    <tr>\n",
       "      <th>VB</th>\n",
       "      <td>4.25</td>\n",
       "      <td>4.11</td>\n",
       "      <td>3.71</td>\n",
       "      <td>4.14</td>\n",
       "      <td>0.61</td>\n",
       "      <td>0.63</td>\n",
       "      <td>-42.05</td>\n",
       "    </tr>\n",
       "    <tr>\n",
       "      <th>CEF</th>\n",
       "      <td>1.40</td>\n",
       "      <td>0.96</td>\n",
       "      <td>5.28</td>\n",
       "      <td>5.05</td>\n",
       "      <td>-0.11</td>\n",
       "      <td>-0.11</td>\n",
       "      <td>-21.69</td>\n",
       "    </tr>\n",
       "  </tbody>\n",
       "</table>\n",
       "</div>"
      ],
      "text/plain": [
       "         Return 3yr  Return 5yr  Standard 3yr  Standard 5yr  Sharpe 3yr  \\\n",
       "Symbols                                                                   \n",
       "VCSH           0.28        0.21          0.18          0.20       -9.34   \n",
       "HYG            0.82        0.96          0.94          1.20       -1.26   \n",
       "LQD            0.86        0.70          1.03          1.21       -1.10   \n",
       "AGG            0.36        0.19          0.57          0.61       -2.87   \n",
       "VCIT           0.65        0.46          0.56          0.69       -2.41   \n",
       "ANGL           1.65        1.68          1.13          1.32       -0.31   \n",
       "ACWI           2.40        2.61          2.48          3.30        0.16   \n",
       "MOAT           2.56        2.69          3.61          3.96        0.15   \n",
       "EFA            2.63        2.80          3.38          3.77        0.19   \n",
       "SPY            1.93        2.31          2.45          3.51       -0.03   \n",
       "SPHQ           1.78        1.84          2.20          3.36       -0.10   \n",
       "EEM            2.65        3.17          3.41          3.58        0.19   \n",
       "XLF            3.14        3.92          6.16          5.78        0.19   \n",
       "EMQQ           2.36        3.78          6.53          6.54        0.05   \n",
       "VB             4.25        4.11          3.71          4.14        0.61   \n",
       "CEF            1.40        0.96          5.28          5.05       -0.11   \n",
       "\n",
       "         Sharpe 5 yr  Maximum Drawdown  \n",
       "Symbols                                 \n",
       "VCSH           -6.58            -12.86  \n",
       "HYG            -0.45            -22.03  \n",
       "LQD            -0.67            -21.76  \n",
       "AGG            -2.14             -9.58  \n",
       "VCIT           -1.50            -16.86  \n",
       "ANGL            0.14            -29.31  \n",
       "ACWI            0.34            -33.53  \n",
       "MOAT            0.30            -33.31  \n",
       "EFA             0.34            -33.93  \n",
       "SPY             0.23            -33.72  \n",
       "SPHQ            0.10            -31.59  \n",
       "EEM             0.47            -33.89  \n",
       "XLF             0.42            -42.86  \n",
       "EMQQ            0.35            -28.49  \n",
       "VB              0.63            -42.05  \n",
       "CEF            -0.11            -21.69  "
      ]
     },
     "execution_count": 21,
     "metadata": {},
     "output_type": "execute_result"
    }
   ],
   "source": [
    "new_df = retornos_port.iloc[0:0] #me creo un dataframe vacío, solo con los títulos\n",
    "output = [ret_3yr, ret_5yr, standard_3yr, standard_5yr, sharpe_3yr, sharpe_5yr, drawdowns] # me armo una lista de los datos calculados\n",
    "new_df = new_df.append(output, ignore_index=True)\n",
    "new_df.rename(index = {0:\"Return 3yr\", 1:\"Return 5yr\", 2:\"Standard 3yr\", 3:\"Standard 5yr\", 4:\"Sharpe 3yr\", 5:\"Sharpe 5 yr\", 6:\"Maximum Drawdown\"}, inplace=True)\n",
    "new_df = new_df.transpose().round(2)\n",
    "new_df"
   ]
  },
  {
   "cell_type": "code",
   "execution_count": 44,
   "metadata": {},
   "outputs": [
    {
     "ename": "ModuleNotFoundError",
     "evalue": "No module named 'pypfopt'",
     "output_type": "error",
     "traceback": [
      "\u001b[1;31m---------------------------------------------------------------------------\u001b[0m",
      "\u001b[1;31mModuleNotFoundError\u001b[0m                       Traceback (most recent call last)",
      "\u001b[1;32m<ipython-input-44-28be91fd4ea8>\u001b[0m in \u001b[0;36m<module>\u001b[1;34m\u001b[0m\n\u001b[0;32m      1\u001b[0m \u001b[1;32mimport\u001b[0m \u001b[0mpyfolio\u001b[0m \u001b[1;32mas\u001b[0m \u001b[0mpf\u001b[0m\u001b[1;33m\u001b[0m\u001b[1;33m\u001b[0m\u001b[0m\n\u001b[1;32m----> 2\u001b[1;33m \u001b[1;32mfrom\u001b[0m \u001b[0mpypfopt\u001b[0m\u001b[1;33m.\u001b[0m\u001b[0mefficient_frontier\u001b[0m \u001b[1;32mimport\u001b[0m \u001b[0mEfficientFrontier\u001b[0m\u001b[1;33m\u001b[0m\u001b[1;33m\u001b[0m\u001b[0m\n\u001b[0m\u001b[0;32m      3\u001b[0m \u001b[1;32mfrom\u001b[0m \u001b[0mpypfopt\u001b[0m \u001b[1;32mimport\u001b[0m \u001b[0mrisk_models\u001b[0m\u001b[1;33m\u001b[0m\u001b[1;33m\u001b[0m\u001b[0m\n\u001b[0;32m      4\u001b[0m \u001b[1;32mfrom\u001b[0m \u001b[0mpypfopt\u001b[0m \u001b[1;32mimport\u001b[0m \u001b[0mexpected_returns\u001b[0m\u001b[1;33m\u001b[0m\u001b[1;33m\u001b[0m\u001b[0m\n\u001b[0;32m      5\u001b[0m \u001b[1;32mimport\u001b[0m \u001b[0mnumpy\u001b[0m \u001b[1;32mas\u001b[0m \u001b[0mnp\u001b[0m\u001b[1;33m\u001b[0m\u001b[1;33m\u001b[0m\u001b[0m\n",
      "\u001b[1;31mModuleNotFoundError\u001b[0m: No module named 'pypfopt'"
     ]
    }
   ],
   "source": [
    "import pyfolio as pf\n",
    "from pypfopt.efficient_frontier import EfficientFrontier\n",
    "from pypfopt import risk_models\n",
    "from pypfopt import expected_returns\n",
    "import numpy as np\n",
    "import pandas as pd\n",
    "from pypfopt.cla import CLA\n",
    "from pypfopt import plotting\n",
    "from matplotlib.ticker import FuncFormatter"
   ]
  },
  {
   "cell_type": "code",
   "execution_count": null,
   "metadata": {},
   "outputs": [],
   "source": [
    "df1 = evolucion\n",
    "df1"
   ]
  },
  {
   "cell_type": "code",
   "execution_count": null,
   "metadata": {},
   "outputs": [],
   "source": [
    "mu = expected_returns.mean_historical_return(df1, frequency=252)\n",
    "Sigma = risk_models.sample_cov(df1, frequency=252)"
   ]
  },
  {
   "cell_type": "code",
   "execution_count": null,
   "metadata": {},
   "outputs": [],
   "source": [
    "ef = EfficientFrontier(mu, Sigma,  weight_bounds=(0.02, 0.15))\n",
    "ef"
   ]
  },
  {
   "cell_type": "code",
   "execution_count": null,
   "metadata": {},
   "outputs": [],
   "source": [
    "ef.max_sharpe()"
   ]
  },
  {
   "cell_type": "code",
   "execution_count": null,
   "metadata": {},
   "outputs": [],
   "source": [
    "cleaned_weights = ef.clean_weights(cutoff=0.01, rounding = 2)\n",
    "cleaned_weights"
   ]
  },
  {
   "cell_type": "code",
   "execution_count": null,
   "metadata": {},
   "outputs": [],
   "source": [
    "ef.portfolio_performance(verbose=True)"
   ]
  },
  {
   "cell_type": "code",
   "execution_count": null,
   "metadata": {},
   "outputs": [],
   "source": [
    "cla = CLA(mu, Sigma)\n",
    "ax = plotting.plot_efficient_frontier(cla, showfig = False, show_assets = True)\n",
    "ax.xaxis.set_major_formatter(FuncFormatter(lambda x, _: '{:.0%}'.format(x)))\n",
    "ax.yaxis.set_major_formatter(FuncFormatter(lambda y, _: '{:.0%}'.format(y)))"
   ]
  },
  {
   "cell_type": "code",
   "execution_count": null,
   "metadata": {},
   "outputs": [],
   "source": [
    "trancar"
   ]
  },
  {
   "cell_type": "code",
   "execution_count": null,
   "metadata": {},
   "outputs": [],
   "source": [
    "def multiple_dfs(df_list, sheets, file_name, spaces):\n",
    "    writer = pd.ExcelWriter(file_name,engine='xlsxwriter')   \n",
    "    row = 0\n",
    "    for dataframe in df_list:\n",
    "        dataframe.to_excel(writer,sheet_name=sheets,startrow=row , startcol=0)   \n",
    "        row = row + len(dataframe.index) + spaces + 1\n",
    "    writer.save()\n",
    "\n",
    "# list of dataframes\n",
    "dfs = [df_results, new_df, correlations]\n",
    "\n",
    "# run function\n",
    "multiple_dfs(dfs, 'Validation', 'resultados.xlsx', 1)"
   ]
  },
  {
   "cell_type": "code",
   "execution_count": null,
   "metadata": {},
   "outputs": [],
   "source": [
    "from pd2ppt import df_to_powerpoint\n",
    "import pandas as pd\n",
    "\n",
    "df = pd.DataFrame(\n",
    "    {'District':['Hampshire', 'Dorset', 'Wiltshire', 'Worcestershire'],\n",
    "     'Population':[25000, 500000, 735298, 12653],\n",
    "     'Ratio':[1.56, 7.34, 3.67, 8.23]})\n",
    "\n",
    "df_to_powerpoint(\n",
    "    r\"C:\\Code\\Powerpoint\\test58.pptx\", df, col_formatters=['', ',', '.2'],\n",
    "    rounding=['', 3, ''])"
   ]
  },
  {
   "cell_type": "code",
   "execution_count": null,
   "metadata": {},
   "outputs": [],
   "source": []
  },
  {
   "cell_type": "code",
   "execution_count": null,
   "metadata": {},
   "outputs": [],
   "source": []
  },
  {
   "cell_type": "code",
   "execution_count": null,
   "metadata": {},
   "outputs": [],
   "source": []
  },
  {
   "cell_type": "code",
   "execution_count": null,
   "metadata": {},
   "outputs": [],
   "source": []
  },
  {
   "cell_type": "code",
   "execution_count": null,
   "metadata": {},
   "outputs": [],
   "source": []
  },
  {
   "cell_type": "code",
   "execution_count": null,
   "metadata": {},
   "outputs": [],
   "source": []
  }
 ],
 "metadata": {
  "kernelspec": {
   "name": "python369jvsc74a57bd031f2aee4e71d21fbe5cf8b01ff0e069b9275f58929596ceb00d14d90e3e16cd6",
   "display_name": "Python 3.6.9 64-bit"
  },
  "language_info": {
   "codemirror_mode": {
    "name": "ipython",
    "version": 3
   },
   "file_extension": ".py",
   "mimetype": "text/x-python",
   "name": "python",
   "nbconvert_exporter": "python",
   "pygments_lexer": "ipython3",
   "version": "3.6.9"
  },
  "metadata": {
   "interpreter": {
    "hash": "31f2aee4e71d21fbe5cf8b01ff0e069b9275f58929596ceb00d14d90e3e16cd6"
   }
  }
 },
 "nbformat": 4,
 "nbformat_minor": 4
}